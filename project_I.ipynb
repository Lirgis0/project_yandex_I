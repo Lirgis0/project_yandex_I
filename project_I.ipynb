{
  "cells": [
    {
      "cell_type": "markdown",
      "metadata": {
        "id": "view-in-github",
        "colab_type": "text"
      },
      "source": [
        "<a href=\"https://colab.research.google.com/github/Lirgis0/project_yandex_I/blob/main/project_I.ipynb\" target=\"_parent\"><img src=\"https://colab.research.google.com/assets/colab-badge.svg\" alt=\"Open In Colab\"/></a>"
      ]
    },
    {
      "cell_type": "code",
      "execution_count": null,
      "metadata": {
        "id": "ppANG2TO1uqV"
      },
      "outputs": [],
      "source": []
    },
    {
      "cell_type": "code",
      "execution_count": null,
      "metadata": {
        "id": "o2V9sAgfkdO3"
      },
      "outputs": [],
      "source": [
        "import pandas as pd\n",
        "import seaborn as sns\n",
        "import matplotlib.pyplot as plt\n",
        "import numpy as np\n",
        "from scipy import stats as st"
      ]
    },
    {
      "cell_type": "markdown",
      "metadata": {
        "id": "DRkTJz_5yztU"
      },
      "source": [
        "# Предобработка данных"
      ]
    },
    {
      "cell_type": "code",
      "execution_count": null,
      "metadata": {
        "id": "JLwRgUmuk6Ck"
      },
      "outputs": [],
      "source": [
        "df = pd.read_csv('/datasets/games.csv')"
      ]
    },
    {
      "cell_type": "code",
      "execution_count": null,
      "metadata": {
        "colab": {
          "base_uri": "https://localhost:8080/",
          "height": 206
        },
        "id": "lLJINynJlVeO",
        "outputId": "0fad5499-9dd0-4c59-8d20-651166fbf313"
      },
      "outputs": [
        {
          "data": {
            "text/html": [
              "<div>\n",
              "<style scoped>\n",
              "    .dataframe tbody tr th:only-of-type {\n",
              "        vertical-align: middle;\n",
              "    }\n",
              "\n",
              "    .dataframe tbody tr th {\n",
              "        vertical-align: top;\n",
              "    }\n",
              "\n",
              "    .dataframe thead th {\n",
              "        text-align: right;\n",
              "    }\n",
              "</style>\n",
              "<table border=\"1\" class=\"dataframe\">\n",
              "  <thead>\n",
              "    <tr style=\"text-align: right;\">\n",
              "      <th></th>\n",
              "      <th>Name</th>\n",
              "      <th>Platform</th>\n",
              "      <th>Year_of_Release</th>\n",
              "      <th>Genre</th>\n",
              "      <th>NA_sales</th>\n",
              "      <th>EU_sales</th>\n",
              "      <th>JP_sales</th>\n",
              "      <th>Other_sales</th>\n",
              "      <th>Critic_Score</th>\n",
              "      <th>User_Score</th>\n",
              "      <th>Rating</th>\n",
              "    </tr>\n",
              "  </thead>\n",
              "  <tbody>\n",
              "    <tr>\n",
              "      <th>0</th>\n",
              "      <td>Wii Sports</td>\n",
              "      <td>Wii</td>\n",
              "      <td>2006.0</td>\n",
              "      <td>Sports</td>\n",
              "      <td>41.36</td>\n",
              "      <td>28.96</td>\n",
              "      <td>3.77</td>\n",
              "      <td>8.45</td>\n",
              "      <td>76.0</td>\n",
              "      <td>8</td>\n",
              "      <td>E</td>\n",
              "    </tr>\n",
              "    <tr>\n",
              "      <th>1</th>\n",
              "      <td>Super Mario Bros.</td>\n",
              "      <td>NES</td>\n",
              "      <td>1985.0</td>\n",
              "      <td>Platform</td>\n",
              "      <td>29.08</td>\n",
              "      <td>3.58</td>\n",
              "      <td>6.81</td>\n",
              "      <td>0.77</td>\n",
              "      <td>NaN</td>\n",
              "      <td>NaN</td>\n",
              "      <td>NaN</td>\n",
              "    </tr>\n",
              "    <tr>\n",
              "      <th>2</th>\n",
              "      <td>Mario Kart Wii</td>\n",
              "      <td>Wii</td>\n",
              "      <td>2008.0</td>\n",
              "      <td>Racing</td>\n",
              "      <td>15.68</td>\n",
              "      <td>12.76</td>\n",
              "      <td>3.79</td>\n",
              "      <td>3.29</td>\n",
              "      <td>82.0</td>\n",
              "      <td>8.3</td>\n",
              "      <td>E</td>\n",
              "    </tr>\n",
              "    <tr>\n",
              "      <th>3</th>\n",
              "      <td>Wii Sports Resort</td>\n",
              "      <td>Wii</td>\n",
              "      <td>2009.0</td>\n",
              "      <td>Sports</td>\n",
              "      <td>15.61</td>\n",
              "      <td>10.93</td>\n",
              "      <td>3.28</td>\n",
              "      <td>2.95</td>\n",
              "      <td>80.0</td>\n",
              "      <td>8</td>\n",
              "      <td>E</td>\n",
              "    </tr>\n",
              "    <tr>\n",
              "      <th>4</th>\n",
              "      <td>Pokemon Red/Pokemon Blue</td>\n",
              "      <td>GB</td>\n",
              "      <td>1996.0</td>\n",
              "      <td>Role-Playing</td>\n",
              "      <td>11.27</td>\n",
              "      <td>8.89</td>\n",
              "      <td>10.22</td>\n",
              "      <td>1.00</td>\n",
              "      <td>NaN</td>\n",
              "      <td>NaN</td>\n",
              "      <td>NaN</td>\n",
              "    </tr>\n",
              "  </tbody>\n",
              "</table>\n",
              "</div>"
            ],
            "text/plain": [
              "                       Name Platform  Year_of_Release         Genre  NA_sales  \\\n",
              "0                Wii Sports      Wii           2006.0        Sports     41.36   \n",
              "1         Super Mario Bros.      NES           1985.0      Platform     29.08   \n",
              "2            Mario Kart Wii      Wii           2008.0        Racing     15.68   \n",
              "3         Wii Sports Resort      Wii           2009.0        Sports     15.61   \n",
              "4  Pokemon Red/Pokemon Blue       GB           1996.0  Role-Playing     11.27   \n",
              "\n",
              "   EU_sales  JP_sales  Other_sales  Critic_Score User_Score Rating  \n",
              "0     28.96      3.77         8.45          76.0          8      E  \n",
              "1      3.58      6.81         0.77           NaN        NaN    NaN  \n",
              "2     12.76      3.79         3.29          82.0        8.3      E  \n",
              "3     10.93      3.28         2.95          80.0          8      E  \n",
              "4      8.89     10.22         1.00           NaN        NaN    NaN  "
            ]
          },
          "execution_count": 3,
          "metadata": {},
          "output_type": "execute_result"
        }
      ],
      "source": [
        "df.head()"
      ]
    },
    {
      "cell_type": "markdown",
      "metadata": {
        "id": "XzKT2qlTItmf"
      },
      "source": [
        "Переименовываем колонки"
      ]
    },
    {
      "cell_type": "code",
      "execution_count": null,
      "metadata": {
        "id": "bGmP4Z3IlXZo"
      },
      "outputs": [],
      "source": [
        "df = df.rename(columns = {'Name':'name', 'Platform':'platform', 'Year_of_Release':'year_of_release', 'Genre':'genre', \n",
        "                          'NA_sales':'na_sales', 'EU_sales':'eu_sales', 'JP_sales':'jp_sales', 'Other_sales':'other_sales',\n",
        "                          'Critic_Score':'critic_score', 'User_Score':'user_score', 'Rating':'rating'})"
      ]
    },
    {
      "cell_type": "code",
      "execution_count": null,
      "metadata": {
        "colab": {
          "base_uri": "https://localhost:8080/",
          "height": 206
        },
        "id": "e6EbSR5DnbJn",
        "outputId": "e6ebeeff-38da-4c6f-fe70-cd0307d0784b"
      },
      "outputs": [
        {
          "data": {
            "text/html": [
              "<div>\n",
              "<style scoped>\n",
              "    .dataframe tbody tr th:only-of-type {\n",
              "        vertical-align: middle;\n",
              "    }\n",
              "\n",
              "    .dataframe tbody tr th {\n",
              "        vertical-align: top;\n",
              "    }\n",
              "\n",
              "    .dataframe thead th {\n",
              "        text-align: right;\n",
              "    }\n",
              "</style>\n",
              "<table border=\"1\" class=\"dataframe\">\n",
              "  <thead>\n",
              "    <tr style=\"text-align: right;\">\n",
              "      <th></th>\n",
              "      <th>name</th>\n",
              "      <th>platform</th>\n",
              "      <th>year_of_release</th>\n",
              "      <th>genre</th>\n",
              "      <th>na_sales</th>\n",
              "      <th>eu_sales</th>\n",
              "      <th>jp_sales</th>\n",
              "      <th>other_sales</th>\n",
              "      <th>critic_score</th>\n",
              "      <th>user_score</th>\n",
              "      <th>rating</th>\n",
              "    </tr>\n",
              "  </thead>\n",
              "  <tbody>\n",
              "    <tr>\n",
              "      <th>0</th>\n",
              "      <td>Wii Sports</td>\n",
              "      <td>Wii</td>\n",
              "      <td>2006.0</td>\n",
              "      <td>Sports</td>\n",
              "      <td>41.36</td>\n",
              "      <td>28.96</td>\n",
              "      <td>3.77</td>\n",
              "      <td>8.45</td>\n",
              "      <td>76.0</td>\n",
              "      <td>8</td>\n",
              "      <td>E</td>\n",
              "    </tr>\n",
              "    <tr>\n",
              "      <th>1</th>\n",
              "      <td>Super Mario Bros.</td>\n",
              "      <td>NES</td>\n",
              "      <td>1985.0</td>\n",
              "      <td>Platform</td>\n",
              "      <td>29.08</td>\n",
              "      <td>3.58</td>\n",
              "      <td>6.81</td>\n",
              "      <td>0.77</td>\n",
              "      <td>NaN</td>\n",
              "      <td>NaN</td>\n",
              "      <td>NaN</td>\n",
              "    </tr>\n",
              "    <tr>\n",
              "      <th>2</th>\n",
              "      <td>Mario Kart Wii</td>\n",
              "      <td>Wii</td>\n",
              "      <td>2008.0</td>\n",
              "      <td>Racing</td>\n",
              "      <td>15.68</td>\n",
              "      <td>12.76</td>\n",
              "      <td>3.79</td>\n",
              "      <td>3.29</td>\n",
              "      <td>82.0</td>\n",
              "      <td>8.3</td>\n",
              "      <td>E</td>\n",
              "    </tr>\n",
              "    <tr>\n",
              "      <th>3</th>\n",
              "      <td>Wii Sports Resort</td>\n",
              "      <td>Wii</td>\n",
              "      <td>2009.0</td>\n",
              "      <td>Sports</td>\n",
              "      <td>15.61</td>\n",
              "      <td>10.93</td>\n",
              "      <td>3.28</td>\n",
              "      <td>2.95</td>\n",
              "      <td>80.0</td>\n",
              "      <td>8</td>\n",
              "      <td>E</td>\n",
              "    </tr>\n",
              "    <tr>\n",
              "      <th>4</th>\n",
              "      <td>Pokemon Red/Pokemon Blue</td>\n",
              "      <td>GB</td>\n",
              "      <td>1996.0</td>\n",
              "      <td>Role-Playing</td>\n",
              "      <td>11.27</td>\n",
              "      <td>8.89</td>\n",
              "      <td>10.22</td>\n",
              "      <td>1.00</td>\n",
              "      <td>NaN</td>\n",
              "      <td>NaN</td>\n",
              "      <td>NaN</td>\n",
              "    </tr>\n",
              "  </tbody>\n",
              "</table>\n",
              "</div>"
            ],
            "text/plain": [
              "                       name platform  year_of_release         genre  na_sales  \\\n",
              "0                Wii Sports      Wii           2006.0        Sports     41.36   \n",
              "1         Super Mario Bros.      NES           1985.0      Platform     29.08   \n",
              "2            Mario Kart Wii      Wii           2008.0        Racing     15.68   \n",
              "3         Wii Sports Resort      Wii           2009.0        Sports     15.61   \n",
              "4  Pokemon Red/Pokemon Blue       GB           1996.0  Role-Playing     11.27   \n",
              "\n",
              "   eu_sales  jp_sales  other_sales  critic_score user_score rating  \n",
              "0     28.96      3.77         8.45          76.0          8      E  \n",
              "1      3.58      6.81         0.77           NaN        NaN    NaN  \n",
              "2     12.76      3.79         3.29          82.0        8.3      E  \n",
              "3     10.93      3.28         2.95          80.0          8      E  \n",
              "4      8.89     10.22         1.00           NaN        NaN    NaN  "
            ]
          },
          "execution_count": 5,
          "metadata": {},
          "output_type": "execute_result"
        }
      ],
      "source": [
        "df.head()"
      ]
    },
    {
      "cell_type": "code",
      "execution_count": null,
      "metadata": {
        "colab": {
          "base_uri": "https://localhost:8080/"
        },
        "id": "aTyPcLgSndco",
        "outputId": "84325ca6-beef-478d-bfaa-5639b967b478"
      },
      "outputs": [
        {
          "name": "stdout",
          "output_type": "stream",
          "text": [
            "<class 'pandas.core.frame.DataFrame'>\n",
            "RangeIndex: 16715 entries, 0 to 16714\n",
            "Data columns (total 11 columns):\n",
            " #   Column           Non-Null Count  Dtype  \n",
            "---  ------           --------------  -----  \n",
            " 0   name             16713 non-null  object \n",
            " 1   platform         16715 non-null  object \n",
            " 2   year_of_release  16446 non-null  float64\n",
            " 3   genre            16713 non-null  object \n",
            " 4   na_sales         16715 non-null  float64\n",
            " 5   eu_sales         16715 non-null  float64\n",
            " 6   jp_sales         16715 non-null  float64\n",
            " 7   other_sales      16715 non-null  float64\n",
            " 8   critic_score     8137 non-null   float64\n",
            " 9   user_score       10014 non-null  object \n",
            " 10  rating           9949 non-null   object \n",
            "dtypes: float64(6), object(5)\n",
            "memory usage: 1.4+ MB\n"
          ]
        }
      ],
      "source": [
        "df.info()"
      ]
    },
    {
      "cell_type": "markdown",
      "metadata": {
        "id": "Esv-3QjqIx7r"
      },
      "source": [
        "Удаляем 2 пропущенных значения"
      ]
    },
    {
      "cell_type": "code",
      "execution_count": null,
      "metadata": {
        "id": "oD5L-RMfnlc4"
      },
      "outputs": [],
      "source": [
        "df = df[~df['name'].isna()].copy()"
      ]
    },
    {
      "cell_type": "markdown",
      "metadata": {
        "id": "_Fks8kDX1uq0"
      },
      "source": [
        "\n",
        "\n",
        "\n",
        "\n",
        " Пропуски в столбцах с названиями и годом выхода игры, могут быть случайными пропусками, их количество невелико. Пропуски в отзывах могут быть связаны с тем, что у некоторых игр их просто нету или в этом дата сете или вообще. Так как это важные для оценки данные то мы не можем поставить вместо пропусков среднее или медиану, и будем проводить анализ только по тем строкам, в которых есть средняя оценка игры. \n",
        "\n",
        " t.b.d.= to be defined. Это значит подлежит уточнению, тоесть данные еще уточняются, поэтому поставить заглушку и привести столбец к float. \n",
        "\n",
        "Про рейтинги ESRB - агенство открылось только в 1996 году, похоже что 16 лет до этого игры не оценивались. Так же те игры которые выпускались в Европе и Японии оценивались местными агенствами PEGI и CERO.\n",
        "       "
      ]
    },
    {
      "cell_type": "code",
      "execution_count": null,
      "metadata": {
        "colab": {
          "base_uri": "https://localhost:8080/"
        },
        "id": "lvdAtVaioFNY",
        "outputId": "b34fafbc-090e-4000-9626-6a09193076a5"
      },
      "outputs": [
        {
          "name": "stdout",
          "output_type": "stream",
          "text": [
            "<class 'pandas.core.frame.DataFrame'>\n",
            "Int64Index: 16713 entries, 0 to 16714\n",
            "Data columns (total 11 columns):\n",
            " #   Column           Non-Null Count  Dtype  \n",
            "---  ------           --------------  -----  \n",
            " 0   name             16713 non-null  object \n",
            " 1   platform         16713 non-null  object \n",
            " 2   year_of_release  16444 non-null  float64\n",
            " 3   genre            16713 non-null  object \n",
            " 4   na_sales         16713 non-null  float64\n",
            " 5   eu_sales         16713 non-null  float64\n",
            " 6   jp_sales         16713 non-null  float64\n",
            " 7   other_sales      16713 non-null  float64\n",
            " 8   critic_score     8137 non-null   float64\n",
            " 9   user_score       10014 non-null  object \n",
            " 10  rating           9949 non-null   object \n",
            "dtypes: float64(6), object(5)\n",
            "memory usage: 1.5+ MB\n"
          ]
        }
      ],
      "source": [
        "df.info()"
      ]
    },
    {
      "cell_type": "code",
      "execution_count": null,
      "metadata": {
        "colab": {
          "base_uri": "https://localhost:8080/"
        },
        "id": "YJIxeig_os_L",
        "outputId": "bc6ca9b8-cc3d-425d-d4c7-bcd50f211899"
      },
      "outputs": [
        {
          "data": {
            "text/plain": [
              "array([2006., 1985., 2008., 2009., 1996., 1989., 1984., 2005., 1999.,\n",
              "       2007., 2010., 2013., 2004., 1990., 1988., 2002., 2001., 2011.,\n",
              "       1998., 2015., 2012., 2014., 1992., 1997., 1993., 1994., 1982.,\n",
              "       2016., 2003., 1986., 2000.,   nan, 1995., 1991., 1981., 1987.,\n",
              "       1980., 1983.])"
            ]
          },
          "execution_count": 9,
          "metadata": {},
          "output_type": "execute_result"
        }
      ],
      "source": [
        "df['year_of_release'].unique()"
      ]
    },
    {
      "cell_type": "code",
      "execution_count": null,
      "metadata": {
        "colab": {
          "base_uri": "https://localhost:8080/"
        },
        "id": "uofuSNWMo3XA",
        "outputId": "62bf4942-3c89-4b35-b602-79f49b445861"
      },
      "outputs": [
        {
          "data": {
            "text/plain": [
              "0.016095255190570215"
            ]
          },
          "execution_count": 10,
          "metadata": {},
          "output_type": "execute_result"
        }
      ],
      "source": [
        "df['year_of_release'].isna().mean()"
      ]
    },
    {
      "cell_type": "code",
      "execution_count": null,
      "metadata": {
        "id": "E0BfUV-8pTcg"
      },
      "outputs": [],
      "source": [
        "df = df[~df['year_of_release'].isna()].copy()"
      ]
    },
    {
      "cell_type": "markdown",
      "metadata": {
        "id": "AI3bEYdH1uq4"
      },
      "source": [
        "Годы выпуска игр критически важная информация для нашего анализа, поэтому данные без них не будут иметь ценности для исследования, и так как таких пропусков ~1,5%, то я решил просто их удалить."
      ]
    },
    {
      "cell_type": "code",
      "execution_count": null,
      "metadata": {
        "colab": {
          "base_uri": "https://localhost:8080/"
        },
        "id": "xOQ0x90NpfAp",
        "outputId": "9624ea4e-8845-4b83-bd2b-b71b280ad762"
      },
      "outputs": [
        {
          "name": "stdout",
          "output_type": "stream",
          "text": [
            "<class 'pandas.core.frame.DataFrame'>\n",
            "Int64Index: 16444 entries, 0 to 16714\n",
            "Data columns (total 11 columns):\n",
            " #   Column           Non-Null Count  Dtype  \n",
            "---  ------           --------------  -----  \n",
            " 0   name             16444 non-null  object \n",
            " 1   platform         16444 non-null  object \n",
            " 2   year_of_release  16444 non-null  float64\n",
            " 3   genre            16444 non-null  object \n",
            " 4   na_sales         16444 non-null  float64\n",
            " 5   eu_sales         16444 non-null  float64\n",
            " 6   jp_sales         16444 non-null  float64\n",
            " 7   other_sales      16444 non-null  float64\n",
            " 8   critic_score     7983 non-null   float64\n",
            " 9   user_score       9839 non-null   object \n",
            " 10  rating           9768 non-null   object \n",
            "dtypes: float64(6), object(5)\n",
            "memory usage: 1.5+ MB\n"
          ]
        }
      ],
      "source": [
        "df.info()"
      ]
    },
    {
      "cell_type": "code",
      "execution_count": null,
      "metadata": {
        "colab": {
          "base_uri": "https://localhost:8080/"
        },
        "id": "kbnRg80CpgzI",
        "outputId": "ec24823c-612c-46d3-92d2-92399f3f9b6d"
      },
      "outputs": [
        {
          "data": {
            "text/plain": [
              "array([76., nan, 82., 80., 89., 58., 87., 91., 61., 97., 95., 77., 88.,\n",
              "       83., 94., 93., 85., 86., 98., 96., 90., 84., 73., 74., 78., 92.,\n",
              "       71., 72., 68., 62., 49., 67., 81., 66., 56., 79., 70., 59., 64.,\n",
              "       75., 60., 63., 69., 50., 25., 42., 44., 55., 48., 57., 29., 47.,\n",
              "       65., 54., 20., 53., 37., 38., 33., 52., 30., 32., 43., 45., 51.,\n",
              "       40., 46., 39., 34., 41., 36., 31., 27., 35., 26., 19., 28., 23.,\n",
              "       24., 21., 17., 13.])"
            ]
          },
          "execution_count": 13,
          "metadata": {},
          "output_type": "execute_result"
        }
      ],
      "source": [
        "df['critic_score'].unique()"
      ]
    },
    {
      "cell_type": "code",
      "execution_count": null,
      "metadata": {
        "colab": {
          "base_uri": "https://localhost:8080/"
        },
        "id": "9_SgiJPTp3eU",
        "outputId": "af8a087b-b371-4c96-834f-d3a90ab1941e"
      },
      "outputs": [
        {
          "data": {
            "text/plain": [
              "array(['8', nan, '8.3', '8.5', '6.6', '8.4', '8.6', '7.7', '6.3', '7.4',\n",
              "       '8.2', '9', '7.9', '8.1', '8.7', '7.1', '3.4', '5.3', '4.8', '3.2',\n",
              "       '8.9', '6.4', '7.8', '7.5', '2.6', '7.2', '9.2', '7', '7.3', '4.3',\n",
              "       '7.6', '5.7', '5', '9.1', '6.5', 'tbd', '8.8', '6.9', '9.4', '6.8',\n",
              "       '6.1', '6.7', '5.4', '4', '4.9', '4.5', '9.3', '6.2', '4.2', '6',\n",
              "       '3.7', '4.1', '5.8', '5.6', '5.5', '4.4', '4.6', '5.9', '3.9',\n",
              "       '3.1', '2.9', '5.2', '3.3', '4.7', '5.1', '3.5', '2.5', '1.9', '3',\n",
              "       '2.7', '2.2', '2', '9.5', '2.1', '3.6', '2.8', '1.8', '3.8', '0',\n",
              "       '1.6', '9.6', '2.4', '1.7', '1.1', '0.3', '1.5', '0.7', '1.2',\n",
              "       '2.3', '0.5', '1.3', '0.2', '0.6', '1.4', '0.9', '1', '9.7'],\n",
              "      dtype=object)"
            ]
          },
          "execution_count": 14,
          "metadata": {},
          "output_type": "execute_result"
        }
      ],
      "source": [
        "df['user_score'].unique()"
      ]
    },
    {
      "cell_type": "markdown",
      "metadata": {
        "id": "1vkfThSPIPCQ"
      },
      "source": [
        "Поставим заглушку 333 вместо tbd"
      ]
    },
    {
      "cell_type": "code",
      "execution_count": null,
      "metadata": {
        "colab": {
          "base_uri": "https://localhost:8080/",
          "height": 49
        },
        "id": "sTbMo5Xqj2b1",
        "outputId": "7e4051bc-0e73-4768-a03f-f9e72fb2dc1e"
      },
      "outputs": [
        {
          "data": {
            "text/html": [
              "<div>\n",
              "<style scoped>\n",
              "    .dataframe tbody tr th:only-of-type {\n",
              "        vertical-align: middle;\n",
              "    }\n",
              "\n",
              "    .dataframe tbody tr th {\n",
              "        vertical-align: top;\n",
              "    }\n",
              "\n",
              "    .dataframe thead th {\n",
              "        text-align: right;\n",
              "    }\n",
              "</style>\n",
              "<table border=\"1\" class=\"dataframe\">\n",
              "  <thead>\n",
              "    <tr style=\"text-align: right;\">\n",
              "      <th></th>\n",
              "      <th>name</th>\n",
              "      <th>platform</th>\n",
              "      <th>year_of_release</th>\n",
              "      <th>genre</th>\n",
              "      <th>na_sales</th>\n",
              "      <th>eu_sales</th>\n",
              "      <th>jp_sales</th>\n",
              "      <th>other_sales</th>\n",
              "      <th>critic_score</th>\n",
              "      <th>user_score</th>\n",
              "      <th>rating</th>\n",
              "    </tr>\n",
              "  </thead>\n",
              "  <tbody>\n",
              "  </tbody>\n",
              "</table>\n",
              "</div>"
            ],
            "text/plain": [
              "Empty DataFrame\n",
              "Columns: [name, platform, year_of_release, genre, na_sales, eu_sales, jp_sales, other_sales, critic_score, user_score, rating]\n",
              "Index: []"
            ]
          },
          "execution_count": 15,
          "metadata": {},
          "output_type": "execute_result"
        }
      ],
      "source": [
        "df['user_score'] = df['user_score'].replace('tbd','333')\n",
        "df[df['user_score'] == 'tbd']"
      ]
    },
    {
      "cell_type": "markdown",
      "metadata": {
        "id": "C0GcAFI6IZkn"
      },
      "source": [
        "И поменяем тип данных"
      ]
    },
    {
      "cell_type": "code",
      "execution_count": null,
      "metadata": {
        "id": "CeZ32qUyli82"
      },
      "outputs": [],
      "source": [
        "df['user_score'] = df['user_score'].astype(float)"
      ]
    },
    {
      "cell_type": "code",
      "execution_count": null,
      "metadata": {
        "colab": {
          "base_uri": "https://localhost:8080/"
        },
        "id": "E4JhKENAo21G",
        "outputId": "1cdafebc-e2c3-4e41-87ba-291bfa78573f"
      },
      "outputs": [
        {
          "name": "stdout",
          "output_type": "stream",
          "text": [
            "<class 'pandas.core.frame.DataFrame'>\n",
            "Int64Index: 16444 entries, 0 to 16714\n",
            "Data columns (total 11 columns):\n",
            " #   Column           Non-Null Count  Dtype  \n",
            "---  ------           --------------  -----  \n",
            " 0   name             16444 non-null  object \n",
            " 1   platform         16444 non-null  object \n",
            " 2   year_of_release  16444 non-null  float64\n",
            " 3   genre            16444 non-null  object \n",
            " 4   na_sales         16444 non-null  float64\n",
            " 5   eu_sales         16444 non-null  float64\n",
            " 6   jp_sales         16444 non-null  float64\n",
            " 7   other_sales      16444 non-null  float64\n",
            " 8   critic_score     7983 non-null   float64\n",
            " 9   user_score       9839 non-null   float64\n",
            " 10  rating           9768 non-null   object \n",
            "dtypes: float64(7), object(4)\n",
            "memory usage: 1.5+ MB\n"
          ]
        }
      ],
      "source": [
        "df.info()"
      ]
    },
    {
      "cell_type": "markdown",
      "metadata": {
        "id": "IlSA1SpS1urA"
      },
      "source": [
        "Поиск явных дубликатов:\n",
        "\n"
      ]
    },
    {
      "cell_type": "code",
      "execution_count": null,
      "metadata": {
        "id": "6X_G_UqE1urA",
        "outputId": "39463d43-4777-449d-9dea-e03e8ddaa328"
      },
      "outputs": [
        {
          "data": {
            "text/plain": [
              "0"
            ]
          },
          "execution_count": 18,
          "metadata": {},
          "output_type": "execute_result"
        }
      ],
      "source": [
        "df.duplicated().sum()"
      ]
    },
    {
      "cell_type": "markdown",
      "metadata": {
        "id": "cJyH9v3M1urB"
      },
      "source": [
        "Явных дубликатов не обнаружилось. Поиск неявных дубликатов:\n"
      ]
    },
    {
      "cell_type": "code",
      "execution_count": null,
      "metadata": {
        "id": "GeEICsd51urB",
        "outputId": "238f9e5f-f780-47ff-d321-7d7f5afd3e80"
      },
      "outputs": [
        {
          "data": {
            "text/plain": [
              "11426"
            ]
          },
          "execution_count": 19,
          "metadata": {},
          "output_type": "execute_result"
        }
      ],
      "source": [
        "df['name'].nunique()"
      ]
    },
    {
      "cell_type": "markdown",
      "metadata": {
        "id": "kfEqFfVl1urC"
      },
      "source": [
        "Большое количество повторов в столбце названий, 11426 уникальных из 16444. "
      ]
    },
    {
      "cell_type": "code",
      "execution_count": null,
      "metadata": {
        "id": "2dxXuwD71urD",
        "outputId": "61891182-ddf5-4504-bc57-00cf5e2b089b"
      },
      "outputs": [
        {
          "data": {
            "text/plain": [
              "3"
            ]
          },
          "execution_count": 20,
          "metadata": {},
          "output_type": "execute_result"
        }
      ],
      "source": [
        "df.duplicated(subset = ['name','platform']).sum()"
      ]
    },
    {
      "cell_type": "markdown",
      "metadata": {
        "id": "AQ4rmMfk1urD"
      },
      "source": [
        "Дубликата всего 3, хотя очевидно это не полные дубликаты. Думаю,что удалить 3 строки из 16444 не будет ошибкой."
      ]
    },
    {
      "cell_type": "code",
      "execution_count": null,
      "metadata": {
        "id": "19K5jtqc1urE",
        "outputId": "ba00ed2b-d967-494b-8735-4052f549d033"
      },
      "outputs": [
        {
          "data": {
            "text/html": [
              "<div>\n",
              "<style scoped>\n",
              "    .dataframe tbody tr th:only-of-type {\n",
              "        vertical-align: middle;\n",
              "    }\n",
              "\n",
              "    .dataframe tbody tr th {\n",
              "        vertical-align: top;\n",
              "    }\n",
              "\n",
              "    .dataframe thead th {\n",
              "        text-align: right;\n",
              "    }\n",
              "</style>\n",
              "<table border=\"1\" class=\"dataframe\">\n",
              "  <thead>\n",
              "    <tr style=\"text-align: right;\">\n",
              "      <th></th>\n",
              "      <th>name</th>\n",
              "      <th>platform</th>\n",
              "      <th>year_of_release</th>\n",
              "      <th>genre</th>\n",
              "      <th>na_sales</th>\n",
              "      <th>eu_sales</th>\n",
              "      <th>jp_sales</th>\n",
              "      <th>other_sales</th>\n",
              "      <th>critic_score</th>\n",
              "      <th>user_score</th>\n",
              "      <th>rating</th>\n",
              "    </tr>\n",
              "  </thead>\n",
              "  <tbody>\n",
              "    <tr>\n",
              "      <th>0</th>\n",
              "      <td>Wii Sports</td>\n",
              "      <td>Wii</td>\n",
              "      <td>2006.0</td>\n",
              "      <td>Sports</td>\n",
              "      <td>41.36</td>\n",
              "      <td>28.96</td>\n",
              "      <td>3.77</td>\n",
              "      <td>8.45</td>\n",
              "      <td>76.0</td>\n",
              "      <td>8.0</td>\n",
              "      <td>E</td>\n",
              "    </tr>\n",
              "    <tr>\n",
              "      <th>1</th>\n",
              "      <td>Super Mario Bros.</td>\n",
              "      <td>NES</td>\n",
              "      <td>1985.0</td>\n",
              "      <td>Platform</td>\n",
              "      <td>29.08</td>\n",
              "      <td>3.58</td>\n",
              "      <td>6.81</td>\n",
              "      <td>0.77</td>\n",
              "      <td>NaN</td>\n",
              "      <td>NaN</td>\n",
              "      <td>NaN</td>\n",
              "    </tr>\n",
              "    <tr>\n",
              "      <th>2</th>\n",
              "      <td>Mario Kart Wii</td>\n",
              "      <td>Wii</td>\n",
              "      <td>2008.0</td>\n",
              "      <td>Racing</td>\n",
              "      <td>15.68</td>\n",
              "      <td>12.76</td>\n",
              "      <td>3.79</td>\n",
              "      <td>3.29</td>\n",
              "      <td>82.0</td>\n",
              "      <td>8.3</td>\n",
              "      <td>E</td>\n",
              "    </tr>\n",
              "    <tr>\n",
              "      <th>3</th>\n",
              "      <td>Wii Sports Resort</td>\n",
              "      <td>Wii</td>\n",
              "      <td>2009.0</td>\n",
              "      <td>Sports</td>\n",
              "      <td>15.61</td>\n",
              "      <td>10.93</td>\n",
              "      <td>3.28</td>\n",
              "      <td>2.95</td>\n",
              "      <td>80.0</td>\n",
              "      <td>8.0</td>\n",
              "      <td>E</td>\n",
              "    </tr>\n",
              "    <tr>\n",
              "      <th>4</th>\n",
              "      <td>Pokemon Red/Pokemon Blue</td>\n",
              "      <td>GB</td>\n",
              "      <td>1996.0</td>\n",
              "      <td>Role-Playing</td>\n",
              "      <td>11.27</td>\n",
              "      <td>8.89</td>\n",
              "      <td>10.22</td>\n",
              "      <td>1.00</td>\n",
              "      <td>NaN</td>\n",
              "      <td>NaN</td>\n",
              "      <td>NaN</td>\n",
              "    </tr>\n",
              "    <tr>\n",
              "      <th>...</th>\n",
              "      <td>...</td>\n",
              "      <td>...</td>\n",
              "      <td>...</td>\n",
              "      <td>...</td>\n",
              "      <td>...</td>\n",
              "      <td>...</td>\n",
              "      <td>...</td>\n",
              "      <td>...</td>\n",
              "      <td>...</td>\n",
              "      <td>...</td>\n",
              "      <td>...</td>\n",
              "    </tr>\n",
              "    <tr>\n",
              "      <th>16436</th>\n",
              "      <td>Samurai Warriors: Sanada Maru</td>\n",
              "      <td>PS3</td>\n",
              "      <td>2016.0</td>\n",
              "      <td>Action</td>\n",
              "      <td>0.00</td>\n",
              "      <td>0.00</td>\n",
              "      <td>0.01</td>\n",
              "      <td>0.00</td>\n",
              "      <td>NaN</td>\n",
              "      <td>NaN</td>\n",
              "      <td>NaN</td>\n",
              "    </tr>\n",
              "    <tr>\n",
              "      <th>16437</th>\n",
              "      <td>LMA Manager 2007</td>\n",
              "      <td>X360</td>\n",
              "      <td>2006.0</td>\n",
              "      <td>Sports</td>\n",
              "      <td>0.00</td>\n",
              "      <td>0.01</td>\n",
              "      <td>0.00</td>\n",
              "      <td>0.00</td>\n",
              "      <td>NaN</td>\n",
              "      <td>NaN</td>\n",
              "      <td>NaN</td>\n",
              "    </tr>\n",
              "    <tr>\n",
              "      <th>16438</th>\n",
              "      <td>Haitaka no Psychedelica</td>\n",
              "      <td>PSV</td>\n",
              "      <td>2016.0</td>\n",
              "      <td>Adventure</td>\n",
              "      <td>0.00</td>\n",
              "      <td>0.00</td>\n",
              "      <td>0.01</td>\n",
              "      <td>0.00</td>\n",
              "      <td>NaN</td>\n",
              "      <td>NaN</td>\n",
              "      <td>NaN</td>\n",
              "    </tr>\n",
              "    <tr>\n",
              "      <th>16439</th>\n",
              "      <td>Spirits &amp; Spells</td>\n",
              "      <td>GBA</td>\n",
              "      <td>2003.0</td>\n",
              "      <td>Platform</td>\n",
              "      <td>0.01</td>\n",
              "      <td>0.00</td>\n",
              "      <td>0.00</td>\n",
              "      <td>0.00</td>\n",
              "      <td>NaN</td>\n",
              "      <td>NaN</td>\n",
              "      <td>NaN</td>\n",
              "    </tr>\n",
              "    <tr>\n",
              "      <th>16440</th>\n",
              "      <td>Winning Post 8 2016</td>\n",
              "      <td>PSV</td>\n",
              "      <td>2016.0</td>\n",
              "      <td>Simulation</td>\n",
              "      <td>0.00</td>\n",
              "      <td>0.00</td>\n",
              "      <td>0.01</td>\n",
              "      <td>0.00</td>\n",
              "      <td>NaN</td>\n",
              "      <td>NaN</td>\n",
              "      <td>NaN</td>\n",
              "    </tr>\n",
              "  </tbody>\n",
              "</table>\n",
              "<p>16441 rows × 11 columns</p>\n",
              "</div>"
            ],
            "text/plain": [
              "                                name platform  year_of_release         genre  \\\n",
              "0                         Wii Sports      Wii           2006.0        Sports   \n",
              "1                  Super Mario Bros.      NES           1985.0      Platform   \n",
              "2                     Mario Kart Wii      Wii           2008.0        Racing   \n",
              "3                  Wii Sports Resort      Wii           2009.0        Sports   \n",
              "4           Pokemon Red/Pokemon Blue       GB           1996.0  Role-Playing   \n",
              "...                              ...      ...              ...           ...   \n",
              "16436  Samurai Warriors: Sanada Maru      PS3           2016.0        Action   \n",
              "16437               LMA Manager 2007     X360           2006.0        Sports   \n",
              "16438        Haitaka no Psychedelica      PSV           2016.0     Adventure   \n",
              "16439               Spirits & Spells      GBA           2003.0      Platform   \n",
              "16440            Winning Post 8 2016      PSV           2016.0    Simulation   \n",
              "\n",
              "       na_sales  eu_sales  jp_sales  other_sales  critic_score  user_score  \\\n",
              "0         41.36     28.96      3.77         8.45          76.0         8.0   \n",
              "1         29.08      3.58      6.81         0.77           NaN         NaN   \n",
              "2         15.68     12.76      3.79         3.29          82.0         8.3   \n",
              "3         15.61     10.93      3.28         2.95          80.0         8.0   \n",
              "4         11.27      8.89     10.22         1.00           NaN         NaN   \n",
              "...         ...       ...       ...          ...           ...         ...   \n",
              "16436      0.00      0.00      0.01         0.00           NaN         NaN   \n",
              "16437      0.00      0.01      0.00         0.00           NaN         NaN   \n",
              "16438      0.00      0.00      0.01         0.00           NaN         NaN   \n",
              "16439      0.01      0.00      0.00         0.00           NaN         NaN   \n",
              "16440      0.00      0.00      0.01         0.00           NaN         NaN   \n",
              "\n",
              "      rating  \n",
              "0          E  \n",
              "1        NaN  \n",
              "2          E  \n",
              "3          E  \n",
              "4        NaN  \n",
              "...      ...  \n",
              "16436    NaN  \n",
              "16437    NaN  \n",
              "16438    NaN  \n",
              "16439    NaN  \n",
              "16440    NaN  \n",
              "\n",
              "[16441 rows x 11 columns]"
            ]
          },
          "execution_count": 21,
          "metadata": {},
          "output_type": "execute_result"
        }
      ],
      "source": [
        "df.drop_duplicates(subset = ['name', 'platform']).reset_index(drop = True)"
      ]
    },
    {
      "cell_type": "markdown",
      "metadata": {
        "id": "enikTFk8IiXY"
      },
      "source": [
        "Добавим столбец с суммарными продажами"
      ]
    },
    {
      "cell_type": "code",
      "execution_count": null,
      "metadata": {
        "id": "JKOp9_93qtN_"
      },
      "outputs": [],
      "source": [
        "df['all_sales'] = df['na_sales'] + df['eu_sales'] + df['jp_sales'] + df['other_sales']"
      ]
    },
    {
      "cell_type": "markdown",
      "metadata": {
        "id": "qrD5JNJa1urH"
      },
      "source": [
        "В столбцах с названиями и годами выпуска было небольшое количество пропусков, их мы просто удалили, в отзывах критиках и пользователей большое количество пропусков, но с этим ничего не поделать пока оставляем так. В столбце с отзывами критиков я заменил 'tbd' на заглушку и привел столбец к вещественному типу. В столбце с рейтингом по возрастам большое количество пропусков вероятно связано с тем, что игры которые выходили до основания агенства не оценивались, а игры выпущенные в Европе и Японии оценивались собственными местными агенствами. \n",
        "\n",
        "В итоге из 16715 строк осталось 16441. "
      ]
    },
    {
      "cell_type": "markdown",
      "metadata": {
        "id": "FEtwIcn9zM1U"
      },
      "source": [
        "# Исследовательский анализ данных"
      ]
    },
    {
      "cell_type": "code",
      "execution_count": null,
      "metadata": {
        "colab": {
          "base_uri": "https://localhost:8080/",
          "height": 424
        },
        "id": "RmchoTu--AOo",
        "outputId": "32d9af31-cee8-4e7d-8ceb-c2d43739c53a"
      },
      "outputs": [
        {
          "data": {
            "text/html": [
              "<div>\n",
              "<style scoped>\n",
              "    .dataframe tbody tr th:only-of-type {\n",
              "        vertical-align: middle;\n",
              "    }\n",
              "\n",
              "    .dataframe tbody tr th {\n",
              "        vertical-align: top;\n",
              "    }\n",
              "\n",
              "    .dataframe thead th {\n",
              "        text-align: right;\n",
              "    }\n",
              "</style>\n",
              "<table border=\"1\" class=\"dataframe\">\n",
              "  <thead>\n",
              "    <tr style=\"text-align: right;\">\n",
              "      <th></th>\n",
              "      <th>name</th>\n",
              "      <th>platform</th>\n",
              "      <th>year_of_release</th>\n",
              "      <th>genre</th>\n",
              "      <th>na_sales</th>\n",
              "      <th>eu_sales</th>\n",
              "      <th>jp_sales</th>\n",
              "      <th>other_sales</th>\n",
              "      <th>critic_score</th>\n",
              "      <th>user_score</th>\n",
              "      <th>rating</th>\n",
              "      <th>all_sales</th>\n",
              "    </tr>\n",
              "  </thead>\n",
              "  <tbody>\n",
              "    <tr>\n",
              "      <th>0</th>\n",
              "      <td>Wii Sports</td>\n",
              "      <td>Wii</td>\n",
              "      <td>2006.0</td>\n",
              "      <td>Sports</td>\n",
              "      <td>41.36</td>\n",
              "      <td>28.96</td>\n",
              "      <td>3.77</td>\n",
              "      <td>8.45</td>\n",
              "      <td>76.0</td>\n",
              "      <td>8.0</td>\n",
              "      <td>E</td>\n",
              "      <td>82.54</td>\n",
              "    </tr>\n",
              "    <tr>\n",
              "      <th>1</th>\n",
              "      <td>Super Mario Bros.</td>\n",
              "      <td>NES</td>\n",
              "      <td>1985.0</td>\n",
              "      <td>Platform</td>\n",
              "      <td>29.08</td>\n",
              "      <td>3.58</td>\n",
              "      <td>6.81</td>\n",
              "      <td>0.77</td>\n",
              "      <td>NaN</td>\n",
              "      <td>NaN</td>\n",
              "      <td>NaN</td>\n",
              "      <td>40.24</td>\n",
              "    </tr>\n",
              "    <tr>\n",
              "      <th>2</th>\n",
              "      <td>Mario Kart Wii</td>\n",
              "      <td>Wii</td>\n",
              "      <td>2008.0</td>\n",
              "      <td>Racing</td>\n",
              "      <td>15.68</td>\n",
              "      <td>12.76</td>\n",
              "      <td>3.79</td>\n",
              "      <td>3.29</td>\n",
              "      <td>82.0</td>\n",
              "      <td>8.3</td>\n",
              "      <td>E</td>\n",
              "      <td>35.52</td>\n",
              "    </tr>\n",
              "    <tr>\n",
              "      <th>3</th>\n",
              "      <td>Wii Sports Resort</td>\n",
              "      <td>Wii</td>\n",
              "      <td>2009.0</td>\n",
              "      <td>Sports</td>\n",
              "      <td>15.61</td>\n",
              "      <td>10.93</td>\n",
              "      <td>3.28</td>\n",
              "      <td>2.95</td>\n",
              "      <td>80.0</td>\n",
              "      <td>8.0</td>\n",
              "      <td>E</td>\n",
              "      <td>32.77</td>\n",
              "    </tr>\n",
              "    <tr>\n",
              "      <th>4</th>\n",
              "      <td>Pokemon Red/Pokemon Blue</td>\n",
              "      <td>GB</td>\n",
              "      <td>1996.0</td>\n",
              "      <td>Role-Playing</td>\n",
              "      <td>11.27</td>\n",
              "      <td>8.89</td>\n",
              "      <td>10.22</td>\n",
              "      <td>1.00</td>\n",
              "      <td>NaN</td>\n",
              "      <td>NaN</td>\n",
              "      <td>NaN</td>\n",
              "      <td>31.38</td>\n",
              "    </tr>\n",
              "    <tr>\n",
              "      <th>...</th>\n",
              "      <td>...</td>\n",
              "      <td>...</td>\n",
              "      <td>...</td>\n",
              "      <td>...</td>\n",
              "      <td>...</td>\n",
              "      <td>...</td>\n",
              "      <td>...</td>\n",
              "      <td>...</td>\n",
              "      <td>...</td>\n",
              "      <td>...</td>\n",
              "      <td>...</td>\n",
              "      <td>...</td>\n",
              "    </tr>\n",
              "    <tr>\n",
              "      <th>16710</th>\n",
              "      <td>Samurai Warriors: Sanada Maru</td>\n",
              "      <td>PS3</td>\n",
              "      <td>2016.0</td>\n",
              "      <td>Action</td>\n",
              "      <td>0.00</td>\n",
              "      <td>0.00</td>\n",
              "      <td>0.01</td>\n",
              "      <td>0.00</td>\n",
              "      <td>NaN</td>\n",
              "      <td>NaN</td>\n",
              "      <td>NaN</td>\n",
              "      <td>0.01</td>\n",
              "    </tr>\n",
              "    <tr>\n",
              "      <th>16711</th>\n",
              "      <td>LMA Manager 2007</td>\n",
              "      <td>X360</td>\n",
              "      <td>2006.0</td>\n",
              "      <td>Sports</td>\n",
              "      <td>0.00</td>\n",
              "      <td>0.01</td>\n",
              "      <td>0.00</td>\n",
              "      <td>0.00</td>\n",
              "      <td>NaN</td>\n",
              "      <td>NaN</td>\n",
              "      <td>NaN</td>\n",
              "      <td>0.01</td>\n",
              "    </tr>\n",
              "    <tr>\n",
              "      <th>16712</th>\n",
              "      <td>Haitaka no Psychedelica</td>\n",
              "      <td>PSV</td>\n",
              "      <td>2016.0</td>\n",
              "      <td>Adventure</td>\n",
              "      <td>0.00</td>\n",
              "      <td>0.00</td>\n",
              "      <td>0.01</td>\n",
              "      <td>0.00</td>\n",
              "      <td>NaN</td>\n",
              "      <td>NaN</td>\n",
              "      <td>NaN</td>\n",
              "      <td>0.01</td>\n",
              "    </tr>\n",
              "    <tr>\n",
              "      <th>16713</th>\n",
              "      <td>Spirits &amp; Spells</td>\n",
              "      <td>GBA</td>\n",
              "      <td>2003.0</td>\n",
              "      <td>Platform</td>\n",
              "      <td>0.01</td>\n",
              "      <td>0.00</td>\n",
              "      <td>0.00</td>\n",
              "      <td>0.00</td>\n",
              "      <td>NaN</td>\n",
              "      <td>NaN</td>\n",
              "      <td>NaN</td>\n",
              "      <td>0.01</td>\n",
              "    </tr>\n",
              "    <tr>\n",
              "      <th>16714</th>\n",
              "      <td>Winning Post 8 2016</td>\n",
              "      <td>PSV</td>\n",
              "      <td>2016.0</td>\n",
              "      <td>Simulation</td>\n",
              "      <td>0.00</td>\n",
              "      <td>0.00</td>\n",
              "      <td>0.01</td>\n",
              "      <td>0.00</td>\n",
              "      <td>NaN</td>\n",
              "      <td>NaN</td>\n",
              "      <td>NaN</td>\n",
              "      <td>0.01</td>\n",
              "    </tr>\n",
              "  </tbody>\n",
              "</table>\n",
              "<p>16444 rows × 12 columns</p>\n",
              "</div>"
            ],
            "text/plain": [
              "                                name platform  year_of_release         genre  \\\n",
              "0                         Wii Sports      Wii           2006.0        Sports   \n",
              "1                  Super Mario Bros.      NES           1985.0      Platform   \n",
              "2                     Mario Kart Wii      Wii           2008.0        Racing   \n",
              "3                  Wii Sports Resort      Wii           2009.0        Sports   \n",
              "4           Pokemon Red/Pokemon Blue       GB           1996.0  Role-Playing   \n",
              "...                              ...      ...              ...           ...   \n",
              "16710  Samurai Warriors: Sanada Maru      PS3           2016.0        Action   \n",
              "16711               LMA Manager 2007     X360           2006.0        Sports   \n",
              "16712        Haitaka no Psychedelica      PSV           2016.0     Adventure   \n",
              "16713               Spirits & Spells      GBA           2003.0      Platform   \n",
              "16714            Winning Post 8 2016      PSV           2016.0    Simulation   \n",
              "\n",
              "       na_sales  eu_sales  jp_sales  other_sales  critic_score  user_score  \\\n",
              "0         41.36     28.96      3.77         8.45          76.0         8.0   \n",
              "1         29.08      3.58      6.81         0.77           NaN         NaN   \n",
              "2         15.68     12.76      3.79         3.29          82.0         8.3   \n",
              "3         15.61     10.93      3.28         2.95          80.0         8.0   \n",
              "4         11.27      8.89     10.22         1.00           NaN         NaN   \n",
              "...         ...       ...       ...          ...           ...         ...   \n",
              "16710      0.00      0.00      0.01         0.00           NaN         NaN   \n",
              "16711      0.00      0.01      0.00         0.00           NaN         NaN   \n",
              "16712      0.00      0.00      0.01         0.00           NaN         NaN   \n",
              "16713      0.01      0.00      0.00         0.00           NaN         NaN   \n",
              "16714      0.00      0.00      0.01         0.00           NaN         NaN   \n",
              "\n",
              "      rating  all_sales  \n",
              "0          E      82.54  \n",
              "1        NaN      40.24  \n",
              "2          E      35.52  \n",
              "3          E      32.77  \n",
              "4        NaN      31.38  \n",
              "...      ...        ...  \n",
              "16710    NaN       0.01  \n",
              "16711    NaN       0.01  \n",
              "16712    NaN       0.01  \n",
              "16713    NaN       0.01  \n",
              "16714    NaN       0.01  \n",
              "\n",
              "[16444 rows x 12 columns]"
            ]
          },
          "execution_count": 23,
          "metadata": {},
          "output_type": "execute_result"
        }
      ],
      "source": [
        "df"
      ]
    },
    {
      "cell_type": "markdown",
      "metadata": {
        "id": "jWFWdSqrH_K4"
      },
      "source": [
        "Рассмотрим сколько игр выпускалось в разные годы."
      ]
    },
    {
      "cell_type": "code",
      "execution_count": null,
      "metadata": {
        "colab": {
          "base_uri": "https://localhost:8080/"
        },
        "id": "U_qs7j0JtxSQ",
        "outputId": "ce504c96-3ced-4ae0-e871-6ebc6b0a4da3"
      },
      "outputs": [
        {
          "data": {
            "text/plain": [
              "year_of_release\n",
              "1980.0       9\n",
              "1981.0      46\n",
              "1982.0      36\n",
              "1983.0      17\n",
              "1984.0      14\n",
              "1985.0      14\n",
              "1986.0      21\n",
              "1987.0      16\n",
              "1988.0      15\n",
              "1989.0      17\n",
              "1990.0      16\n",
              "1991.0      41\n",
              "1992.0      43\n",
              "1993.0      60\n",
              "1994.0     121\n",
              "1995.0     219\n",
              "1996.0     263\n",
              "1997.0     289\n",
              "1998.0     379\n",
              "1999.0     338\n",
              "2000.0     350\n",
              "2001.0     482\n",
              "2002.0     829\n",
              "2003.0     775\n",
              "2004.0     762\n",
              "2005.0     939\n",
              "2006.0    1006\n",
              "2007.0    1197\n",
              "2008.0    1427\n",
              "2009.0    1426\n",
              "2010.0    1255\n",
              "2011.0    1136\n",
              "2012.0     653\n",
              "2013.0     544\n",
              "2014.0     581\n",
              "2015.0     606\n",
              "2016.0     502\n",
              "Name: year_of_release, dtype: int64"
            ]
          },
          "execution_count": 24,
          "metadata": {},
          "output_type": "execute_result"
        }
      ],
      "source": [
        "df.groupby('year_of_release')['year_of_release'].count()"
      ]
    },
    {
      "cell_type": "markdown",
      "metadata": {
        "id": "xis1aZFT1urN"
      },
      "source": [
        "Верно будет сказать, что это количество релизов игр на разных платформах по годам. Тоесть выход каждой игры на каждой платформе это отдельное событие. Так как в этой части задания нам нужно оценить период актуальности данных: \"Посмотрите, сколько игр выпускалось в разные годы. Важны ли данные за все периоды?\". То сколько релизов выпускалось в разные годы говорит нам что далеко не все данные важны для исследования, а точное определение срока актуальности, мы обнаружим дальше   "
      ]
    },
    {
      "cell_type": "code",
      "execution_count": null,
      "metadata": {
        "colab": {
          "base_uri": "https://localhost:8080/",
          "height": 322
        },
        "id": "jsVJAOicJHMy",
        "outputId": "fe1ae2d2-8d91-4830-ab1c-1bae774847fb"
      },
      "outputs": [
        {
          "data": {
            "text/plain": [
              "<function matplotlib.pyplot.show(close=None, block=None)>"
            ]
          },
          "execution_count": 25,
          "metadata": {},
          "output_type": "execute_result"
        },
        {
          "data": {
            "image/png": "[encoded data removed]",
            "text/plain": [
              "<Figure size 1440x720 with 1 Axes>"
            ]
          },
          "metadata": {
            "needs_background": "light"
          },
          "output_type": "display_data"
        }
      ],
      "source": [
        "df.groupby('year_of_release')['year_of_release'].count().plot(kind = 'bar', figsize=[20, 10])\n",
        "plt.title('Количество релизов игр на разных платформах за год в штуках')\n",
        "plt.show"
      ]
    },
    {
      "cell_type": "markdown",
      "metadata": {
        "id": "1u-sAD3U1urP"
      },
      "source": [
        "Можно сказать, что бум релизов игра начался во второй половине 90-х, а в 2008 и 2009 году был пик релизов. "
      ]
    },
    {
      "cell_type": "markdown",
      "metadata": {
        "id": "x7k8liJnJbRC"
      },
      "source": [
        "Теперь рассмотрим, как менялись платформы для игр"
      ]
    },
    {
      "cell_type": "code",
      "execution_count": null,
      "metadata": {
        "colab": {
          "base_uri": "https://localhost:8080/"
        },
        "id": "Qvjbmpikum5H",
        "outputId": "6457acf9-ba92-4903-c931-cf829be3a0d8"
      },
      "outputs": [
        {
          "data": {
            "text/plain": [
              "platform\n",
              "PS2     2127\n",
              "DS      2121\n",
              "PS3     1306\n",
              "Wii     1286\n",
              "X360    1232\n",
              "PSP     1193\n",
              "PS      1190\n",
              "PC       957\n",
              "GBA      811\n",
              "XB       803\n",
              "GC       542\n",
              "3DS      512\n",
              "PSV      429\n",
              "PS4      392\n",
              "N64      316\n",
              "XOne     247\n",
              "SNES     239\n",
              "SAT      173\n",
              "WiiU     147\n",
              "2600     116\n",
              "NES       98\n",
              "GB        97\n",
              "DC        52\n",
              "GEN       27\n",
              "NG        12\n",
              "SCD        6\n",
              "WS         6\n",
              "3DO        3\n",
              "TG16       2\n",
              "PCFX       1\n",
              "GG         1\n",
              "Name: platform, dtype: int64"
            ]
          },
          "execution_count": 26,
          "metadata": {},
          "output_type": "execute_result"
        }
      ],
      "source": [
        "df.groupby('platform')['platform'].count().sort_values(ascending = False)"
      ]
    },
    {
      "cell_type": "code",
      "execution_count": null,
      "metadata": {
        "colab": {
          "base_uri": "https://localhost:8080/",
          "height": 322
        },
        "id": "lbelBRZTwXNA",
        "outputId": "ef8d6e29-cfe1-4583-b4a9-ba5f16d1cab7"
      },
      "outputs": [
        {
          "data": {
            "text/plain": [
              "<AxesSubplot:xlabel='year_of_release'>"
            ]
          },
          "execution_count": 27,
          "metadata": {},
          "output_type": "execute_result"
        },
        {
          "data": {
            "image/png": "[encoded data removed]",
            "text/plain": [
              "<Figure size 432x288 with 1 Axes>"
            ]
          },
          "metadata": {
            "needs_background": "light"
          },
          "output_type": "display_data"
        }
      ],
      "source": [
        "df[df['platform'] == 'PS2'].groupby('year_of_release')['year_of_release'].count().plot(kind = 'bar')"
      ]
    },
    {
      "cell_type": "code",
      "execution_count": null,
      "metadata": {
        "colab": {
          "base_uri": "https://localhost:8080/",
          "height": 322
        },
        "id": "3BYcmBZ6xCv3",
        "outputId": "78b70369-0037-4b6c-d2f4-dbc1dc1240c8"
      },
      "outputs": [
        {
          "data": {
            "text/plain": [
              "<AxesSubplot:xlabel='year_of_release'>"
            ]
          },
          "execution_count": 28,
          "metadata": {},
          "output_type": "execute_result"
        },
        {
          "data": {
            "image/png": "[encoded data removed]",
            "text/plain": [
              "<Figure size 432x288 with 1 Axes>"
            ]
          },
          "metadata": {
            "needs_background": "light"
          },
          "output_type": "display_data"
        }
      ],
      "source": [
        "df[df['platform'] == 'DS'].groupby('year_of_release')['year_of_release'].count().plot(kind = 'bar')"
      ]
    },
    {
      "cell_type": "code",
      "execution_count": null,
      "metadata": {
        "colab": {
          "base_uri": "https://localhost:8080/",
          "height": 322
        },
        "id": "Px0RrTgTVr7D",
        "outputId": "757e8746-9034-4f83-f53c-fc86b9546c4e"
      },
      "outputs": [
        {
          "data": {
            "text/plain": [
              "<AxesSubplot:xlabel='year_of_release'>"
            ]
          },
          "execution_count": 29,
          "metadata": {},
          "output_type": "execute_result"
        },
        {
          "data": {
            "image/png": "[encoded data removed]",
            "text/plain": [
              "<Figure size 432x288 with 1 Axes>"
            ]
          },
          "metadata": {
            "needs_background": "light"
          },
          "output_type": "display_data"
        }
      ],
      "source": [
        "df[df['platform'] == 'PS3'].groupby('year_of_release')['year_of_release'].count().plot(kind = 'bar')"
      ]
    },
    {
      "cell_type": "code",
      "execution_count": null,
      "metadata": {
        "colab": {
          "base_uri": "https://localhost:8080/",
          "height": 322
        },
        "id": "6Hm2_jmDWCLC",
        "outputId": "39b42105-a5d1-4745-ccda-972ae86c7913"
      },
      "outputs": [
        {
          "data": {
            "text/plain": [
              "<AxesSubplot:xlabel='year_of_release'>"
            ]
          },
          "execution_count": 30,
          "metadata": {},
          "output_type": "execute_result"
        },
        {
          "data": {
            "image/png": "[encoded data removed]",
            "text/plain": [
              "<Figure size 432x288 with 1 Axes>"
            ]
          },
          "metadata": {
            "needs_background": "light"
          },
          "output_type": "display_data"
        }
      ],
      "source": [
        "df[df['platform'] == 'Wii'].groupby('year_of_release')['year_of_release'].count().plot(kind = 'bar')"
      ]
    },
    {
      "cell_type": "code",
      "execution_count": null,
      "metadata": {
        "colab": {
          "base_uri": "https://localhost:8080/",
          "height": 322
        },
        "id": "dp_bLQMyWL5L",
        "outputId": "eb237fce-7096-4466-d0ed-1d52cb013804"
      },
      "outputs": [
        {
          "data": {
            "text/plain": [
              "<AxesSubplot:xlabel='year_of_release'>"
            ]
          },
          "execution_count": 31,
          "metadata": {},
          "output_type": "execute_result"
        },
        {
          "data": {
            "image/png": "[encoded data removed]",
            "text/plain": [
              "<Figure size 432x288 with 1 Axes>"
            ]
          },
          "metadata": {
            "needs_background": "light"
          },
          "output_type": "display_data"
        }
      ],
      "source": [
        "df[df['platform'] == 'X360'].groupby('year_of_release')['year_of_release'].count().plot(kind = 'bar')"
      ]
    },
    {
      "cell_type": "code",
      "execution_count": null,
      "metadata": {
        "colab": {
          "base_uri": "https://localhost:8080/",
          "height": 322
        },
        "id": "UrA0NQt0WpDr",
        "outputId": "9ba35523-99c8-4429-d65b-3270388d9c55"
      },
      "outputs": [
        {
          "data": {
            "text/plain": [
              "<AxesSubplot:xlabel='year_of_release'>"
            ]
          },
          "execution_count": 32,
          "metadata": {},
          "output_type": "execute_result"
        },
        {
          "data": {
            "image/png": "[encoded data removed]",
            "text/plain": [
              "<Figure size 432x288 with 1 Axes>"
            ]
          },
          "metadata": {
            "needs_background": "light"
          },
          "output_type": "display_data"
        }
      ],
      "source": [
        "df[df['platform'] == 'PSP'].groupby('year_of_release')['year_of_release'].count().plot(kind = 'bar')"
      ]
    },
    {
      "cell_type": "code",
      "execution_count": null,
      "metadata": {
        "colab": {
          "base_uri": "https://localhost:8080/",
          "height": 322
        },
        "id": "N0PavzEVW7df",
        "outputId": "554b816d-6067-46c1-ea53-96238cbabbd0"
      },
      "outputs": [
        {
          "data": {
            "text/plain": [
              "<AxesSubplot:xlabel='year_of_release'>"
            ]
          },
          "execution_count": 33,
          "metadata": {},
          "output_type": "execute_result"
        },
        {
          "data": {
            "image/png": "[encoded data removed]",
            "text/plain": [
              "<Figure size 432x288 with 1 Axes>"
            ]
          },
          "metadata": {
            "needs_background": "light"
          },
          "output_type": "display_data"
        }
      ],
      "source": [
        "df[df['platform'] == 'PS'].groupby('year_of_release')['year_of_release'].count().plot(kind = 'bar')"
      ]
    },
    {
      "cell_type": "code",
      "execution_count": null,
      "metadata": {
        "colab": {
          "base_uri": "https://localhost:8080/",
          "height": 322
        },
        "id": "aAcNncKqXHLJ",
        "outputId": "1ff61e67-053e-494f-a96b-044d6f66e70a"
      },
      "outputs": [
        {
          "data": {
            "text/plain": [
              "<AxesSubplot:xlabel='year_of_release'>"
            ]
          },
          "execution_count": 34,
          "metadata": {},
          "output_type": "execute_result"
        },
        {
          "data": {
            "image/png": "[encoded data removed]",
            "text/plain": [
              "<Figure size 432x288 with 1 Axes>"
            ]
          },
          "metadata": {
            "needs_background": "light"
          },
          "output_type": "display_data"
        }
      ],
      "source": [
        "df[df['platform'] == 'PC'].groupby('year_of_release')['year_of_release'].count().plot(kind = 'bar')"
      ]
    },
    {
      "cell_type": "code",
      "execution_count": null,
      "metadata": {
        "colab": {
          "base_uri": "https://localhost:8080/",
          "height": 322
        },
        "id": "H13QJZ0qXPBK",
        "outputId": "ffba9bb3-e860-464d-9988-8b93f6e4dee1"
      },
      "outputs": [
        {
          "data": {
            "text/plain": [
              "<AxesSubplot:xlabel='year_of_release'>"
            ]
          },
          "execution_count": 35,
          "metadata": {},
          "output_type": "execute_result"
        },
        {
          "data": {
            "image/png": "[encoded data removed]",
            "text/plain": [
              "<Figure size 432x288 with 1 Axes>"
            ]
          },
          "metadata": {
            "needs_background": "light"
          },
          "output_type": "display_data"
        }
      ],
      "source": [
        "df[df['platform'] == 'XB'].groupby('year_of_release')['year_of_release'].count().plot(kind = 'bar')"
      ]
    },
    {
      "cell_type": "code",
      "execution_count": null,
      "metadata": {
        "colab": {
          "base_uri": "https://localhost:8080/",
          "height": 322
        },
        "id": "LEuXn1RbXer6",
        "outputId": "db6838d7-65c0-434c-f64f-a4a05e4b7361"
      },
      "outputs": [
        {
          "data": {
            "text/plain": [
              "<AxesSubplot:xlabel='year_of_release'>"
            ]
          },
          "execution_count": 36,
          "metadata": {},
          "output_type": "execute_result"
        },
        {
          "data": {
            "image/png": "[encoded data removed]",
            "text/plain": [
              "<Figure size 432x288 with 1 Axes>"
            ]
          },
          "metadata": {
            "needs_background": "light"
          },
          "output_type": "display_data"
        }
      ],
      "source": [
        "df[df['platform'] == 'PS4'].groupby('year_of_release')['year_of_release'].count().plot(kind = 'bar')"
      ]
    },
    {
      "cell_type": "markdown",
      "metadata": {
        "id": "so9L1tKcJgLu"
      },
      "source": [
        "В среднем срок актуальности платформы ~8 лет, где то 3-4 года взлета и столько же падение. Значит учитывать данные за последние 4 года, для дальнейшего анализа - это хорошая идея =)"
      ]
    },
    {
      "cell_type": "code",
      "execution_count": null,
      "metadata": {
        "id": "rwx0Lv-qYrpy"
      },
      "outputs": [],
      "source": [
        "df13_16 = df[df['year_of_release'] >= 2013]"
      ]
    },
    {
      "cell_type": "code",
      "execution_count": null,
      "metadata": {
        "colab": {
          "base_uri": "https://localhost:8080/"
        },
        "id": "XJvC3CH5X_pL",
        "outputId": "2e9d6eca-3205-476b-ac97-8ce256460cd5"
      },
      "outputs": [
        {
          "data": {
            "text/plain": [
              "platform\n",
              "PS4     392\n",
              "PSV     358\n",
              "PS3     345\n",
              "3DS     303\n",
              "XOne    247\n",
              "PC      189\n",
              "X360    186\n",
              "WiiU    115\n",
              "PSP      67\n",
              "Wii      23\n",
              "DS        8\n",
              "Name: year_of_release, dtype: int64"
            ]
          },
          "execution_count": 39,
          "metadata": {},
          "output_type": "execute_result"
        }
      ],
      "source": [
        "df13_16.groupby('platform')['year_of_release'].count().sort_values(ascending = False)"
      ]
    },
    {
      "cell_type": "code",
      "execution_count": null,
      "metadata": {
        "colab": {
          "base_uri": "https://localhost:8080/",
          "height": 322
        },
        "id": "CAImVDUUYxcq",
        "outputId": "e04a7462-539e-47e0-e082-ff707b2b523d"
      },
      "outputs": [
        {
          "data": {
            "text/plain": [
              "<AxesSubplot:xlabel='year_of_release'>"
            ]
          },
          "execution_count": 40,
          "metadata": {},
          "output_type": "execute_result"
        },
        {
          "data": {
            "image/png": "[encoded data removed]",
            "text/plain": [
              "<Figure size 432x288 with 1 Axes>"
            ]
          },
          "metadata": {
            "needs_background": "light"
          },
          "output_type": "display_data"
        }
      ],
      "source": [
        "df13_16[df13_16['platform'] == 'PSV'].groupby('year_of_release')['year_of_release'].count().plot(kind = 'bar')"
      ]
    },
    {
      "cell_type": "code",
      "execution_count": null,
      "metadata": {
        "colab": {
          "base_uri": "https://localhost:8080/",
          "height": 322
        },
        "id": "vyEFJij5ZVb7",
        "outputId": "04cd6fe8-3a0e-43d5-b408-9fcfc824a81e"
      },
      "outputs": [
        {
          "data": {
            "text/plain": [
              "<AxesSubplot:xlabel='year_of_release'>"
            ]
          },
          "execution_count": 41,
          "metadata": {},
          "output_type": "execute_result"
        },
        {
          "data": {
            "image/png": "[encoded data removed]",
            "text/plain": [
              "<Figure size 432x288 with 1 Axes>"
            ]
          },
          "metadata": {
            "needs_background": "light"
          },
          "output_type": "display_data"
        }
      ],
      "source": [
        "df13_16[df13_16['platform'] == '3DS'].groupby('year_of_release')['year_of_release'].count().plot(kind = 'bar')"
      ]
    },
    {
      "cell_type": "code",
      "execution_count": null,
      "metadata": {
        "colab": {
          "base_uri": "https://localhost:8080/",
          "height": 322
        },
        "id": "twuxKb7fZ_a7",
        "outputId": "e6e195e4-dd59-4e92-87d1-a1b555c09ab0"
      },
      "outputs": [
        {
          "data": {
            "text/plain": [
              "<AxesSubplot:xlabel='year_of_release'>"
            ]
          },
          "execution_count": 42,
          "metadata": {},
          "output_type": "execute_result"
        },
        {
          "data": {
            "image/png": "[encoded data removed]",
            "text/plain": [
              "<Figure size 432x288 with 1 Axes>"
            ]
          },
          "metadata": {
            "needs_background": "light"
          },
          "output_type": "display_data"
        }
      ],
      "source": [
        "df13_16[df13_16['platform'] == 'XOne'].groupby('year_of_release')['year_of_release'].count().plot(kind = 'bar')"
      ]
    },
    {
      "cell_type": "markdown",
      "metadata": {
        "id": "qU14z0zB5_ay"
      },
      "source": [
        "Две перспективные растущие платформы: XOne и PS4.\n",
        "Так же PC всегда актуален."
      ]
    },
    {
      "cell_type": "code",
      "execution_count": null,
      "metadata": {
        "colab": {
          "base_uri": "https://localhost:8080/"
        },
        "id": "INF7Jh9kDCbG",
        "outputId": "bcee86b5-680b-4109-a44d-bea3e87f524d"
      },
      "outputs": [
        {
          "data": {
            "text/plain": [
              "array(['PS3', 'X360', 'PS4', '3DS', 'XOne', 'WiiU', 'Wii', 'PC', 'PSV',\n",
              "       'DS', 'PSP'], dtype=object)"
            ]
          },
          "execution_count": 43,
          "metadata": {},
          "output_type": "execute_result"
        }
      ],
      "source": [
        "df13_16['platform'].unique()"
      ]
    },
    {
      "cell_type": "code",
      "execution_count": null,
      "metadata": {
        "id": "QNOkKrcZAqJN"
      },
      "outputs": [],
      "source": [
        "t = [\n",
        "     df13_16[df13_16['platform'] == 'PS3']['all_sales'],\n",
        "     df13_16[df13_16['platform'] == 'X360']['all_sales'],\n",
        "     df13_16[df13_16['platform'] == 'PS4']['all_sales'],\n",
        "     df13_16[df13_16['platform'] == '3DS']['all_sales'],\n",
        "     df13_16[df13_16['platform'] == 'XOne']['all_sales'],\n",
        "     df13_16[df13_16['platform'] == 'WiiU']['all_sales'],\n",
        "     df13_16[df13_16['platform'] == 'Wii']['all_sales'],\n",
        "     df13_16[df13_16['platform'] == 'PC']['all_sales'],\n",
        "     df13_16[df13_16['platform'] == 'PSV']['all_sales'],\n",
        "     df13_16[df13_16['platform'] == 'DS']['all_sales'],\n",
        "     df13_16[df13_16['platform'] == 'PSP']['all_sales'],\n",
        "]"
      ]
    },
    {
      "cell_type": "code",
      "execution_count": null,
      "metadata": {
        "colab": {
          "base_uri": "https://localhost:8080/",
          "height": 324
        },
        "id": "0UqcCQsKaFxR",
        "outputId": "966316df-7d4d-4315-f654-55c1305ec2e9"
      },
      "outputs": [
        {
          "data": {
            "image/png": "[encoded data removed]",
            "text/plain": [
              "<Figure size 432x288 with 1 Axes>"
            ]
          },
          "metadata": {
            "needs_background": "light"
          },
          "output_type": "display_data"
        }
      ],
      "source": [
        "plt.ylim(-1,20)\n",
        "plt.boxplot(t)\n",
        "plt.show()"
      ]
    },
    {
      "cell_type": "code",
      "execution_count": null,
      "metadata": {
        "colab": {
          "base_uri": "https://localhost:8080/",
          "height": 324
        },
        "id": "-Ea_25LS-27P",
        "outputId": "3e23ff15-f851-44b1-90e4-521e9a0ca285"
      },
      "outputs": [
        {
          "data": {
            "image/png": "[encoded data removed]",
            "text/plain": [
              "<Figure size 1440x720 with 1 Axes>"
            ]
          },
          "metadata": {
            "needs_background": "light"
          },
          "output_type": "display_data"
        }
      ],
      "source": [
        "plt.figure(figsize=(20, 10))\n",
        "plt.ylim(0, 0.85)\n",
        "plt.boxplot(t)\n",
        "plt.show()"
      ]
    },
    {
      "cell_type": "markdown",
      "metadata": {
        "id": "ckss6goTxZiC"
      },
      "source": [
        "Из этих графиков можно увидеть, что у всех живых платформ, в основном игры продаются не более 1 млн копий. Но есть огромное количество игр продажи которых на всех платформах многократно превышают медианные продажи. Некоторые игры продавались тиражами в несколько десятков раз больше, чем медианная игра на этой платформе."
      ]
    },
    {
      "cell_type": "code",
      "execution_count": null,
      "metadata": {
        "id": "T2zky9g8rjvs"
      },
      "outputs": [],
      "source": [
        "df_top7 = df13_16[df13_16['platform'] != 'WiiU']\n",
        "df_top7 = df_top7[df_top7['platform'] != 'PSP']\n",
        "df_top7 = df_top7[df_top7['platform'] != 'Wii']\n",
        "df_top7 = df_top7[df_top7['platform'] != 'DS']"
      ]
    },
    {
      "cell_type": "markdown",
      "metadata": {
        "id": "nAp9dJDf1urj"
      },
      "source": [
        "Это наименее представленные платформы в датафрейме с 13 года, я решил взять 7 наиболее представленных платформ."
      ]
    },
    {
      "cell_type": "code",
      "execution_count": null,
      "metadata": {
        "colab": {
          "base_uri": "https://localhost:8080/",
          "height": 1000
        },
        "id": "G_6yriIstkK7",
        "outputId": "533ce2a1-c25f-4f42-e781-0bf65a32aec8",
        "scrolled": false
      },
      "outputs": [
        {
          "data": {
            "text/html": [
              "<div>\n",
              "<style scoped>\n",
              "    .dataframe tbody tr th:only-of-type {\n",
              "        vertical-align: middle;\n",
              "    }\n",
              "\n",
              "    .dataframe tbody tr th {\n",
              "        vertical-align: top;\n",
              "    }\n",
              "\n",
              "    .dataframe thead th {\n",
              "        text-align: right;\n",
              "    }\n",
              "</style>\n",
              "<table border=\"1\" class=\"dataframe\">\n",
              "  <thead>\n",
              "    <tr style=\"text-align: right;\">\n",
              "      <th></th>\n",
              "      <th>critic_score</th>\n",
              "      <th>user_score</th>\n",
              "      <th>all_sales</th>\n",
              "    </tr>\n",
              "  </thead>\n",
              "  <tbody>\n",
              "    <tr>\n",
              "      <th>critic_score</th>\n",
              "      <td>1.000000</td>\n",
              "      <td>-0.172596</td>\n",
              "      <td>0.334285</td>\n",
              "    </tr>\n",
              "    <tr>\n",
              "      <th>user_score</th>\n",
              "      <td>-0.172596</td>\n",
              "      <td>1.000000</td>\n",
              "      <td>-0.133733</td>\n",
              "    </tr>\n",
              "    <tr>\n",
              "      <th>all_sales</th>\n",
              "      <td>0.334285</td>\n",
              "      <td>-0.133733</td>\n",
              "      <td>1.000000</td>\n",
              "    </tr>\n",
              "  </tbody>\n",
              "</table>\n",
              "</div>"
            ],
            "text/plain": [
              "              critic_score  user_score  all_sales\n",
              "critic_score      1.000000   -0.172596   0.334285\n",
              "user_score       -0.172596    1.000000  -0.133733\n",
              "all_sales         0.334285   -0.133733   1.000000"
            ]
          },
          "metadata": {},
          "output_type": "display_data"
        },
        {
          "name": "stderr",
          "output_type": "stream",
          "text": [
            "/tmp/ipykernel_456/1486076346.py:5: UserWarning: Boolean Series key will be reindexed to match DataFrame index.\n",
            "  df_top7[(df_top7['platform'] == i) & (df['user_score'] < 33)].plot(kind = 'scatter', x = 'user_score', y = 'all_sales')\n"
          ]
        },
        {
          "data": {
            "image/png": "[encoded data removed]",
            "text/plain": [
              "<Figure size 432x288 with 1 Axes>"
            ]
          },
          "metadata": {
            "needs_background": "light"
          },
          "output_type": "display_data"
        },
        {
          "data": {
            "image/png": "[encoded data removed]",
            "text/plain": [
              "<Figure size 432x288 with 1 Axes>"
            ]
          },
          "metadata": {
            "needs_background": "light"
          },
          "output_type": "display_data"
        },
        {
          "data": {
            "text/html": [
              "<div>\n",
              "<style scoped>\n",
              "    .dataframe tbody tr th:only-of-type {\n",
              "        vertical-align: middle;\n",
              "    }\n",
              "\n",
              "    .dataframe tbody tr th {\n",
              "        vertical-align: top;\n",
              "    }\n",
              "\n",
              "    .dataframe thead th {\n",
              "        text-align: right;\n",
              "    }\n",
              "</style>\n",
              "<table border=\"1\" class=\"dataframe\">\n",
              "  <thead>\n",
              "    <tr style=\"text-align: right;\">\n",
              "      <th></th>\n",
              "      <th>critic_score</th>\n",
              "      <th>user_score</th>\n",
              "      <th>all_sales</th>\n",
              "    </tr>\n",
              "  </thead>\n",
              "  <tbody>\n",
              "    <tr>\n",
              "      <th>critic_score</th>\n",
              "      <td>1.000000</td>\n",
              "      <td>0.520946</td>\n",
              "      <td>0.350345</td>\n",
              "    </tr>\n",
              "    <tr>\n",
              "      <th>user_score</th>\n",
              "      <td>0.520946</td>\n",
              "      <td>1.000000</td>\n",
              "      <td>-0.100095</td>\n",
              "    </tr>\n",
              "    <tr>\n",
              "      <th>all_sales</th>\n",
              "      <td>0.350345</td>\n",
              "      <td>-0.100095</td>\n",
              "      <td>1.000000</td>\n",
              "    </tr>\n",
              "  </tbody>\n",
              "</table>\n",
              "</div>"
            ],
            "text/plain": [
              "              critic_score  user_score  all_sales\n",
              "critic_score      1.000000    0.520946   0.350345\n",
              "user_score        0.520946    1.000000  -0.100095\n",
              "all_sales         0.350345   -0.100095   1.000000"
            ]
          },
          "metadata": {},
          "output_type": "display_data"
        },
        {
          "name": "stderr",
          "output_type": "stream",
          "text": [
            "/tmp/ipykernel_456/1486076346.py:5: UserWarning: Boolean Series key will be reindexed to match DataFrame index.\n",
            "  df_top7[(df_top7['platform'] == i) & (df['user_score'] < 33)].plot(kind = 'scatter', x = 'user_score', y = 'all_sales')\n"
          ]
        },
        {
          "data": {
            "image/png": "[encoded data removed]",
            "text/plain": [
              "<Figure size 432x288 with 1 Axes>"
            ]
          },
          "metadata": {
            "needs_background": "light"
          },
          "output_type": "display_data"
        },
        {
          "data": {
            "image/png": "[encoded data removed]",
            "text/plain": [
              "<Figure size 432x288 with 1 Axes>"
            ]
          },
          "metadata": {
            "needs_background": "light"
          },
          "output_type": "display_data"
        },
        {
          "data": {
            "text/html": [
              "<div>\n",
              "<style scoped>\n",
              "    .dataframe tbody tr th:only-of-type {\n",
              "        vertical-align: middle;\n",
              "    }\n",
              "\n",
              "    .dataframe tbody tr th {\n",
              "        vertical-align: top;\n",
              "    }\n",
              "\n",
              "    .dataframe thead th {\n",
              "        text-align: right;\n",
              "    }\n",
              "</style>\n",
              "<table border=\"1\" class=\"dataframe\">\n",
              "  <thead>\n",
              "    <tr style=\"text-align: right;\">\n",
              "      <th></th>\n",
              "      <th>critic_score</th>\n",
              "      <th>user_score</th>\n",
              "      <th>all_sales</th>\n",
              "    </tr>\n",
              "  </thead>\n",
              "  <tbody>\n",
              "    <tr>\n",
              "      <th>critic_score</th>\n",
              "      <td>1.000000</td>\n",
              "      <td>0.012601</td>\n",
              "      <td>0.406568</td>\n",
              "    </tr>\n",
              "    <tr>\n",
              "      <th>user_score</th>\n",
              "      <td>0.012601</td>\n",
              "      <td>1.000000</td>\n",
              "      <td>-0.087008</td>\n",
              "    </tr>\n",
              "    <tr>\n",
              "      <th>all_sales</th>\n",
              "      <td>0.406568</td>\n",
              "      <td>-0.087008</td>\n",
              "      <td>1.000000</td>\n",
              "    </tr>\n",
              "  </tbody>\n",
              "</table>\n",
              "</div>"
            ],
            "text/plain": [
              "              critic_score  user_score  all_sales\n",
              "critic_score      1.000000    0.012601   0.406568\n",
              "user_score        0.012601    1.000000  -0.087008\n",
              "all_sales         0.406568   -0.087008   1.000000"
            ]
          },
          "metadata": {},
          "output_type": "display_data"
        },
        {
          "name": "stderr",
          "output_type": "stream",
          "text": [
            "/tmp/ipykernel_456/1486076346.py:5: UserWarning: Boolean Series key will be reindexed to match DataFrame index.\n",
            "  df_top7[(df_top7['platform'] == i) & (df['user_score'] < 33)].plot(kind = 'scatter', x = 'user_score', y = 'all_sales')\n"
          ]
        },
        {
          "data": {
            "image/png": "[encoded data removed]",
            "text/plain": [
              "<Figure size 432x288 with 1 Axes>"
            ]
          },
          "metadata": {
            "needs_background": "light"
          },
          "output_type": "display_data"
        },
        {
          "data": {
            "image/png": "[encoded data removed]",
            "text/plain": [
              "<Figure size 432x288 with 1 Axes>"
            ]
          },
          "metadata": {
            "needs_background": "light"
          },
          "output_type": "display_data"
        },
        {
          "data": {
            "text/html": [
              "<div>\n",
              "<style scoped>\n",
              "    .dataframe tbody tr th:only-of-type {\n",
              "        vertical-align: middle;\n",
              "    }\n",
              "\n",
              "    .dataframe tbody tr th {\n",
              "        vertical-align: top;\n",
              "    }\n",
              "\n",
              "    .dataframe thead th {\n",
              "        text-align: right;\n",
              "    }\n",
              "</style>\n",
              "<table border=\"1\" class=\"dataframe\">\n",
              "  <thead>\n",
              "    <tr style=\"text-align: right;\">\n",
              "      <th></th>\n",
              "      <th>critic_score</th>\n",
              "      <th>user_score</th>\n",
              "      <th>all_sales</th>\n",
              "    </tr>\n",
              "  </thead>\n",
              "  <tbody>\n",
              "    <tr>\n",
              "      <th>critic_score</th>\n",
              "      <td>1.000000</td>\n",
              "      <td>-0.242819</td>\n",
              "      <td>0.357057</td>\n",
              "    </tr>\n",
              "    <tr>\n",
              "      <th>user_score</th>\n",
              "      <td>-0.242819</td>\n",
              "      <td>1.000000</td>\n",
              "      <td>-0.262377</td>\n",
              "    </tr>\n",
              "    <tr>\n",
              "      <th>all_sales</th>\n",
              "      <td>0.357057</td>\n",
              "      <td>-0.262377</td>\n",
              "      <td>1.000000</td>\n",
              "    </tr>\n",
              "  </tbody>\n",
              "</table>\n",
              "</div>"
            ],
            "text/plain": [
              "              critic_score  user_score  all_sales\n",
              "critic_score      1.000000   -0.242819   0.357057\n",
              "user_score       -0.242819    1.000000  -0.262377\n",
              "all_sales         0.357057   -0.262377   1.000000"
            ]
          },
          "metadata": {},
          "output_type": "display_data"
        },
        {
          "name": "stderr",
          "output_type": "stream",
          "text": [
            "/tmp/ipykernel_456/1486076346.py:5: UserWarning: Boolean Series key will be reindexed to match DataFrame index.\n",
            "  df_top7[(df_top7['platform'] == i) & (df['user_score'] < 33)].plot(kind = 'scatter', x = 'user_score', y = 'all_sales')\n"
          ]
        },
        {
          "data": {
            "image/png": "[encoded data removed]",
            "text/plain": [
              "<Figure size 432x288 with 1 Axes>"
            ]
          },
          "metadata": {
            "needs_background": "light"
          },
          "output_type": "display_data"
        },
        {
          "data": {
            "image/png": "[encoded data removed]",
            "text/plain": [
              "<Figure size 432x288 with 1 Axes>"
            ]
          },
          "metadata": {
            "needs_background": "light"
          },
          "output_type": "display_data"
        },
        {
          "data": {
            "text/html": [
              "<div>\n",
              "<style scoped>\n",
              "    .dataframe tbody tr th:only-of-type {\n",
              "        vertical-align: middle;\n",
              "    }\n",
              "\n",
              "    .dataframe tbody tr th {\n",
              "        vertical-align: top;\n",
              "    }\n",
              "\n",
              "    .dataframe thead th {\n",
              "        text-align: right;\n",
              "    }\n",
              "</style>\n",
              "<table border=\"1\" class=\"dataframe\">\n",
              "  <thead>\n",
              "    <tr style=\"text-align: right;\">\n",
              "      <th></th>\n",
              "      <th>critic_score</th>\n",
              "      <th>user_score</th>\n",
              "      <th>all_sales</th>\n",
              "    </tr>\n",
              "  </thead>\n",
              "  <tbody>\n",
              "    <tr>\n",
              "      <th>critic_score</th>\n",
              "      <td>1.000000</td>\n",
              "      <td>-0.125103</td>\n",
              "      <td>0.416998</td>\n",
              "    </tr>\n",
              "    <tr>\n",
              "      <th>user_score</th>\n",
              "      <td>-0.125103</td>\n",
              "      <td>1.000000</td>\n",
              "      <td>-0.160802</td>\n",
              "    </tr>\n",
              "    <tr>\n",
              "      <th>all_sales</th>\n",
              "      <td>0.416998</td>\n",
              "      <td>-0.160802</td>\n",
              "      <td>1.000000</td>\n",
              "    </tr>\n",
              "  </tbody>\n",
              "</table>\n",
              "</div>"
            ],
            "text/plain": [
              "              critic_score  user_score  all_sales\n",
              "critic_score      1.000000   -0.125103   0.416998\n",
              "user_score       -0.125103    1.000000  -0.160802\n",
              "all_sales         0.416998   -0.160802   1.000000"
            ]
          },
          "metadata": {},
          "output_type": "display_data"
        },
        {
          "name": "stderr",
          "output_type": "stream",
          "text": [
            "/tmp/ipykernel_456/1486076346.py:5: UserWarning: Boolean Series key will be reindexed to match DataFrame index.\n",
            "  df_top7[(df_top7['platform'] == i) & (df['user_score'] < 33)].plot(kind = 'scatter', x = 'user_score', y = 'all_sales')\n"
          ]
        },
        {
          "data": {
            "image/png": "[encoded data removed]",
            "text/plain": [
              "<Figure size 432x288 with 1 Axes>"
            ]
          },
          "metadata": {
            "needs_background": "light"
          },
          "output_type": "display_data"
        },
        {
          "data": {
            "image/png": "[encoded data removed]",
            "text/plain": [
              "<Figure size 432x288 with 1 Axes>"
            ]
          },
          "metadata": {
            "needs_background": "light"
          },
          "output_type": "display_data"
        },
        {
          "data": {
            "text/html": [
              "<div>\n",
              "<style scoped>\n",
              "    .dataframe tbody tr th:only-of-type {\n",
              "        vertical-align: middle;\n",
              "    }\n",
              "\n",
              "    .dataframe tbody tr th {\n",
              "        vertical-align: top;\n",
              "    }\n",
              "\n",
              "    .dataframe thead th {\n",
              "        text-align: right;\n",
              "    }\n",
              "</style>\n",
              "<table border=\"1\" class=\"dataframe\">\n",
              "  <thead>\n",
              "    <tr style=\"text-align: right;\">\n",
              "      <th></th>\n",
              "      <th>critic_score</th>\n",
              "      <th>user_score</th>\n",
              "      <th>all_sales</th>\n",
              "    </tr>\n",
              "  </thead>\n",
              "  <tbody>\n",
              "    <tr>\n",
              "      <th>critic_score</th>\n",
              "      <td>1.000000</td>\n",
              "      <td>0.429562</td>\n",
              "      <td>0.19603</td>\n",
              "    </tr>\n",
              "    <tr>\n",
              "      <th>user_score</th>\n",
              "      <td>0.429562</td>\n",
              "      <td>1.000000</td>\n",
              "      <td>-0.10262</td>\n",
              "    </tr>\n",
              "    <tr>\n",
              "      <th>all_sales</th>\n",
              "      <td>0.196030</td>\n",
              "      <td>-0.102620</td>\n",
              "      <td>1.00000</td>\n",
              "    </tr>\n",
              "  </tbody>\n",
              "</table>\n",
              "</div>"
            ],
            "text/plain": [
              "              critic_score  user_score  all_sales\n",
              "critic_score      1.000000    0.429562    0.19603\n",
              "user_score        0.429562    1.000000   -0.10262\n",
              "all_sales         0.196030   -0.102620    1.00000"
            ]
          },
          "metadata": {},
          "output_type": "display_data"
        },
        {
          "name": "stderr",
          "output_type": "stream",
          "text": [
            "/tmp/ipykernel_456/1486076346.py:5: UserWarning: Boolean Series key will be reindexed to match DataFrame index.\n",
            "  df_top7[(df_top7['platform'] == i) & (df['user_score'] < 33)].plot(kind = 'scatter', x = 'user_score', y = 'all_sales')\n"
          ]
        },
        {
          "data": {
            "image/png": "[encoded data removed]",
            "text/plain": [
              "<Figure size 432x288 with 1 Axes>"
            ]
          },
          "metadata": {
            "needs_background": "light"
          },
          "output_type": "display_data"
        },
        {
          "data": {
            "image/png": "[encoded data removed]",
            "text/plain": [
              "<Figure size 432x288 with 1 Axes>"
            ]
          },
          "metadata": {
            "needs_background": "light"
          },
          "output_type": "display_data"
        },
        {
          "data": {
            "text/html": [
              "<div>\n",
              "<style scoped>\n",
              "    .dataframe tbody tr th:only-of-type {\n",
              "        vertical-align: middle;\n",
              "    }\n",
              "\n",
              "    .dataframe tbody tr th {\n",
              "        vertical-align: top;\n",
              "    }\n",
              "\n",
              "    .dataframe thead th {\n",
              "        text-align: right;\n",
              "    }\n",
              "</style>\n",
              "<table border=\"1\" class=\"dataframe\">\n",
              "  <thead>\n",
              "    <tr style=\"text-align: right;\">\n",
              "      <th></th>\n",
              "      <th>critic_score</th>\n",
              "      <th>user_score</th>\n",
              "      <th>all_sales</th>\n",
              "    </tr>\n",
              "  </thead>\n",
              "  <tbody>\n",
              "    <tr>\n",
              "      <th>critic_score</th>\n",
              "      <td>1.000000</td>\n",
              "      <td>-0.008750</td>\n",
              "      <td>0.254742</td>\n",
              "    </tr>\n",
              "    <tr>\n",
              "      <th>user_score</th>\n",
              "      <td>-0.008750</td>\n",
              "      <td>1.000000</td>\n",
              "      <td>-0.194195</td>\n",
              "    </tr>\n",
              "    <tr>\n",
              "      <th>all_sales</th>\n",
              "      <td>0.254742</td>\n",
              "      <td>-0.194195</td>\n",
              "      <td>1.000000</td>\n",
              "    </tr>\n",
              "  </tbody>\n",
              "</table>\n",
              "</div>"
            ],
            "text/plain": [
              "              critic_score  user_score  all_sales\n",
              "critic_score      1.000000   -0.008750   0.254742\n",
              "user_score       -0.008750    1.000000  -0.194195\n",
              "all_sales         0.254742   -0.194195   1.000000"
            ]
          },
          "metadata": {},
          "output_type": "display_data"
        },
        {
          "name": "stderr",
          "output_type": "stream",
          "text": [
            "/tmp/ipykernel_456/1486076346.py:5: UserWarning: Boolean Series key will be reindexed to match DataFrame index.\n",
            "  df_top7[(df_top7['platform'] == i) & (df['user_score'] < 33)].plot(kind = 'scatter', x = 'user_score', y = 'all_sales')\n"
          ]
        },
        {
          "data": {
            "image/png": "[encoded data removed]",
            "text/plain": [
              "<Figure size 432x288 with 1 Axes>"
            ]
          },
          "metadata": {
            "needs_background": "light"
          },
          "output_type": "display_data"
        },
        {
          "data": {
            "image/png": "[encoded data removed]",
            "text/plain": [
              "<Figure size 432x288 with 1 Axes>"
            ]
          },
          "metadata": {
            "needs_background": "light"
          },
          "output_type": "display_data"
        }
      ],
      "source": [
        "for i in df_top7['platform'].unique():\n",
        "  display(df_top7[df_top7['platform'] == i][['critic_score', 'user_score', 'all_sales']].corr())\n",
        "  df_top7[df_top7['platform'] == i].plot(kind = 'scatter', x = 'critic_score', y = 'all_sales')\n",
        "  plt.title('Диаграмма рассеяния оценки критиков и продаж игр  на платформе {}'.format(i))\n",
        "  df_top7[(df_top7['platform'] == i) & (df['user_score'] < 33)].plot(kind = 'scatter', x = 'user_score', y = 'all_sales')\n",
        "  plt.title('Диаграмма рассеяния оценки игроков и продаж игр  на платформе {}'.format(i))\n",
        "  plt.show()"
      ]
    },
    {
      "cell_type": "markdown",
      "metadata": {
        "id": "w8s8tslSxRpU"
      },
      "source": [
        "На основе анализа топ - 7 популярных и \"живых\" платформ:\n",
        "Корреляция между продажами и отзывами критиков прослеживается, иногда она минимальна, но в общем можно сказать, что хорошие отзывы критиков чаще сопутствуют хорошим продажам. Чего нельзя сказать об отзывах игроков, тут во всех случаях корреляция отрицательныя. Это можно связать с тем, что игроки покупают больше расхваленые критиками и игры и ставят этим играм плохие оценки."
      ]
    },
    {
      "cell_type": "code",
      "execution_count": null,
      "metadata": {
        "colab": {
          "base_uri": "https://localhost:8080/"
        },
        "id": "cyE_k4a78ML_",
        "outputId": "ce99d15a-1b83-4c1e-bb4f-9cb22a7109f5"
      },
      "outputs": [
        {
          "data": {
            "text/plain": [
              "12"
            ]
          },
          "execution_count": 50,
          "metadata": {},
          "output_type": "execute_result"
        }
      ],
      "source": [
        "df13_16['genre'].nunique()"
      ]
    },
    {
      "cell_type": "code",
      "execution_count": null,
      "metadata": {
        "colab": {
          "base_uri": "https://localhost:8080/",
          "height": 609
        },
        "id": "ImzICFB02H2A",
        "outputId": "03317f5d-a8d6-4ed5-e410-d7fb80d8277a"
      },
      "outputs": [
        {
          "data": {
            "text/plain": [
              "<AxesSubplot:>"
            ]
          },
          "execution_count": 51,
          "metadata": {},
          "output_type": "execute_result"
        },
        {
          "data": {
            "image/png": "[encoded data removed]",
            "text/plain": [
              "<Figure size 1440x720 with 1 Axes>"
            ]
          },
          "metadata": {
            "needs_background": "light"
          },
          "output_type": "display_data"
        }
      ],
      "source": [
        "df13_16['genre'].hist(figsize = (20, 10), bins = 24)"
      ]
    },
    {
      "cell_type": "code",
      "execution_count": null,
      "metadata": {
        "colab": {
          "base_uri": "https://localhost:8080/"
        },
        "id": "zTw0Am2k7-XA",
        "outputId": "8d7525f4-2b35-419b-fea8-60a34703841c"
      },
      "outputs": [
        {
          "data": {
            "text/plain": [
              "genre\n",
              "Puzzle            3.17\n",
              "Strategy         10.08\n",
              "Simulation       21.76\n",
              "Adventure        23.64\n",
              "Fighting         35.31\n",
              "Racing           39.89\n",
              "Platform         42.63\n",
              "Misc             62.82\n",
              "Role-Playing    145.89\n",
              "Sports          150.65\n",
              "Shooter         232.98\n",
              "Action          321.87\n",
              "Name: all_sales, dtype: float64"
            ]
          },
          "execution_count": 52,
          "metadata": {},
          "output_type": "execute_result"
        }
      ],
      "source": [
        "df13_16.groupby('genre')['all_sales'].sum().sort_values()"
      ]
    },
    {
      "cell_type": "code",
      "execution_count": null,
      "metadata": {
        "colab": {
          "base_uri": "https://localhost:8080/",
          "height": 364
        },
        "id": "UyoP_PD6fa-a",
        "outputId": "7eb1ee47-d6e4-4941-aa88-ececa5e77f64"
      },
      "outputs": [
        {
          "data": {
            "text/plain": [
              "<AxesSubplot:title={'center':'Количество проданных копий в млн штук, за актуальный период'}, xlabel='genre'>"
            ]
          },
          "execution_count": 53,
          "metadata": {},
          "output_type": "execute_result"
        },
        {
          "data": {
            "image/png": "[encoded data removed]",
            "text/plain": [
              "<Figure size 432x288 with 1 Axes>"
            ]
          },
          "metadata": {
            "needs_background": "light"
          },
          "output_type": "display_data"
        }
      ],
      "source": [
        "df13_16.groupby('genre')['all_sales'].sum().sort_values().plot(\n",
        "    kind = 'bar', title = 'Количество проданных копий в млн штук, за актуальный период'\n",
        ")"
      ]
    },
    {
      "cell_type": "markdown",
      "metadata": {
        "id": "8efqnzVZ91JS"
      },
      "source": [
        "Самый популярный жанр - экшн, почти 1750 млн копий игр этого жанра продано во всем мире с 1980 по 2016 годы. В тройке так же спортивные игры и стрелялки. Самые непопулярные жанры - стратегии, приключения и головоломки.\n",
        "\n",
        "За актуальный период ситуация в топ - 5 немного изменилась, экшн так остался с отрывом на 1 месте, шутеры и спортивные поменялись местами, а на 5 место забрались misc.\n"
      ]
    },
    {
      "cell_type": "code",
      "execution_count": null,
      "metadata": {
        "id": "4q-_RUrn1ur0",
        "outputId": "bc349bcb-e693-41be-d6b0-dda0c5cb9df0"
      },
      "outputs": [
        {
          "data": {
            "text/plain": [
              "<AxesSubplot:title={'center':'Количество проданных копий в млн штук, за актуальный период'}, xlabel='genre'>"
            ]
          },
          "execution_count": 54,
          "metadata": {},
          "output_type": "execute_result"
        },
        {
          "data": {
            "image/png": "[encoded data removed]",
            "text/plain": [
              "<Figure size 432x288 with 1 Axes>"
            ]
          },
          "metadata": {
            "needs_background": "light"
          },
          "output_type": "display_data"
        }
      ],
      "source": [
        "df13_16.groupby('genre')['all_sales'].median().sort_values().plot(\n",
        "    kind = 'bar', title = 'Количество проданных копий в млн штук, за актуальный период'\n",
        ")"
      ]
    },
    {
      "cell_type": "markdown",
      "metadata": {
        "id": "eha-WgIU1ur1"
      },
      "source": [
        "Медианная игра в жанре экшн даже не в топ-5 по продажам. Очевидно медианный шутер принесет больше продаж, так же в топ-3 платформеры и спортивные."
      ]
    },
    {
      "cell_type": "markdown",
      "metadata": {
        "id": "fvBbW6CXaqfX"
      },
      "source": [
        "# Портрет пользователя каждого региона"
      ]
    },
    {
      "cell_type": "markdown",
      "metadata": {
        "id": "9eUKlI1zBfCC"
      },
      "source": [
        "**Северная Америка:**"
      ]
    },
    {
      "cell_type": "code",
      "execution_count": null,
      "metadata": {
        "colab": {
          "base_uri": "https://localhost:8080/",
          "height": 1000
        },
        "id": "57mlkCSa88xv",
        "outputId": "65892cfc-3a73-4309-a658-4d1e9f4dae60"
      },
      "outputs": [
        {
          "data": {
            "text/html": [
              "<div>\n",
              "<style scoped>\n",
              "    .dataframe tbody tr th:only-of-type {\n",
              "        vertical-align: middle;\n",
              "    }\n",
              "\n",
              "    .dataframe tbody tr th {\n",
              "        vertical-align: top;\n",
              "    }\n",
              "\n",
              "    .dataframe thead th {\n",
              "        text-align: right;\n",
              "    }\n",
              "</style>\n",
              "<table border=\"1\" class=\"dataframe\">\n",
              "  <thead>\n",
              "    <tr style=\"text-align: right;\">\n",
              "      <th></th>\n",
              "      <th>platform</th>\n",
              "      <th>na_sales</th>\n",
              "    </tr>\n",
              "  </thead>\n",
              "  <tbody>\n",
              "    <tr>\n",
              "      <th>0</th>\n",
              "      <td>PS4</td>\n",
              "      <td>108.74</td>\n",
              "    </tr>\n",
              "    <tr>\n",
              "      <th>1</th>\n",
              "      <td>XOne</td>\n",
              "      <td>93.12</td>\n",
              "    </tr>\n",
              "    <tr>\n",
              "      <th>2</th>\n",
              "      <td>X360</td>\n",
              "      <td>81.66</td>\n",
              "    </tr>\n",
              "    <tr>\n",
              "      <th>3</th>\n",
              "      <td>PS3</td>\n",
              "      <td>63.50</td>\n",
              "    </tr>\n",
              "    <tr>\n",
              "      <th>4</th>\n",
              "      <td>3DS</td>\n",
              "      <td>38.20</td>\n",
              "    </tr>\n",
              "    <tr>\n",
              "      <th>5</th>\n",
              "      <td>WiiU</td>\n",
              "      <td>29.21</td>\n",
              "    </tr>\n",
              "    <tr>\n",
              "      <th>6</th>\n",
              "      <td>PC</td>\n",
              "      <td>11.11</td>\n",
              "    </tr>\n",
              "    <tr>\n",
              "      <th>7</th>\n",
              "      <td>Wii</td>\n",
              "      <td>6.56</td>\n",
              "    </tr>\n",
              "    <tr>\n",
              "      <th>8</th>\n",
              "      <td>PSV</td>\n",
              "      <td>5.04</td>\n",
              "    </tr>\n",
              "    <tr>\n",
              "      <th>9</th>\n",
              "      <td>DS</td>\n",
              "      <td>0.57</td>\n",
              "    </tr>\n",
              "    <tr>\n",
              "      <th>10</th>\n",
              "      <td>PSP</td>\n",
              "      <td>0.00</td>\n",
              "    </tr>\n",
              "  </tbody>\n",
              "</table>\n",
              "</div>"
            ],
            "text/plain": [
              "   platform  na_sales\n",
              "0       PS4    108.74\n",
              "1      XOne     93.12\n",
              "2      X360     81.66\n",
              "3       PS3     63.50\n",
              "4       3DS     38.20\n",
              "5      WiiU     29.21\n",
              "6        PC     11.11\n",
              "7       Wii      6.56\n",
              "8       PSV      5.04\n",
              "9        DS      0.57\n",
              "10      PSP      0.00"
            ]
          },
          "metadata": {},
          "output_type": "display_data"
        }
      ],
      "source": [
        "#Сортируем по платформам и суммам продаж игр для этих платформ в Северной Америке.\n",
        "na_top = df13_16.pivot_table(index = ('platform'), values = ('na_sales'), aggfunc = 'sum').sort_values(\n",
        "    by = 'na_sales', ascending = False\n",
        ").reset_index()\n",
        "display(na_top)"
      ]
    },
    {
      "cell_type": "code",
      "execution_count": null,
      "metadata": {
        "id": "aca0dalA1ur5",
        "outputId": "d266d35f-086a-4835-8c8f-618a7f6c051c"
      },
      "outputs": [
        {
          "data": {
            "text/html": [
              "<div>\n",
              "<style scoped>\n",
              "    .dataframe tbody tr th:only-of-type {\n",
              "        vertical-align: middle;\n",
              "    }\n",
              "\n",
              "    .dataframe tbody tr th {\n",
              "        vertical-align: top;\n",
              "    }\n",
              "\n",
              "    .dataframe thead th {\n",
              "        text-align: right;\n",
              "    }\n",
              "</style>\n",
              "<table border=\"1\" class=\"dataframe\">\n",
              "  <thead>\n",
              "    <tr style=\"text-align: right;\">\n",
              "      <th></th>\n",
              "      <th>na_sales</th>\n",
              "      <th>fraction</th>\n",
              "    </tr>\n",
              "    <tr>\n",
              "      <th>platform</th>\n",
              "      <th></th>\n",
              "      <th></th>\n",
              "    </tr>\n",
              "  </thead>\n",
              "  <tbody>\n",
              "    <tr>\n",
              "      <th>PS4</th>\n",
              "      <td>108.74</td>\n",
              "      <td>0.248429</td>\n",
              "    </tr>\n",
              "    <tr>\n",
              "      <th>XOne</th>\n",
              "      <td>93.12</td>\n",
              "      <td>0.212744</td>\n",
              "    </tr>\n",
              "    <tr>\n",
              "      <th>X360</th>\n",
              "      <td>81.66</td>\n",
              "      <td>0.186562</td>\n",
              "    </tr>\n",
              "    <tr>\n",
              "      <th>PS3</th>\n",
              "      <td>63.50</td>\n",
              "      <td>0.145073</td>\n",
              "    </tr>\n",
              "    <tr>\n",
              "      <th>other</th>\n",
              "      <td>52.49</td>\n",
              "      <td>0.119920</td>\n",
              "    </tr>\n",
              "    <tr>\n",
              "      <th>3DS</th>\n",
              "      <td>38.20</td>\n",
              "      <td>0.087272</td>\n",
              "    </tr>\n",
              "  </tbody>\n",
              "</table>\n",
              "</div>"
            ],
            "text/plain": [
              "          na_sales  fraction\n",
              "platform                    \n",
              "PS4         108.74  0.248429\n",
              "XOne         93.12  0.212744\n",
              "X360         81.66  0.186562\n",
              "PS3          63.50  0.145073\n",
              "other        52.49  0.119920\n",
              "3DS          38.20  0.087272"
            ]
          },
          "metadata": {},
          "output_type": "display_data"
        }
      ],
      "source": [
        "#Отбираем топ-5, платформы не вошедшие в топ-5 объединяем в \"other\".\n",
        "t = ['WiiU', 'PC', 'Wii', 'PSV', 'DS', 'PSP']\n",
        "def tru (j):\n",
        "  if j in t:\n",
        "    return 'other'\n",
        "  else:\n",
        "    return j\n",
        "\n",
        "na_top['platform'] = na_top['platform'].apply(tru)\n",
        "#Заново сортируем, уже с \"other\"\n",
        "na_top = na_top.pivot_table(index = ('platform'), values = ('na_sales'), aggfunc = 'sum').sort_values(\n",
        "    by = 'na_sales', ascending = False\n",
        ")\n",
        "#создаем столбец с долями продаж\n",
        "na_top['fraction'] = na_top['na_sales']/na_top['na_sales'].sum()\n",
        "display(na_top)"
      ]
    },
    {
      "cell_type": "code",
      "execution_count": null,
      "metadata": {
        "id": "5mDBKItF1ur6",
        "outputId": "3000a945-546f-483e-fcd1-cd453ef2cfc8"
      },
      "outputs": [
        {
          "data": {
            "text/plain": [
              "<AxesSubplot:title={'center':'Количество продаж в Северной Америке в млн штук'}, xlabel='platform'>"
            ]
          },
          "execution_count": 58,
          "metadata": {},
          "output_type": "execute_result"
        },
        {
          "data": {
            "image/png": "[encoded data removed]",
            "text/plain": [
              "<Figure size 432x288 with 1 Axes>"
            ]
          },
          "metadata": {
            "needs_background": "light"
          },
          "output_type": "display_data"
        }
      ],
      "source": [
        "na_top['na_sales'].plot(kind = 'bar', title = 'Количество продаж в Северной Америке в млн штук')"
      ]
    },
    {
      "cell_type": "code",
      "execution_count": null,
      "metadata": {
        "colab": {
          "base_uri": "https://localhost:8080/"
        },
        "id": "86zyZUeybzqG",
        "outputId": "e3739ae4-5206-44c4-98bf-be864edadcc6"
      },
      "outputs": [
        {
          "data": {
            "text/plain": [
              "genre\n",
              "Action          126.05\n",
              "Shooter         109.74\n",
              "Sports           65.27\n",
              "Role-Playing     46.40\n",
              "Misc             27.49\n",
              "Name: na_sales, dtype: float64"
            ]
          },
          "execution_count": 59,
          "metadata": {},
          "output_type": "execute_result"
        }
      ],
      "source": [
        "df13_16.groupby('genre')['na_sales'].sum().sort_values(ascending = False).head()"
      ]
    },
    {
      "cell_type": "code",
      "execution_count": null,
      "metadata": {
        "id": "oCOGNXBd1ur7",
        "outputId": "c6e47ee9-a258-4895-a2b8-3d3e262015d5"
      },
      "outputs": [
        {
          "data": {
            "text/plain": [
              "genre\n",
              "Shooter     0.200\n",
              "Platform    0.090\n",
              "Sports      0.080\n",
              "Fighting    0.045\n",
              "Racing      0.030\n",
              "Name: na_sales, dtype: float64"
            ]
          },
          "execution_count": 60,
          "metadata": {},
          "output_type": "execute_result"
        }
      ],
      "source": [
        "df13_16.groupby('genre')['na_sales'].median().sort_values(ascending = False).head()"
      ]
    },
    {
      "cell_type": "markdown",
      "metadata": {
        "id": "jHHQsAl-cWXT"
      },
      "source": [
        "Типичный североамериканец будет играть на платформах PS4, XOne, X360, PS3 и 3DS в экшены, шутеры, спортивные, ролевые и misc игры."
      ]
    },
    {
      "cell_type": "markdown",
      "metadata": {
        "id": "csn9ddSKB8Kq"
      },
      "source": [
        "***Европа:***"
      ]
    },
    {
      "cell_type": "code",
      "execution_count": null,
      "metadata": {
        "colab": {
          "base_uri": "https://localhost:8080/",
          "height": 1000
        },
        "id": "8MZdz7ALBXDy",
        "outputId": "dd6d00dd-45b9-4493-d58b-41d4b708d584"
      },
      "outputs": [
        {
          "data": {
            "text/html": [
              "<div>\n",
              "<style scoped>\n",
              "    .dataframe tbody tr th:only-of-type {\n",
              "        vertical-align: middle;\n",
              "    }\n",
              "\n",
              "    .dataframe tbody tr th {\n",
              "        vertical-align: top;\n",
              "    }\n",
              "\n",
              "    .dataframe thead th {\n",
              "        text-align: right;\n",
              "    }\n",
              "</style>\n",
              "<table border=\"1\" class=\"dataframe\">\n",
              "  <thead>\n",
              "    <tr style=\"text-align: right;\">\n",
              "      <th></th>\n",
              "      <th>platform</th>\n",
              "      <th>eu_sales</th>\n",
              "    </tr>\n",
              "  </thead>\n",
              "  <tbody>\n",
              "    <tr>\n",
              "      <th>0</th>\n",
              "      <td>PS4</td>\n",
              "      <td>141.09</td>\n",
              "    </tr>\n",
              "    <tr>\n",
              "      <th>1</th>\n",
              "      <td>PS3</td>\n",
              "      <td>67.81</td>\n",
              "    </tr>\n",
              "    <tr>\n",
              "      <th>2</th>\n",
              "      <td>XOne</td>\n",
              "      <td>51.59</td>\n",
              "    </tr>\n",
              "    <tr>\n",
              "      <th>3</th>\n",
              "      <td>X360</td>\n",
              "      <td>42.52</td>\n",
              "    </tr>\n",
              "    <tr>\n",
              "      <th>4</th>\n",
              "      <td>3DS</td>\n",
              "      <td>30.96</td>\n",
              "    </tr>\n",
              "    <tr>\n",
              "      <th>5</th>\n",
              "      <td>PC</td>\n",
              "      <td>25.36</td>\n",
              "    </tr>\n",
              "    <tr>\n",
              "      <th>6</th>\n",
              "      <td>WiiU</td>\n",
              "      <td>19.85</td>\n",
              "    </tr>\n",
              "    <tr>\n",
              "      <th>7</th>\n",
              "      <td>PSV</td>\n",
              "      <td>6.10</td>\n",
              "    </tr>\n",
              "    <tr>\n",
              "      <th>8</th>\n",
              "      <td>Wii</td>\n",
              "      <td>5.93</td>\n",
              "    </tr>\n",
              "    <tr>\n",
              "      <th>9</th>\n",
              "      <td>DS</td>\n",
              "      <td>0.85</td>\n",
              "    </tr>\n",
              "    <tr>\n",
              "      <th>10</th>\n",
              "      <td>PSP</td>\n",
              "      <td>0.17</td>\n",
              "    </tr>\n",
              "  </tbody>\n",
              "</table>\n",
              "</div>"
            ],
            "text/plain": [
              "   platform  eu_sales\n",
              "0       PS4    141.09\n",
              "1       PS3     67.81\n",
              "2      XOne     51.59\n",
              "3      X360     42.52\n",
              "4       3DS     30.96\n",
              "5        PC     25.36\n",
              "6      WiiU     19.85\n",
              "7       PSV      6.10\n",
              "8       Wii      5.93\n",
              "9        DS      0.85\n",
              "10      PSP      0.17"
            ]
          },
          "metadata": {},
          "output_type": "display_data"
        },
        {
          "data": {
            "text/html": [
              "<div>\n",
              "<style scoped>\n",
              "    .dataframe tbody tr th:only-of-type {\n",
              "        vertical-align: middle;\n",
              "    }\n",
              "\n",
              "    .dataframe tbody tr th {\n",
              "        vertical-align: top;\n",
              "    }\n",
              "\n",
              "    .dataframe thead th {\n",
              "        text-align: right;\n",
              "    }\n",
              "</style>\n",
              "<table border=\"1\" class=\"dataframe\">\n",
              "  <thead>\n",
              "    <tr style=\"text-align: right;\">\n",
              "      <th></th>\n",
              "      <th>eu_sales</th>\n",
              "      <th>fraction</th>\n",
              "    </tr>\n",
              "    <tr>\n",
              "      <th>platform</th>\n",
              "      <th></th>\n",
              "      <th></th>\n",
              "    </tr>\n",
              "  </thead>\n",
              "  <tbody>\n",
              "    <tr>\n",
              "      <th>PS4</th>\n",
              "      <td>141.09</td>\n",
              "      <td>0.359712</td>\n",
              "    </tr>\n",
              "    <tr>\n",
              "      <th>PS3</th>\n",
              "      <td>67.81</td>\n",
              "      <td>0.172883</td>\n",
              "    </tr>\n",
              "    <tr>\n",
              "      <th>other</th>\n",
              "      <td>58.26</td>\n",
              "      <td>0.148535</td>\n",
              "    </tr>\n",
              "    <tr>\n",
              "      <th>XOne</th>\n",
              "      <td>51.59</td>\n",
              "      <td>0.131530</td>\n",
              "    </tr>\n",
              "    <tr>\n",
              "      <th>X360</th>\n",
              "      <td>42.52</td>\n",
              "      <td>0.108406</td>\n",
              "    </tr>\n",
              "    <tr>\n",
              "      <th>3DS</th>\n",
              "      <td>30.96</td>\n",
              "      <td>0.078933</td>\n",
              "    </tr>\n",
              "  </tbody>\n",
              "</table>\n",
              "</div>"
            ],
            "text/plain": [
              "          eu_sales  fraction\n",
              "platform                    \n",
              "PS4         141.09  0.359712\n",
              "PS3          67.81  0.172883\n",
              "other        58.26  0.148535\n",
              "XOne         51.59  0.131530\n",
              "X360         42.52  0.108406\n",
              "3DS          30.96  0.078933"
            ]
          },
          "metadata": {},
          "output_type": "display_data"
        },
        {
          "data": {
            "text/plain": [
              "<AxesSubplot:ylabel='eu_sales'>"
            ]
          },
          "execution_count": 61,
          "metadata": {},
          "output_type": "execute_result"
        },
        {
          "data": {
            "image/png": "[encoded data removed]",
            "text/plain": [
              "<Figure size 504x504 with 1 Axes>"
            ]
          },
          "metadata": {},
          "output_type": "display_data"
        }
      ],
      "source": [
        "eu_top = df13_16.pivot_table(index = ('platform'), values = ('eu_sales'), aggfunc = 'sum').sort_values(by = 'eu_sales', ascending = False).reset_index()\n",
        "display(eu_top)\n",
        "\n",
        "t = ['WiiU', 'PC', 'Wii', 'PSV', 'DS', 'PSP']\n",
        "def tru (j):\n",
        "  if j in t:\n",
        "    return 'other'\n",
        "  else:\n",
        "    return j\n",
        "\n",
        "eu_top['platform'] = eu_top['platform'].apply(tru)\n",
        "\n",
        "eu_top = eu_top.pivot_table(index = ('platform'), values = ('eu_sales'), aggfunc = 'sum').sort_values(by = 'eu_sales', ascending = False)     \n",
        "\n",
        "eu_top['fraction'] = eu_top['eu_sales']/eu_top['eu_sales'].sum()\n",
        "\n",
        "display(eu_top)\n",
        "\n",
        "eu_top['eu_sales'].plot(kind = 'pie', autopct = '%1.1f%%',figsize = (7,7))"
      ]
    },
    {
      "cell_type": "code",
      "execution_count": null,
      "metadata": {
        "colab": {
          "base_uri": "https://localhost:8080/"
        },
        "id": "4DN1k88lBKev",
        "outputId": "f3bde9bf-2cf9-4229-c4d9-552ecd44e720"
      },
      "outputs": [
        {
          "data": {
            "text/plain": [
              "genre\n",
              "Action          118.13\n",
              "Shooter          87.86\n",
              "Sports           60.52\n",
              "Role-Playing     36.97\n",
              "Racing           20.19\n",
              "Name: eu_sales, dtype: float64"
            ]
          },
          "execution_count": 62,
          "metadata": {},
          "output_type": "execute_result"
        }
      ],
      "source": [
        "df13_16.groupby('genre')['eu_sales'].sum().sort_values(ascending = False).head()"
      ]
    },
    {
      "cell_type": "markdown",
      "metadata": {
        "id": "UMIS5_02CtoB"
      },
      "source": [
        "Типичный Европеец, очень похож на типичного североамериканца, те же платформы и почти те же игры, только больше любит гонки, чем misc"
      ]
    },
    {
      "cell_type": "markdown",
      "metadata": {
        "id": "RDr498peCumI"
      },
      "source": [
        "***Япония:***"
      ]
    },
    {
      "cell_type": "code",
      "execution_count": null,
      "metadata": {
        "colab": {
          "base_uri": "https://localhost:8080/",
          "height": 1000
        },
        "id": "WIt61kCLCr-d",
        "outputId": "c7e81cf1-3fda-4f76-b1b4-94a366bcbebb"
      },
      "outputs": [
        {
          "data": {
            "text/html": [
              "<div>\n",
              "<style scoped>\n",
              "    .dataframe tbody tr th:only-of-type {\n",
              "        vertical-align: middle;\n",
              "    }\n",
              "\n",
              "    .dataframe tbody tr th {\n",
              "        vertical-align: top;\n",
              "    }\n",
              "\n",
              "    .dataframe thead th {\n",
              "        text-align: right;\n",
              "    }\n",
              "</style>\n",
              "<table border=\"1\" class=\"dataframe\">\n",
              "  <thead>\n",
              "    <tr style=\"text-align: right;\">\n",
              "      <th></th>\n",
              "      <th>platform</th>\n",
              "      <th>jp_sales</th>\n",
              "    </tr>\n",
              "  </thead>\n",
              "  <tbody>\n",
              "    <tr>\n",
              "      <th>0</th>\n",
              "      <td>3DS</td>\n",
              "      <td>67.81</td>\n",
              "    </tr>\n",
              "    <tr>\n",
              "      <th>1</th>\n",
              "      <td>PS3</td>\n",
              "      <td>23.35</td>\n",
              "    </tr>\n",
              "    <tr>\n",
              "      <th>2</th>\n",
              "      <td>PSV</td>\n",
              "      <td>18.59</td>\n",
              "    </tr>\n",
              "    <tr>\n",
              "      <th>3</th>\n",
              "      <td>PS4</td>\n",
              "      <td>15.96</td>\n",
              "    </tr>\n",
              "    <tr>\n",
              "      <th>4</th>\n",
              "      <td>WiiU</td>\n",
              "      <td>10.88</td>\n",
              "    </tr>\n",
              "    <tr>\n",
              "      <th>5</th>\n",
              "      <td>PSP</td>\n",
              "      <td>3.29</td>\n",
              "    </tr>\n",
              "    <tr>\n",
              "      <th>6</th>\n",
              "      <td>X360</td>\n",
              "      <td>0.51</td>\n",
              "    </tr>\n",
              "    <tr>\n",
              "      <th>7</th>\n",
              "      <td>XOne</td>\n",
              "      <td>0.34</td>\n",
              "    </tr>\n",
              "    <tr>\n",
              "      <th>8</th>\n",
              "      <td>Wii</td>\n",
              "      <td>0.05</td>\n",
              "    </tr>\n",
              "    <tr>\n",
              "      <th>9</th>\n",
              "      <td>DS</td>\n",
              "      <td>0.00</td>\n",
              "    </tr>\n",
              "    <tr>\n",
              "      <th>10</th>\n",
              "      <td>PC</td>\n",
              "      <td>0.00</td>\n",
              "    </tr>\n",
              "  </tbody>\n",
              "</table>\n",
              "</div>"
            ],
            "text/plain": [
              "   platform  jp_sales\n",
              "0       3DS     67.81\n",
              "1       PS3     23.35\n",
              "2       PSV     18.59\n",
              "3       PS4     15.96\n",
              "4      WiiU     10.88\n",
              "5       PSP      3.29\n",
              "6      X360      0.51\n",
              "7      XOne      0.34\n",
              "8       Wii      0.05\n",
              "9        DS      0.00\n",
              "10       PC      0.00"
            ]
          },
          "metadata": {},
          "output_type": "display_data"
        },
        {
          "data": {
            "text/html": [
              "<div>\n",
              "<style scoped>\n",
              "    .dataframe tbody tr th:only-of-type {\n",
              "        vertical-align: middle;\n",
              "    }\n",
              "\n",
              "    .dataframe tbody tr th {\n",
              "        vertical-align: top;\n",
              "    }\n",
              "\n",
              "    .dataframe thead th {\n",
              "        text-align: right;\n",
              "    }\n",
              "</style>\n",
              "<table border=\"1\" class=\"dataframe\">\n",
              "  <thead>\n",
              "    <tr style=\"text-align: right;\">\n",
              "      <th></th>\n",
              "      <th>jp_sales</th>\n",
              "      <th>fraction</th>\n",
              "    </tr>\n",
              "    <tr>\n",
              "      <th>platform</th>\n",
              "      <th></th>\n",
              "      <th></th>\n",
              "    </tr>\n",
              "  </thead>\n",
              "  <tbody>\n",
              "    <tr>\n",
              "      <th>3DS</th>\n",
              "      <td>67.81</td>\n",
              "      <td>0.481674</td>\n",
              "    </tr>\n",
              "    <tr>\n",
              "      <th>PS3</th>\n",
              "      <td>23.35</td>\n",
              "      <td>0.165862</td>\n",
              "    </tr>\n",
              "    <tr>\n",
              "      <th>PSV</th>\n",
              "      <td>18.59</td>\n",
              "      <td>0.132050</td>\n",
              "    </tr>\n",
              "    <tr>\n",
              "      <th>PS4</th>\n",
              "      <td>15.96</td>\n",
              "      <td>0.113368</td>\n",
              "    </tr>\n",
              "    <tr>\n",
              "      <th>WiiU</th>\n",
              "      <td>10.88</td>\n",
              "      <td>0.077284</td>\n",
              "    </tr>\n",
              "    <tr>\n",
              "      <th>other</th>\n",
              "      <td>4.19</td>\n",
              "      <td>0.029763</td>\n",
              "    </tr>\n",
              "  </tbody>\n",
              "</table>\n",
              "</div>"
            ],
            "text/plain": [
              "          jp_sales  fraction\n",
              "platform                    \n",
              "3DS          67.81  0.481674\n",
              "PS3          23.35  0.165862\n",
              "PSV          18.59  0.132050\n",
              "PS4          15.96  0.113368\n",
              "WiiU         10.88  0.077284\n",
              "other         4.19  0.029763"
            ]
          },
          "metadata": {},
          "output_type": "display_data"
        },
        {
          "data": {
            "text/plain": [
              "<AxesSubplot:ylabel='jp_sales'>"
            ]
          },
          "execution_count": 63,
          "metadata": {},
          "output_type": "execute_result"
        },
        {
          "data": {
            "image/png": "[encoded data removed]",
            "text/plain": [
              "<Figure size 504x504 with 1 Axes>"
            ]
          },
          "metadata": {},
          "output_type": "display_data"
        }
      ],
      "source": [
        "jp_top = df13_16.pivot_table(index = ('platform'), values = ('jp_sales'), aggfunc = 'sum').sort_values(by = 'jp_sales', ascending = False).reset_index()\n",
        "display(jp_top)\n",
        "\n",
        "t = ['PSP', 'X360', 'XOne', 'Wii', 'DS', 'PC']\n",
        "def tru (j):\n",
        "  if j in t:\n",
        "    return 'other'\n",
        "  else:\n",
        "    return j\n",
        "\n",
        "jp_top['platform'] = jp_top['platform'].apply(tru)\n",
        "\n",
        "jp_top = jp_top.pivot_table(index = ('platform'), values = ('jp_sales'), aggfunc = 'sum').sort_values(by = 'jp_sales', ascending = False)     \n",
        "\n",
        "jp_top['fraction'] = jp_top['jp_sales']/jp_top['jp_sales'].sum()\n",
        "\n",
        "display(jp_top)\n",
        "\n",
        "jp_top['jp_sales'].plot(kind = 'pie', autopct = '%1.1f%%',figsize = (7,7))"
      ]
    },
    {
      "cell_type": "code",
      "execution_count": null,
      "metadata": {
        "colab": {
          "base_uri": "https://localhost:8080/"
        },
        "id": "2zAxuj6KC3D_",
        "outputId": "2e8b8555-ad3c-40ea-e387-65b2df117a11"
      },
      "outputs": [
        {
          "data": {
            "text/plain": [
              "genre\n",
              "Role-Playing    51.04\n",
              "Action          40.49\n",
              "Misc             9.20\n",
              "Fighting         7.65\n",
              "Shooter          6.61\n",
              "Name: jp_sales, dtype: float64"
            ]
          },
          "execution_count": 64,
          "metadata": {},
          "output_type": "execute_result"
        }
      ],
      "source": [
        "df13_16.groupby('genre')['jp_sales'].sum().sort_values(ascending = False).head()"
      ]
    },
    {
      "cell_type": "code",
      "execution_count": null,
      "metadata": {
        "id": "zelT2Mz81usC",
        "outputId": "8cb8d773-f05f-4d82-bd84-88ab09f9c739"
      },
      "outputs": [
        {
          "data": {
            "text/plain": [
              "genre\n",
              "Role-Playing    0.05\n",
              "Fighting        0.03\n",
              "Misc            0.02\n",
              "Puzzle          0.02\n",
              "Action          0.01\n",
              "Name: jp_sales, dtype: float64"
            ]
          },
          "execution_count": 65,
          "metadata": {},
          "output_type": "execute_result"
        }
      ],
      "source": [
        "df13_16.groupby('genre')['jp_sales'].median().sort_values(ascending = False).head()"
      ]
    },
    {
      "cell_type": "markdown",
      "metadata": {
        "id": "r7J-RSopDAFI"
      },
      "source": [
        "Типичный японец играет на платформах 3DS, PS3, PSV, PS4, WiiU в ролевые игры, экшн, misc, драки и шутеры. Причем платформа 3DS занимает ~48% рынка, тоесть почти половину, а ролевые игры ~51%, тоесть даже больше половины рынка. Ролевые игры и экшн занимают совокупно ~91% процент рынка. Все это разительно отличается от картины в Северной Америке и Европе.\n"
      ]
    },
    {
      "cell_type": "markdown",
      "metadata": {
        "id": "Q7JUSZ1YGeGk"
      },
      "source": [
        "***Влияние рейтингов:***"
      ]
    },
    {
      "cell_type": "code",
      "execution_count": null,
      "metadata": {
        "colab": {
          "base_uri": "https://localhost:8080/",
          "height": 241
        },
        "id": "e-kza74JC3pI",
        "outputId": "a097939c-94d9-4d24-f204-0ec0d096bdd9"
      },
      "outputs": [
        {
          "name": "stderr",
          "output_type": "stream",
          "text": [
            "/tmp/ipykernel_456/3694139251.py:1: FutureWarning: Indexing with multiple keys (implicitly converted to a tuple of keys) will be deprecated, use a list instead.\n",
            "  df13_16.groupby('rating')['na_sales', 'eu_sales', 'jp_sales', 'other_sales'].sum()\n"
          ]
        },
        {
          "data": {
            "text/html": [
              "<div>\n",
              "<style scoped>\n",
              "    .dataframe tbody tr th:only-of-type {\n",
              "        vertical-align: middle;\n",
              "    }\n",
              "\n",
              "    .dataframe tbody tr th {\n",
              "        vertical-align: top;\n",
              "    }\n",
              "\n",
              "    .dataframe thead th {\n",
              "        text-align: right;\n",
              "    }\n",
              "</style>\n",
              "<table border=\"1\" class=\"dataframe\">\n",
              "  <thead>\n",
              "    <tr style=\"text-align: right;\">\n",
              "      <th></th>\n",
              "      <th>na_sales</th>\n",
              "      <th>eu_sales</th>\n",
              "      <th>jp_sales</th>\n",
              "      <th>other_sales</th>\n",
              "    </tr>\n",
              "    <tr>\n",
              "      <th>rating</th>\n",
              "      <th></th>\n",
              "      <th></th>\n",
              "      <th></th>\n",
              "      <th></th>\n",
              "    </tr>\n",
              "  </thead>\n",
              "  <tbody>\n",
              "    <tr>\n",
              "      <th>E</th>\n",
              "      <td>79.05</td>\n",
              "      <td>83.36</td>\n",
              "      <td>15.14</td>\n",
              "      <td>22.61</td>\n",
              "    </tr>\n",
              "    <tr>\n",
              "      <th>E10+</th>\n",
              "      <td>54.24</td>\n",
              "      <td>42.69</td>\n",
              "      <td>5.89</td>\n",
              "      <td>12.57</td>\n",
              "    </tr>\n",
              "    <tr>\n",
              "      <th>M</th>\n",
              "      <td>165.21</td>\n",
              "      <td>145.32</td>\n",
              "      <td>14.11</td>\n",
              "      <td>47.04</td>\n",
              "    </tr>\n",
              "    <tr>\n",
              "      <th>T</th>\n",
              "      <td>49.79</td>\n",
              "      <td>41.95</td>\n",
              "      <td>20.59</td>\n",
              "      <td>14.29</td>\n",
              "    </tr>\n",
              "  </tbody>\n",
              "</table>\n",
              "</div>"
            ],
            "text/plain": [
              "        na_sales  eu_sales  jp_sales  other_sales\n",
              "rating                                           \n",
              "E          79.05     83.36     15.14        22.61\n",
              "E10+       54.24     42.69      5.89        12.57\n",
              "M         165.21    145.32     14.11        47.04\n",
              "T          49.79     41.95     20.59        14.29"
            ]
          },
          "execution_count": 66,
          "metadata": {},
          "output_type": "execute_result"
        }
      ],
      "source": [
        "df13_16.groupby('rating')['na_sales', 'eu_sales', 'jp_sales', 'other_sales'].sum()"
      ]
    },
    {
      "cell_type": "code",
      "execution_count": null,
      "metadata": {
        "id": "i9YPZMz31usE",
        "outputId": "1c25d2ab-7e30-4c9b-cd9c-08deb76e1530"
      },
      "outputs": [
        {
          "data": {
            "text/plain": [
              "977"
            ]
          },
          "execution_count": 67,
          "metadata": {},
          "output_type": "execute_result"
        }
      ],
      "source": [
        "df13_16['rating'].isna().sum()"
      ]
    },
    {
      "cell_type": "code",
      "execution_count": null,
      "metadata": {
        "id": "4blq80wL1usF",
        "outputId": "749e559d-2305-4c3f-eb55-79909ec0b9ea"
      },
      "outputs": [
        {
          "name": "stderr",
          "output_type": "stream",
          "text": [
            "/tmp/ipykernel_456/3383513884.py:1: SettingWithCopyWarning: \n",
            "A value is trying to be set on a copy of a slice from a DataFrame.\n",
            "Try using .loc[row_indexer,col_indexer] = value instead\n",
            "\n",
            "See the caveats in the documentation: https://pandas.pydata.org/pandas-docs/stable/user_guide/indexing.html#returning-a-view-versus-a-copy\n",
            "  df13_16['rating'] = df13_16['rating'].fillna('bez')\n"
          ]
        }
      ],
      "source": [
        "df13_16['rating'] = df13_16['rating'].fillna('bez')"
      ]
    },
    {
      "cell_type": "code",
      "execution_count": null,
      "metadata": {
        "id": "q-Zfo-ef1usG",
        "outputId": "3df6cf5e-6def-47ae-953a-6768cd5dcabf"
      },
      "outputs": [
        {
          "name": "stderr",
          "output_type": "stream",
          "text": [
            "/tmp/ipykernel_456/3694139251.py:1: FutureWarning: Indexing with multiple keys (implicitly converted to a tuple of keys) will be deprecated, use a list instead.\n",
            "  df13_16.groupby('rating')['na_sales', 'eu_sales', 'jp_sales', 'other_sales'].sum()\n"
          ]
        },
        {
          "data": {
            "text/html": [
              "<div>\n",
              "<style scoped>\n",
              "    .dataframe tbody tr th:only-of-type {\n",
              "        vertical-align: middle;\n",
              "    }\n",
              "\n",
              "    .dataframe tbody tr th {\n",
              "        vertical-align: top;\n",
              "    }\n",
              "\n",
              "    .dataframe thead th {\n",
              "        text-align: right;\n",
              "    }\n",
              "</style>\n",
              "<table border=\"1\" class=\"dataframe\">\n",
              "  <thead>\n",
              "    <tr style=\"text-align: right;\">\n",
              "      <th></th>\n",
              "      <th>na_sales</th>\n",
              "      <th>eu_sales</th>\n",
              "      <th>jp_sales</th>\n",
              "      <th>other_sales</th>\n",
              "    </tr>\n",
              "    <tr>\n",
              "      <th>rating</th>\n",
              "      <th></th>\n",
              "      <th></th>\n",
              "      <th></th>\n",
              "      <th></th>\n",
              "    </tr>\n",
              "  </thead>\n",
              "  <tbody>\n",
              "    <tr>\n",
              "      <th>E</th>\n",
              "      <td>79.05</td>\n",
              "      <td>83.36</td>\n",
              "      <td>15.14</td>\n",
              "      <td>22.61</td>\n",
              "    </tr>\n",
              "    <tr>\n",
              "      <th>E10+</th>\n",
              "      <td>54.24</td>\n",
              "      <td>42.69</td>\n",
              "      <td>5.89</td>\n",
              "      <td>12.57</td>\n",
              "    </tr>\n",
              "    <tr>\n",
              "      <th>M</th>\n",
              "      <td>165.21</td>\n",
              "      <td>145.32</td>\n",
              "      <td>14.11</td>\n",
              "      <td>47.04</td>\n",
              "    </tr>\n",
              "    <tr>\n",
              "      <th>T</th>\n",
              "      <td>49.79</td>\n",
              "      <td>41.95</td>\n",
              "      <td>20.59</td>\n",
              "      <td>14.29</td>\n",
              "    </tr>\n",
              "    <tr>\n",
              "      <th>bez</th>\n",
              "      <td>89.42</td>\n",
              "      <td>78.91</td>\n",
              "      <td>85.05</td>\n",
              "      <td>23.46</td>\n",
              "    </tr>\n",
              "  </tbody>\n",
              "</table>\n",
              "</div>"
            ],
            "text/plain": [
              "        na_sales  eu_sales  jp_sales  other_sales\n",
              "rating                                           \n",
              "E          79.05     83.36     15.14        22.61\n",
              "E10+       54.24     42.69      5.89        12.57\n",
              "M         165.21    145.32     14.11        47.04\n",
              "T          49.79     41.95     20.59        14.29\n",
              "bez        89.42     78.91     85.05        23.46"
            ]
          },
          "execution_count": 69,
          "metadata": {},
          "output_type": "execute_result"
        }
      ],
      "source": [
        "df13_16.groupby('rating')['na_sales', 'eu_sales', 'jp_sales', 'other_sales'].sum()"
      ]
    },
    {
      "cell_type": "markdown",
      "metadata": {
        "id": "GPufBDPNDAd7"
      },
      "source": [
        "В Северной Америке, Европе и остальных странах кроме Японии лидируют по продажам игры с рейтингом \"М\", затем \"Е\". Игры с рейтингами \"Е10+\" и \"Т\" имеют почти одинаковые продажи и делят третье место, так же везде, кроме Японии.\n",
        "В Японии же совершенно другая картина: самые продаваемые - \"Т\", дальше \"Е\" и \"М\", и замыкает рейтинг продаж \"Е10+\". Очевидно, что Япония сильно отличается  по предпочтениям не только жанров, но и рейтингов от всего остального мира. ТАкая вот японская специфика)"
      ]
    },
    {
      "cell_type": "markdown",
      "metadata": {
        "id": "MbSG9n8x1usG"
      },
      "source": [
        " Для остального мира все равно лидеры продаж - игры выпущенные в Северной Америке. И в Америке и в Европе игры без ретинга заняли 3 место, что так же говорит о схожести этих рынков. Ну и продажи в других регионах поменяли распределение, игры без рейтинга североамериканской конторы на втором месте по продажам, почти на равне с Е рейтингом."
      ]
    },
    {
      "cell_type": "markdown",
      "metadata": {
        "id": "CJONY8zH1usH"
      },
      "source": [
        "Видимо японцы, больше уважают игры выпущенные не в Северной Америке, вероятно свои локальные японские игры, ведь их рынок очень спецефичен."
      ]
    },
    {
      "cell_type": "markdown",
      "metadata": {
        "id": "qTCB6KqV0Lk5"
      },
      "source": [
        "# **Гипотезы**"
      ]
    },
    {
      "cell_type": "markdown",
      "metadata": {
        "id": "m5irRyGn3A_x"
      },
      "source": [
        "I\n",
        "\n",
        "Н0 = Средний пользовательский рейтинг платформы Xbox One **равен** среднему пользовательскому рейтингу платформы PC.\n",
        "\n",
        "Н1 = Средний пользовательский рейтинг платформы Xbox One **не равен** среднему пользовательскому рейтингу платформы PC."
      ]
    },
    {
      "cell_type": "code",
      "execution_count": null,
      "metadata": {
        "colab": {
          "base_uri": "https://localhost:8080/",
          "height": 141
        },
        "id": "rTkkQqEH0O_c",
        "outputId": "12d6bd51-359c-4d5b-fc89-c5f3c9a91e5c"
      },
      "outputs": [
        {
          "name": "stderr",
          "output_type": "stream",
          "text": [
            "/tmp/ipykernel_456/2997808230.py:1: UserWarning: Boolean Series key will be reindexed to match DataFrame index.\n",
            "  a = df13_16[(df13_16['platform'] == 'XOne') & (df['user_score'] < 33)]['user_score']\n",
            "/tmp/ipykernel_456/2997808230.py:2: UserWarning: Boolean Series key will be reindexed to match DataFrame index.\n",
            "  b = df13_16[(df13_16['platform'] == 'PC') & (df['user_score'] < 33)]['user_score']\n"
          ]
        },
        {
          "data": {
            "text/plain": [
              "'p-значение:'"
            ]
          },
          "metadata": {},
          "output_type": "display_data"
        },
        {
          "data": {
            "text/plain": [
              "0.14759594013430463"
            ]
          },
          "metadata": {},
          "output_type": "display_data"
        },
        {
          "data": {
            "text/plain": [
              "'Не получилось отвергнуть нулевую гипотезу'"
            ]
          },
          "metadata": {},
          "output_type": "display_data"
        }
      ],
      "source": [
        "\n",
        "a = df13_16[(df13_16['platform'] == 'XOne') & (df['user_score'] < 33)]['user_score']\n",
        "b = df13_16[(df13_16['platform'] == 'PC') & (df['user_score'] < 33)]['user_score']\n",
        "alpha = 0.05\n",
        "results = st.ttest_ind(a, b, equal_var = False)\n",
        "\n",
        "display('p-значение:', results.pvalue)\n",
        "\n",
        "if results.pvalue < alpha:\n",
        "  display(\"Отвергаем нулевую гипотезу\")\n",
        "else:\n",
        "  display(\"Не получилось отвергнуть нулевую гипотезу\") "
      ]
    },
    {
      "cell_type": "markdown",
      "metadata": {
        "id": "JXziPUON5kLh"
      },
      "source": [
        "II\n",
        "\n",
        "Н0 = Средний пользовательский рейтинг жанра Action **равен** среднему пользовательскому рейтингу жанра Sports.\n",
        "\n",
        "Н1 = Средний пользовательский рейтинг жанра Action **не равен** среднему пользовательскому рейтингу жанра Sports."
      ]
    },
    {
      "cell_type": "code",
      "execution_count": null,
      "metadata": {
        "colab": {
          "base_uri": "https://localhost:8080/",
          "height": 141
        },
        "id": "hMguDS-V4Wmc",
        "outputId": "f5d2f5bf-7b4f-4258-ce3b-0467858f927e"
      },
      "outputs": [
        {
          "name": "stderr",
          "output_type": "stream",
          "text": [
            "/tmp/ipykernel_456/1708428862.py:1: UserWarning: Boolean Series key will be reindexed to match DataFrame index.\n",
            "  a = df13_16[(df13_16['genre'] == 'Action') & (df['user_score'] < 33)]['user_score']\n",
            "/tmp/ipykernel_456/1708428862.py:2: UserWarning: Boolean Series key will be reindexed to match DataFrame index.\n",
            "  b = df13_16[(df13_16['genre'] == 'Sports') & (df['user_score'] < 33)]['user_score']\n"
          ]
        },
        {
          "data": {
            "text/plain": [
              "'p-значение:'"
            ]
          },
          "metadata": {},
          "output_type": "display_data"
        },
        {
          "data": {
            "text/plain": [
              "1.4460039700704315e-20"
            ]
          },
          "metadata": {},
          "output_type": "display_data"
        },
        {
          "data": {
            "text/plain": [
              "'Отвергаем нулевую гипотезу'"
            ]
          },
          "metadata": {},
          "output_type": "display_data"
        }
      ],
      "source": [
        "a = df13_16[(df13_16['genre'] == 'Action') & (df['user_score'] < 33)]['user_score']\n",
        "b = df13_16[(df13_16['genre'] == 'Sports') & (df['user_score'] < 33)]['user_score']\n",
        "alpha = 0.05\n",
        "results = st.ttest_ind(a, b, equal_var = False)\n",
        "\n",
        "display('p-значение:', results.pvalue)\n",
        "\n",
        "if results.pvalue < alpha:\n",
        "  display(\"Отвергаем нулевую гипотезу\")\n",
        "else:\n",
        "  display(\"Не получилось отвергнуть нулевую гипотезу\")"
      ]
    },
    {
      "cell_type": "markdown",
      "metadata": {
        "id": "ZcaYQ81SGFEs"
      },
      "source": [
        "# **Общий вывод:**"
      ]
    },
    {
      "cell_type": "markdown",
      "metadata": {
        "id": "tjfvlUBA1usR"
      },
      "source": [
        "Мой прогноз прибыльной игры таков, если мы выпускаем игру не для Японии, то нужно выпускать шутер, для PS4 или Xone, с рейтингом М - это рейтинг «Для взрослых»: Материалы игры не подходят для подростков младше 17 лет. Проекты с данным рейтингом могут содержать достаточно жестокое насилие, большое количество крови с расчленением, непристойные сексуальные сцены или грубую ненормативную лексику, нежелательную для младшей аудитории. Так же будет хорошей идеей выпуск спортивной игры на тех же платформах.\n",
        "    Для японского рынка перспективным выглядит выпуск игры в жанрах Role-Playing или Fighting на платформе 3DS, но так как Xone и PS4 платформы находятся в стадии роста, выпуск на этих платформах был бы оправдан.    \n",
        "    Конечно главной гарантией хороших продаж будет качестванная играи грамотная реклама, но эти рекомендации повысят шансы сделать максимально прибыльный проект"
      ]
    }
  ],
  "metadata": {
    "ExecuteTimeLog": [
      {
        "duration": 1071,
        "start_time": "2022-07-28T18:04:40.997Z"
      },
      {
        "duration": 138,
        "start_time": "2022-07-28T18:04:42.070Z"
      },
      {
        "duration": 0,
        "start_time": "2022-07-28T18:04:42.211Z"
      },
      {
        "duration": 0,
        "start_time": "2022-07-28T18:04:42.212Z"
      },
      {
        "duration": 0,
        "start_time": "2022-07-28T18:04:42.213Z"
      },
      {
        "duration": 0,
        "start_time": "2022-07-28T18:04:42.214Z"
      },
      {
        "duration": 0,
        "start_time": "2022-07-28T18:04:42.215Z"
      },
      {
        "duration": 0,
        "start_time": "2022-07-28T18:04:42.216Z"
      },
      {
        "duration": 0,
        "start_time": "2022-07-28T18:04:42.217Z"
      },
      {
        "duration": 0,
        "start_time": "2022-07-28T18:04:42.218Z"
      },
      {
        "duration": 0,
        "start_time": "2022-07-28T18:04:42.218Z"
      },
      {
        "duration": 0,
        "start_time": "2022-07-28T18:04:42.219Z"
      },
      {
        "duration": 0,
        "start_time": "2022-07-28T18:04:42.220Z"
      },
      {
        "duration": 0,
        "start_time": "2022-07-28T18:04:42.221Z"
      },
      {
        "duration": 0,
        "start_time": "2022-07-28T18:04:42.222Z"
      },
      {
        "duration": 0,
        "start_time": "2022-07-28T18:04:42.223Z"
      },
      {
        "duration": 0,
        "start_time": "2022-07-28T18:04:42.224Z"
      },
      {
        "duration": 0,
        "start_time": "2022-07-28T18:04:42.225Z"
      },
      {
        "duration": 0,
        "start_time": "2022-07-28T18:04:42.226Z"
      },
      {
        "duration": 0,
        "start_time": "2022-07-28T18:04:42.227Z"
      },
      {
        "duration": 0,
        "start_time": "2022-07-28T18:04:42.228Z"
      },
      {
        "duration": 0,
        "start_time": "2022-07-28T18:04:42.229Z"
      },
      {
        "duration": 0,
        "start_time": "2022-07-28T18:04:42.230Z"
      },
      {
        "duration": 0,
        "start_time": "2022-07-28T18:04:42.231Z"
      },
      {
        "duration": 0,
        "start_time": "2022-07-28T18:04:42.232Z"
      },
      {
        "duration": 0,
        "start_time": "2022-07-28T18:04:42.233Z"
      },
      {
        "duration": 0,
        "start_time": "2022-07-28T18:04:42.273Z"
      },
      {
        "duration": 0,
        "start_time": "2022-07-28T18:04:42.274Z"
      },
      {
        "duration": 0,
        "start_time": "2022-07-28T18:04:42.275Z"
      },
      {
        "duration": 0,
        "start_time": "2022-07-28T18:04:42.276Z"
      },
      {
        "duration": 0,
        "start_time": "2022-07-28T18:04:42.277Z"
      },
      {
        "duration": 0,
        "start_time": "2022-07-28T18:04:42.278Z"
      },
      {
        "duration": 0,
        "start_time": "2022-07-28T18:04:42.279Z"
      },
      {
        "duration": 0,
        "start_time": "2022-07-28T18:04:42.280Z"
      },
      {
        "duration": 0,
        "start_time": "2022-07-28T18:04:42.281Z"
      },
      {
        "duration": 0,
        "start_time": "2022-07-28T18:04:42.282Z"
      },
      {
        "duration": 0,
        "start_time": "2022-07-28T18:04:42.283Z"
      },
      {
        "duration": 0,
        "start_time": "2022-07-28T18:04:42.284Z"
      },
      {
        "duration": 0,
        "start_time": "2022-07-28T18:04:42.285Z"
      },
      {
        "duration": 0,
        "start_time": "2022-07-28T18:04:42.286Z"
      },
      {
        "duration": 0,
        "start_time": "2022-07-28T18:04:42.287Z"
      },
      {
        "duration": 0,
        "start_time": "2022-07-28T18:04:42.288Z"
      },
      {
        "duration": 0,
        "start_time": "2022-07-28T18:04:42.289Z"
      },
      {
        "duration": 0,
        "start_time": "2022-07-28T18:04:42.290Z"
      },
      {
        "duration": 0,
        "start_time": "2022-07-28T18:04:42.291Z"
      },
      {
        "duration": 0,
        "start_time": "2022-07-28T18:04:42.292Z"
      },
      {
        "duration": 0,
        "start_time": "2022-07-28T18:04:42.293Z"
      },
      {
        "duration": 1,
        "start_time": "2022-07-28T18:04:42.293Z"
      },
      {
        "duration": 0,
        "start_time": "2022-07-28T18:04:42.295Z"
      },
      {
        "duration": 0,
        "start_time": "2022-07-28T18:04:42.295Z"
      },
      {
        "duration": 0,
        "start_time": "2022-07-28T18:04:42.296Z"
      },
      {
        "duration": 0,
        "start_time": "2022-07-28T18:04:42.297Z"
      },
      {
        "duration": 0,
        "start_time": "2022-07-28T18:04:42.298Z"
      },
      {
        "duration": 0,
        "start_time": "2022-07-28T18:04:42.299Z"
      },
      {
        "duration": 0,
        "start_time": "2022-07-28T18:04:42.300Z"
      },
      {
        "duration": 0,
        "start_time": "2022-07-28T18:04:42.301Z"
      },
      {
        "duration": 0,
        "start_time": "2022-07-28T18:04:42.302Z"
      },
      {
        "duration": 0,
        "start_time": "2022-07-28T18:04:42.303Z"
      },
      {
        "duration": 0,
        "start_time": "2022-07-28T18:04:42.304Z"
      },
      {
        "duration": 0,
        "start_time": "2022-07-28T18:04:42.304Z"
      },
      {
        "duration": 53,
        "start_time": "2022-07-28T18:06:31.879Z"
      },
      {
        "duration": 100,
        "start_time": "2022-07-28T18:06:38.060Z"
      },
      {
        "duration": 1031,
        "start_time": "2022-07-28T18:06:48.424Z"
      },
      {
        "duration": 56,
        "start_time": "2022-07-28T18:06:49.456Z"
      },
      {
        "duration": 16,
        "start_time": "2022-07-28T18:06:49.513Z"
      },
      {
        "duration": 10,
        "start_time": "2022-07-28T18:06:49.531Z"
      },
      {
        "duration": 19,
        "start_time": "2022-07-28T18:06:49.542Z"
      },
      {
        "duration": 21,
        "start_time": "2022-07-28T18:06:49.562Z"
      },
      {
        "duration": 6,
        "start_time": "2022-07-28T18:06:49.585Z"
      },
      {
        "duration": 11,
        "start_time": "2022-07-28T18:06:49.592Z"
      },
      {
        "duration": 4,
        "start_time": "2022-07-28T18:06:49.605Z"
      },
      {
        "duration": 5,
        "start_time": "2022-07-28T18:06:49.611Z"
      },
      {
        "duration": 7,
        "start_time": "2022-07-28T18:06:49.617Z"
      },
      {
        "duration": 11,
        "start_time": "2022-07-28T18:06:49.626Z"
      },
      {
        "duration": 4,
        "start_time": "2022-07-28T18:06:49.638Z"
      },
      {
        "duration": 47,
        "start_time": "2022-07-28T18:06:49.643Z"
      },
      {
        "duration": 14,
        "start_time": "2022-07-28T18:06:49.691Z"
      },
      {
        "duration": 6,
        "start_time": "2022-07-28T18:06:49.707Z"
      },
      {
        "duration": 14,
        "start_time": "2022-07-28T18:06:49.714Z"
      },
      {
        "duration": 5,
        "start_time": "2022-07-28T18:06:49.730Z"
      },
      {
        "duration": 22,
        "start_time": "2022-07-28T18:06:49.737Z"
      },
      {
        "duration": 14,
        "start_time": "2022-07-28T18:06:49.761Z"
      },
      {
        "duration": 326,
        "start_time": "2022-07-28T18:06:49.778Z"
      },
      {
        "duration": 7,
        "start_time": "2022-07-28T18:06:50.106Z"
      },
      {
        "duration": 141,
        "start_time": "2022-07-28T18:06:50.114Z"
      },
      {
        "duration": 157,
        "start_time": "2022-07-28T18:06:50.256Z"
      },
      {
        "duration": 145,
        "start_time": "2022-07-28T18:06:50.415Z"
      },
      {
        "duration": 168,
        "start_time": "2022-07-28T18:06:50.561Z"
      },
      {
        "duration": 164,
        "start_time": "2022-07-28T18:06:50.731Z"
      },
      {
        "duration": 148,
        "start_time": "2022-07-28T18:06:50.899Z"
      },
      {
        "duration": 142,
        "start_time": "2022-07-28T18:06:51.049Z"
      },
      {
        "duration": 304,
        "start_time": "2022-07-28T18:06:51.192Z"
      },
      {
        "duration": 170,
        "start_time": "2022-07-28T18:06:51.498Z"
      },
      {
        "duration": 136,
        "start_time": "2022-07-28T18:06:51.669Z"
      },
      {
        "duration": 23,
        "start_time": "2022-07-28T18:06:51.807Z"
      },
      {
        "duration": 25,
        "start_time": "2022-07-28T18:06:51.832Z"
      },
      {
        "duration": 9,
        "start_time": "2022-07-28T18:06:51.859Z"
      },
      {
        "duration": 120,
        "start_time": "2022-07-28T18:06:51.869Z"
      },
      {
        "duration": 100,
        "start_time": "2022-07-28T18:06:51.990Z"
      },
      {
        "duration": 106,
        "start_time": "2022-07-28T18:06:52.092Z"
      },
      {
        "duration": 5,
        "start_time": "2022-07-28T18:06:52.200Z"
      },
      {
        "duration": 20,
        "start_time": "2022-07-28T18:06:52.207Z"
      },
      {
        "duration": 232,
        "start_time": "2022-07-28T18:06:52.228Z"
      },
      {
        "duration": 191,
        "start_time": "2022-07-28T18:06:52.462Z"
      },
      {
        "duration": 33,
        "start_time": "2022-07-28T18:06:52.655Z"
      },
      {
        "duration": 8,
        "start_time": "2022-07-28T18:06:52.689Z"
      },
      {
        "duration": 2006,
        "start_time": "2022-07-28T18:06:52.698Z"
      },
      {
        "duration": 6,
        "start_time": "2022-07-28T18:06:54.705Z"
      },
      {
        "duration": 237,
        "start_time": "2022-07-28T18:06:54.712Z"
      },
      {
        "duration": 8,
        "start_time": "2022-07-28T18:06:54.951Z"
      },
      {
        "duration": 169,
        "start_time": "2022-07-28T18:06:54.961Z"
      },
      {
        "duration": 164,
        "start_time": "2022-07-28T18:06:55.132Z"
      },
      {
        "duration": 21,
        "start_time": "2022-07-28T18:06:55.298Z"
      },
      {
        "duration": 140,
        "start_time": "2022-07-28T18:06:55.320Z"
      },
      {
        "duration": 16,
        "start_time": "2022-07-28T18:06:55.462Z"
      },
      {
        "duration": 136,
        "start_time": "2022-07-28T18:06:55.487Z"
      },
      {
        "duration": 7,
        "start_time": "2022-07-28T18:06:55.625Z"
      },
      {
        "duration": 156,
        "start_time": "2022-07-28T18:06:55.633Z"
      },
      {
        "duration": 7,
        "start_time": "2022-07-28T18:06:55.791Z"
      },
      {
        "duration": 22,
        "start_time": "2022-07-28T18:06:55.799Z"
      },
      {
        "duration": 41,
        "start_time": "2022-07-28T18:06:55.822Z"
      },
      {
        "duration": 39,
        "start_time": "2022-07-28T18:06:55.864Z"
      },
      {
        "duration": 43,
        "start_time": "2022-07-29T11:39:37.626Z"
      },
      {
        "duration": 1191,
        "start_time": "2022-07-29T11:39:42.668Z"
      },
      {
        "duration": 95,
        "start_time": "2022-07-29T11:39:45.672Z"
      },
      {
        "duration": 176,
        "start_time": "2022-07-29T11:40:40.883Z"
      },
      {
        "duration": 16,
        "start_time": "2022-07-29T11:40:46.856Z"
      },
      {
        "duration": 51,
        "start_time": "2022-07-30T10:01:59.945Z"
      },
      {
        "duration": 1429,
        "start_time": "2022-07-30T10:02:18.118Z"
      },
      {
        "duration": 170,
        "start_time": "2022-07-30T10:02:19.549Z"
      },
      {
        "duration": 18,
        "start_time": "2022-07-30T10:02:19.721Z"
      },
      {
        "duration": 5,
        "start_time": "2022-07-30T10:02:19.741Z"
      },
      {
        "duration": 18,
        "start_time": "2022-07-30T10:02:19.748Z"
      },
      {
        "duration": 19,
        "start_time": "2022-07-30T10:02:19.767Z"
      },
      {
        "duration": 22,
        "start_time": "2022-07-30T10:02:19.788Z"
      },
      {
        "duration": 15,
        "start_time": "2022-07-30T10:02:19.812Z"
      },
      {
        "duration": 4,
        "start_time": "2022-07-30T10:02:19.829Z"
      },
      {
        "duration": 7,
        "start_time": "2022-07-30T10:02:19.836Z"
      },
      {
        "duration": 8,
        "start_time": "2022-07-30T10:02:19.844Z"
      },
      {
        "duration": 14,
        "start_time": "2022-07-30T10:02:19.854Z"
      },
      {
        "duration": 41,
        "start_time": "2022-07-30T10:02:19.870Z"
      },
      {
        "duration": 17,
        "start_time": "2022-07-30T10:02:19.913Z"
      },
      {
        "duration": 16,
        "start_time": "2022-07-30T10:02:19.932Z"
      },
      {
        "duration": 6,
        "start_time": "2022-07-30T10:02:19.950Z"
      },
      {
        "duration": 15,
        "start_time": "2022-07-30T10:02:19.957Z"
      },
      {
        "duration": 16,
        "start_time": "2022-07-30T10:02:19.974Z"
      },
      {
        "duration": 25,
        "start_time": "2022-07-30T10:02:19.991Z"
      },
      {
        "duration": 29,
        "start_time": "2022-07-30T10:02:20.017Z"
      },
      {
        "duration": 9,
        "start_time": "2022-07-30T10:02:20.047Z"
      },
      {
        "duration": 372,
        "start_time": "2022-07-30T10:02:20.058Z"
      },
      {
        "duration": 9,
        "start_time": "2022-07-30T10:02:20.431Z"
      },
      {
        "duration": 177,
        "start_time": "2022-07-30T10:02:20.442Z"
      },
      {
        "duration": 161,
        "start_time": "2022-07-30T10:02:20.621Z"
      },
      {
        "duration": 181,
        "start_time": "2022-07-30T10:02:20.783Z"
      },
      {
        "duration": 170,
        "start_time": "2022-07-30T10:02:20.966Z"
      },
      {
        "duration": 190,
        "start_time": "2022-07-30T10:02:21.140Z"
      },
      {
        "duration": 185,
        "start_time": "2022-07-30T10:02:21.332Z"
      },
      {
        "duration": 178,
        "start_time": "2022-07-30T10:02:21.519Z"
      },
      {
        "duration": 400,
        "start_time": "2022-07-30T10:02:21.699Z"
      },
      {
        "duration": 170,
        "start_time": "2022-07-30T10:02:22.101Z"
      },
      {
        "duration": 184,
        "start_time": "2022-07-30T10:02:22.273Z"
      },
      {
        "duration": 28,
        "start_time": "2022-07-30T10:02:22.459Z"
      },
      {
        "duration": 21,
        "start_time": "2022-07-30T10:02:22.489Z"
      },
      {
        "duration": 17,
        "start_time": "2022-07-30T10:02:22.512Z"
      },
      {
        "duration": 149,
        "start_time": "2022-07-30T10:02:22.531Z"
      },
      {
        "duration": 128,
        "start_time": "2022-07-30T10:02:22.682Z"
      },
      {
        "duration": 130,
        "start_time": "2022-07-30T10:02:22.812Z"
      },
      {
        "duration": 7,
        "start_time": "2022-07-30T10:02:22.944Z"
      },
      {
        "duration": 26,
        "start_time": "2022-07-30T10:02:22.952Z"
      },
      {
        "duration": 242,
        "start_time": "2022-07-30T10:02:22.980Z"
      },
      {
        "duration": 220,
        "start_time": "2022-07-30T10:02:23.224Z"
      },
      {
        "duration": 23,
        "start_time": "2022-07-30T10:02:23.446Z"
      },
      {
        "duration": 23,
        "start_time": "2022-07-30T10:02:23.471Z"
      },
      {
        "duration": 2531,
        "start_time": "2022-07-30T10:02:23.496Z"
      },
      {
        "duration": 6,
        "start_time": "2022-07-30T10:02:26.029Z"
      },
      {
        "duration": 263,
        "start_time": "2022-07-30T10:02:26.036Z"
      },
      {
        "duration": 10,
        "start_time": "2022-07-30T10:02:26.301Z"
      },
      {
        "duration": 207,
        "start_time": "2022-07-30T10:02:26.313Z"
      },
      {
        "duration": 207,
        "start_time": "2022-07-30T10:02:26.522Z"
      },
      {
        "duration": 25,
        "start_time": "2022-07-30T10:02:26.731Z"
      },
      {
        "duration": 182,
        "start_time": "2022-07-30T10:02:26.758Z"
      },
      {
        "duration": 9,
        "start_time": "2022-07-30T10:02:26.942Z"
      },
      {
        "duration": 181,
        "start_time": "2022-07-30T10:02:26.953Z"
      },
      {
        "duration": 7,
        "start_time": "2022-07-30T10:02:27.136Z"
      },
      {
        "duration": 178,
        "start_time": "2022-07-30T10:02:27.145Z"
      },
      {
        "duration": 8,
        "start_time": "2022-07-30T10:02:27.325Z"
      },
      {
        "duration": 16,
        "start_time": "2022-07-30T10:02:27.334Z"
      },
      {
        "duration": 36,
        "start_time": "2022-07-30T10:02:27.352Z"
      },
      {
        "duration": 36,
        "start_time": "2022-07-30T10:02:27.411Z"
      },
      {
        "duration": 15,
        "start_time": "2022-07-30T10:08:41.188Z"
      },
      {
        "duration": 77,
        "start_time": "2022-07-30T10:15:23.273Z"
      },
      {
        "duration": 8,
        "start_time": "2022-07-30T10:21:45.886Z"
      },
      {
        "duration": 137,
        "start_time": "2022-07-30T10:24:03.657Z"
      },
      {
        "duration": 19,
        "start_time": "2022-07-30T10:24:13.285Z"
      },
      {
        "duration": 11,
        "start_time": "2022-07-30T10:27:21.159Z"
      },
      {
        "duration": 10,
        "start_time": "2022-07-30T10:27:29.126Z"
      },
      {
        "duration": 34,
        "start_time": "2022-07-30T10:36:27.850Z"
      },
      {
        "duration": 231,
        "start_time": "2022-07-30T11:00:06.045Z"
      },
      {
        "duration": 431,
        "start_time": "2022-07-30T11:02:12.482Z"
      },
      {
        "duration": 1255,
        "start_time": "2022-07-30T11:02:21.737Z"
      },
      {
        "duration": 62,
        "start_time": "2022-07-30T11:02:22.994Z"
      },
      {
        "duration": 18,
        "start_time": "2022-07-30T11:02:23.058Z"
      },
      {
        "duration": 5,
        "start_time": "2022-07-30T11:02:23.078Z"
      },
      {
        "duration": 26,
        "start_time": "2022-07-30T11:02:23.085Z"
      },
      {
        "duration": 17,
        "start_time": "2022-07-30T11:02:23.114Z"
      },
      {
        "duration": 9,
        "start_time": "2022-07-30T11:02:23.133Z"
      },
      {
        "duration": 14,
        "start_time": "2022-07-30T11:02:23.144Z"
      },
      {
        "duration": 5,
        "start_time": "2022-07-30T11:02:23.160Z"
      },
      {
        "duration": 6,
        "start_time": "2022-07-30T11:02:23.169Z"
      },
      {
        "duration": 11,
        "start_time": "2022-07-30T11:02:23.211Z"
      },
      {
        "duration": 26,
        "start_time": "2022-07-30T11:02:23.225Z"
      },
      {
        "duration": 6,
        "start_time": "2022-07-30T11:02:23.254Z"
      },
      {
        "duration": 11,
        "start_time": "2022-07-30T11:02:23.262Z"
      },
      {
        "duration": 20,
        "start_time": "2022-07-30T11:02:23.275Z"
      },
      {
        "duration": 7,
        "start_time": "2022-07-30T11:02:23.312Z"
      },
      {
        "duration": 37,
        "start_time": "2022-07-30T11:02:23.321Z"
      },
      {
        "duration": 15,
        "start_time": "2022-07-30T11:02:23.360Z"
      },
      {
        "duration": 9,
        "start_time": "2022-07-30T11:02:23.377Z"
      },
      {
        "duration": 24,
        "start_time": "2022-07-30T11:02:23.388Z"
      },
      {
        "duration": 36,
        "start_time": "2022-07-30T11:02:23.414Z"
      },
      {
        "duration": 6,
        "start_time": "2022-07-30T11:02:23.452Z"
      },
      {
        "duration": 28,
        "start_time": "2022-07-30T11:02:23.459Z"
      },
      {
        "duration": 34,
        "start_time": "2022-07-30T11:02:23.488Z"
      },
      {
        "duration": 385,
        "start_time": "2022-07-30T11:02:23.525Z"
      },
      {
        "duration": 14,
        "start_time": "2022-07-30T11:02:23.912Z"
      },
      {
        "duration": 203,
        "start_time": "2022-07-30T11:02:23.928Z"
      },
      {
        "duration": 188,
        "start_time": "2022-07-30T11:02:24.136Z"
      },
      {
        "duration": 173,
        "start_time": "2022-07-30T11:02:24.327Z"
      },
      {
        "duration": 175,
        "start_time": "2022-07-30T11:02:24.502Z"
      },
      {
        "duration": 192,
        "start_time": "2022-07-30T11:02:24.678Z"
      },
      {
        "duration": 193,
        "start_time": "2022-07-30T11:02:24.871Z"
      },
      {
        "duration": 173,
        "start_time": "2022-07-30T11:02:25.066Z"
      },
      {
        "duration": 371,
        "start_time": "2022-07-30T11:02:25.241Z"
      },
      {
        "duration": 166,
        "start_time": "2022-07-30T11:02:25.614Z"
      },
      {
        "duration": 161,
        "start_time": "2022-07-30T11:02:25.782Z"
      },
      {
        "duration": 25,
        "start_time": "2022-07-30T11:02:25.944Z"
      },
      {
        "duration": 5,
        "start_time": "2022-07-30T11:02:25.971Z"
      },
      {
        "duration": 9,
        "start_time": "2022-07-30T11:02:25.978Z"
      },
      {
        "duration": 147,
        "start_time": "2022-07-30T11:02:26.011Z"
      },
      {
        "duration": 131,
        "start_time": "2022-07-30T11:02:26.160Z"
      },
      {
        "duration": 150,
        "start_time": "2022-07-30T11:02:26.292Z"
      },
      {
        "duration": 7,
        "start_time": "2022-07-30T11:02:26.443Z"
      },
      {
        "duration": 23,
        "start_time": "2022-07-30T11:02:26.452Z"
      },
      {
        "duration": 263,
        "start_time": "2022-07-30T11:02:26.477Z"
      },
      {
        "duration": 240,
        "start_time": "2022-07-30T11:02:26.742Z"
      },
      {
        "duration": 32,
        "start_time": "2022-07-30T11:02:26.984Z"
      },
      {
        "duration": 15,
        "start_time": "2022-07-30T11:02:27.018Z"
      },
      {
        "duration": 2506,
        "start_time": "2022-07-30T11:02:27.035Z"
      },
      {
        "duration": 6,
        "start_time": "2022-07-30T11:02:29.543Z"
      },
      {
        "duration": 263,
        "start_time": "2022-07-30T11:02:29.551Z"
      },
      {
        "duration": 8,
        "start_time": "2022-07-30T11:02:29.816Z"
      },
      {
        "duration": 197,
        "start_time": "2022-07-30T11:02:29.826Z"
      },
      {
        "duration": 197,
        "start_time": "2022-07-30T11:02:30.025Z"
      },
      {
        "duration": 25,
        "start_time": "2022-07-30T11:02:30.224Z"
      },
      {
        "duration": 180,
        "start_time": "2022-07-30T11:02:30.251Z"
      },
      {
        "duration": 9,
        "start_time": "2022-07-30T11:02:30.433Z"
      },
      {
        "duration": 169,
        "start_time": "2022-07-30T11:02:30.443Z"
      },
      {
        "duration": 8,
        "start_time": "2022-07-30T11:02:30.613Z"
      },
      {
        "duration": 165,
        "start_time": "2022-07-30T11:02:30.622Z"
      },
      {
        "duration": 8,
        "start_time": "2022-07-30T11:02:30.789Z"
      },
      {
        "duration": 31,
        "start_time": "2022-07-30T11:02:30.798Z"
      },
      {
        "duration": 45,
        "start_time": "2022-07-30T11:02:30.830Z"
      },
      {
        "duration": 42,
        "start_time": "2022-07-30T11:02:30.877Z"
      },
      {
        "duration": 215,
        "start_time": "2022-07-30T11:04:53.273Z"
      },
      {
        "duration": 321,
        "start_time": "2022-07-30T11:05:26.302Z"
      },
      {
        "duration": 1206,
        "start_time": "2022-07-30T11:05:42.477Z"
      },
      {
        "duration": 52,
        "start_time": "2022-07-30T11:05:43.686Z"
      },
      {
        "duration": 18,
        "start_time": "2022-07-30T11:05:43.740Z"
      },
      {
        "duration": 5,
        "start_time": "2022-07-30T11:05:43.760Z"
      },
      {
        "duration": 18,
        "start_time": "2022-07-30T11:05:43.767Z"
      },
      {
        "duration": 32,
        "start_time": "2022-07-30T11:05:43.786Z"
      },
      {
        "duration": 9,
        "start_time": "2022-07-30T11:05:43.820Z"
      },
      {
        "duration": 14,
        "start_time": "2022-07-30T11:05:43.831Z"
      },
      {
        "duration": 5,
        "start_time": "2022-07-30T11:05:43.846Z"
      },
      {
        "duration": 5,
        "start_time": "2022-07-30T11:05:43.854Z"
      },
      {
        "duration": 12,
        "start_time": "2022-07-30T11:05:43.860Z"
      },
      {
        "duration": 44,
        "start_time": "2022-07-30T11:05:43.874Z"
      },
      {
        "duration": 11,
        "start_time": "2022-07-30T11:05:43.920Z"
      },
      {
        "duration": 14,
        "start_time": "2022-07-30T11:05:43.933Z"
      },
      {
        "duration": 26,
        "start_time": "2022-07-30T11:05:43.949Z"
      },
      {
        "duration": 12,
        "start_time": "2022-07-30T11:05:43.978Z"
      },
      {
        "duration": 18,
        "start_time": "2022-07-30T11:05:43.992Z"
      },
      {
        "duration": 20,
        "start_time": "2022-07-30T11:05:44.012Z"
      },
      {
        "duration": 10,
        "start_time": "2022-07-30T11:05:44.034Z"
      },
      {
        "duration": 11,
        "start_time": "2022-07-30T11:05:44.046Z"
      },
      {
        "duration": 61,
        "start_time": "2022-07-30T11:05:44.059Z"
      },
      {
        "duration": 6,
        "start_time": "2022-07-30T11:05:44.122Z"
      },
      {
        "duration": 25,
        "start_time": "2022-07-30T11:05:44.130Z"
      },
      {
        "duration": 8,
        "start_time": "2022-07-30T11:05:44.157Z"
      },
      {
        "duration": 389,
        "start_time": "2022-07-30T11:05:44.167Z"
      },
      {
        "duration": 8,
        "start_time": "2022-07-30T11:05:44.558Z"
      },
      {
        "duration": 175,
        "start_time": "2022-07-30T11:05:44.568Z"
      },
      {
        "duration": 166,
        "start_time": "2022-07-30T11:05:44.747Z"
      },
      {
        "duration": 169,
        "start_time": "2022-07-30T11:05:44.915Z"
      },
      {
        "duration": 189,
        "start_time": "2022-07-30T11:05:45.086Z"
      },
      {
        "duration": 208,
        "start_time": "2022-07-30T11:05:45.277Z"
      },
      {
        "duration": 189,
        "start_time": "2022-07-30T11:05:45.487Z"
      },
      {
        "duration": 162,
        "start_time": "2022-07-30T11:05:45.678Z"
      },
      {
        "duration": 357,
        "start_time": "2022-07-30T11:05:45.842Z"
      },
      {
        "duration": 178,
        "start_time": "2022-07-30T11:05:46.202Z"
      },
      {
        "duration": 154,
        "start_time": "2022-07-30T11:05:46.382Z"
      },
      {
        "duration": 25,
        "start_time": "2022-07-30T11:05:46.540Z"
      },
      {
        "duration": 8,
        "start_time": "2022-07-30T11:05:46.567Z"
      },
      {
        "duration": 8,
        "start_time": "2022-07-30T11:05:46.578Z"
      },
      {
        "duration": 149,
        "start_time": "2022-07-30T11:05:46.587Z"
      },
      {
        "duration": 131,
        "start_time": "2022-07-30T11:05:46.738Z"
      },
      {
        "duration": 132,
        "start_time": "2022-07-30T11:05:46.872Z"
      },
      {
        "duration": 8,
        "start_time": "2022-07-30T11:05:47.005Z"
      },
      {
        "duration": 25,
        "start_time": "2022-07-30T11:05:47.015Z"
      },
      {
        "duration": 250,
        "start_time": "2022-07-30T11:05:47.041Z"
      },
      {
        "duration": 231,
        "start_time": "2022-07-30T11:05:47.293Z"
      },
      {
        "duration": 23,
        "start_time": "2022-07-30T11:05:47.526Z"
      },
      {
        "duration": 12,
        "start_time": "2022-07-30T11:05:47.551Z"
      },
      {
        "duration": 2432,
        "start_time": "2022-07-30T11:05:47.565Z"
      },
      {
        "duration": 14,
        "start_time": "2022-07-30T11:05:50.000Z"
      },
      {
        "duration": 267,
        "start_time": "2022-07-30T11:05:50.015Z"
      },
      {
        "duration": 7,
        "start_time": "2022-07-30T11:05:50.284Z"
      },
      {
        "duration": 223,
        "start_time": "2022-07-30T11:05:50.293Z"
      },
      {
        "duration": 206,
        "start_time": "2022-07-30T11:05:50.518Z"
      },
      {
        "duration": 25,
        "start_time": "2022-07-30T11:05:50.726Z"
      },
      {
        "duration": 178,
        "start_time": "2022-07-30T11:05:50.753Z"
      },
      {
        "duration": 8,
        "start_time": "2022-07-30T11:05:50.933Z"
      },
      {
        "duration": 175,
        "start_time": "2022-07-30T11:05:50.943Z"
      },
      {
        "duration": 8,
        "start_time": "2022-07-30T11:05:51.119Z"
      },
      {
        "duration": 167,
        "start_time": "2022-07-30T11:05:51.128Z"
      },
      {
        "duration": 14,
        "start_time": "2022-07-30T11:05:51.297Z"
      },
      {
        "duration": 15,
        "start_time": "2022-07-30T11:05:51.313Z"
      },
      {
        "duration": 34,
        "start_time": "2022-07-30T11:05:51.330Z"
      },
      {
        "duration": 60,
        "start_time": "2022-07-30T11:05:51.366Z"
      },
      {
        "duration": 1197,
        "start_time": "2022-07-30T11:07:11.769Z"
      },
      {
        "duration": 53,
        "start_time": "2022-07-30T11:07:12.968Z"
      },
      {
        "duration": 18,
        "start_time": "2022-07-30T11:07:13.023Z"
      },
      {
        "duration": 5,
        "start_time": "2022-07-30T11:07:13.043Z"
      },
      {
        "duration": 17,
        "start_time": "2022-07-30T11:07:13.049Z"
      },
      {
        "duration": 19,
        "start_time": "2022-07-30T11:07:13.067Z"
      },
      {
        "duration": 22,
        "start_time": "2022-07-30T11:07:13.088Z"
      },
      {
        "duration": 15,
        "start_time": "2022-07-30T11:07:13.112Z"
      },
      {
        "duration": 4,
        "start_time": "2022-07-30T11:07:13.129Z"
      },
      {
        "duration": 5,
        "start_time": "2022-07-30T11:07:13.136Z"
      },
      {
        "duration": 8,
        "start_time": "2022-07-30T11:07:13.143Z"
      },
      {
        "duration": 16,
        "start_time": "2022-07-30T11:07:13.153Z"
      },
      {
        "duration": 41,
        "start_time": "2022-07-30T11:07:13.171Z"
      },
      {
        "duration": 11,
        "start_time": "2022-07-30T11:07:13.214Z"
      },
      {
        "duration": 33,
        "start_time": "2022-07-30T11:07:13.227Z"
      },
      {
        "duration": 25,
        "start_time": "2022-07-30T11:07:13.262Z"
      },
      {
        "duration": 54,
        "start_time": "2022-07-30T11:07:13.289Z"
      },
      {
        "duration": 25,
        "start_time": "2022-07-30T11:07:13.345Z"
      },
      {
        "duration": 13,
        "start_time": "2022-07-30T11:07:13.372Z"
      },
      {
        "duration": 26,
        "start_time": "2022-07-30T11:07:13.387Z"
      },
      {
        "duration": 35,
        "start_time": "2022-07-30T11:07:13.415Z"
      },
      {
        "duration": 6,
        "start_time": "2022-07-30T11:07:13.451Z"
      },
      {
        "duration": 27,
        "start_time": "2022-07-30T11:07:13.458Z"
      },
      {
        "duration": 20,
        "start_time": "2022-07-30T11:07:13.487Z"
      },
      {
        "duration": 330,
        "start_time": "2022-07-30T11:07:13.509Z"
      },
      {
        "duration": 8,
        "start_time": "2022-07-30T11:07:13.841Z"
      },
      {
        "duration": 187,
        "start_time": "2022-07-30T11:07:13.850Z"
      },
      {
        "duration": 171,
        "start_time": "2022-07-30T11:07:14.041Z"
      },
      {
        "duration": 169,
        "start_time": "2022-07-30T11:07:14.213Z"
      },
      {
        "duration": 168,
        "start_time": "2022-07-30T11:07:14.383Z"
      },
      {
        "duration": 176,
        "start_time": "2022-07-30T11:07:14.553Z"
      },
      {
        "duration": 176,
        "start_time": "2022-07-30T11:07:14.731Z"
      },
      {
        "duration": 165,
        "start_time": "2022-07-30T11:07:14.910Z"
      },
      {
        "duration": 365,
        "start_time": "2022-07-30T11:07:15.076Z"
      },
      {
        "duration": 180,
        "start_time": "2022-07-30T11:07:15.444Z"
      },
      {
        "duration": 137,
        "start_time": "2022-07-30T11:07:15.626Z"
      },
      {
        "duration": 24,
        "start_time": "2022-07-30T11:07:15.764Z"
      },
      {
        "duration": 22,
        "start_time": "2022-07-30T11:07:15.790Z"
      },
      {
        "duration": 19,
        "start_time": "2022-07-30T11:07:15.814Z"
      },
      {
        "duration": 131,
        "start_time": "2022-07-30T11:07:15.835Z"
      },
      {
        "duration": 128,
        "start_time": "2022-07-30T11:07:15.967Z"
      },
      {
        "duration": 128,
        "start_time": "2022-07-30T11:07:16.096Z"
      },
      {
        "duration": 6,
        "start_time": "2022-07-30T11:07:16.226Z"
      },
      {
        "duration": 25,
        "start_time": "2022-07-30T11:07:16.233Z"
      },
      {
        "duration": 254,
        "start_time": "2022-07-30T11:07:16.260Z"
      },
      {
        "duration": 235,
        "start_time": "2022-07-30T11:07:16.516Z"
      },
      {
        "duration": 0,
        "start_time": "2022-07-30T11:07:16.753Z"
      },
      {
        "duration": 0,
        "start_time": "2022-07-30T11:07:16.755Z"
      },
      {
        "duration": 0,
        "start_time": "2022-07-30T11:07:16.756Z"
      },
      {
        "duration": 0,
        "start_time": "2022-07-30T11:07:16.758Z"
      },
      {
        "duration": 0,
        "start_time": "2022-07-30T11:07:16.759Z"
      },
      {
        "duration": 0,
        "start_time": "2022-07-30T11:07:16.761Z"
      },
      {
        "duration": 0,
        "start_time": "2022-07-30T11:07:16.762Z"
      },
      {
        "duration": 0,
        "start_time": "2022-07-30T11:07:16.764Z"
      },
      {
        "duration": 0,
        "start_time": "2022-07-30T11:07:16.765Z"
      },
      {
        "duration": 0,
        "start_time": "2022-07-30T11:07:16.767Z"
      },
      {
        "duration": 0,
        "start_time": "2022-07-30T11:07:16.769Z"
      },
      {
        "duration": 0,
        "start_time": "2022-07-30T11:07:16.771Z"
      },
      {
        "duration": 0,
        "start_time": "2022-07-30T11:07:16.772Z"
      },
      {
        "duration": 0,
        "start_time": "2022-07-30T11:07:16.774Z"
      },
      {
        "duration": 0,
        "start_time": "2022-07-30T11:07:16.775Z"
      },
      {
        "duration": 0,
        "start_time": "2022-07-30T11:07:16.809Z"
      },
      {
        "duration": 0,
        "start_time": "2022-07-30T11:07:16.811Z"
      },
      {
        "duration": 0,
        "start_time": "2022-07-30T11:07:16.812Z"
      },
      {
        "duration": 1216,
        "start_time": "2022-07-30T11:15:52.045Z"
      },
      {
        "duration": 53,
        "start_time": "2022-07-30T11:15:53.263Z"
      },
      {
        "duration": 19,
        "start_time": "2022-07-30T11:15:53.318Z"
      },
      {
        "duration": 10,
        "start_time": "2022-07-30T11:15:53.339Z"
      },
      {
        "duration": 27,
        "start_time": "2022-07-30T11:15:53.350Z"
      },
      {
        "duration": 19,
        "start_time": "2022-07-30T11:15:53.379Z"
      },
      {
        "duration": 15,
        "start_time": "2022-07-30T11:15:53.400Z"
      },
      {
        "duration": 16,
        "start_time": "2022-07-30T11:15:53.417Z"
      },
      {
        "duration": 4,
        "start_time": "2022-07-30T11:15:53.435Z"
      },
      {
        "duration": 6,
        "start_time": "2022-07-30T11:15:53.443Z"
      },
      {
        "duration": 7,
        "start_time": "2022-07-30T11:15:53.451Z"
      },
      {
        "duration": 15,
        "start_time": "2022-07-30T11:15:53.460Z"
      },
      {
        "duration": 6,
        "start_time": "2022-07-30T11:15:53.510Z"
      },
      {
        "duration": 10,
        "start_time": "2022-07-30T11:15:53.517Z"
      },
      {
        "duration": 13,
        "start_time": "2022-07-30T11:15:53.528Z"
      },
      {
        "duration": 5,
        "start_time": "2022-07-30T11:15:53.543Z"
      },
      {
        "duration": 17,
        "start_time": "2022-07-30T11:15:53.550Z"
      },
      {
        "duration": 45,
        "start_time": "2022-07-30T11:15:53.569Z"
      },
      {
        "duration": 8,
        "start_time": "2022-07-30T11:15:53.616Z"
      },
      {
        "duration": 11,
        "start_time": "2022-07-30T11:15:53.626Z"
      },
      {
        "duration": 27,
        "start_time": "2022-07-30T11:15:53.639Z"
      },
      {
        "duration": 5,
        "start_time": "2022-07-30T11:15:53.668Z"
      },
      {
        "duration": 50,
        "start_time": "2022-07-30T11:15:53.675Z"
      },
      {
        "duration": 7,
        "start_time": "2022-07-30T11:15:53.727Z"
      },
      {
        "duration": 349,
        "start_time": "2022-07-30T11:15:53.736Z"
      },
      {
        "duration": 9,
        "start_time": "2022-07-30T11:15:54.087Z"
      },
      {
        "duration": 174,
        "start_time": "2022-07-30T11:15:54.097Z"
      },
      {
        "duration": 175,
        "start_time": "2022-07-30T11:15:54.274Z"
      },
      {
        "duration": 161,
        "start_time": "2022-07-30T11:15:54.451Z"
      },
      {
        "duration": 176,
        "start_time": "2022-07-30T11:15:54.613Z"
      },
      {
        "duration": 182,
        "start_time": "2022-07-30T11:15:54.791Z"
      },
      {
        "duration": 194,
        "start_time": "2022-07-30T11:15:54.975Z"
      },
      {
        "duration": 190,
        "start_time": "2022-07-30T11:15:55.171Z"
      },
      {
        "duration": 343,
        "start_time": "2022-07-30T11:15:55.362Z"
      },
      {
        "duration": 163,
        "start_time": "2022-07-30T11:15:55.710Z"
      },
      {
        "duration": 153,
        "start_time": "2022-07-30T11:15:55.875Z"
      },
      {
        "duration": 24,
        "start_time": "2022-07-30T11:15:56.030Z"
      },
      {
        "duration": 10,
        "start_time": "2022-07-30T11:15:56.056Z"
      },
      {
        "duration": 9,
        "start_time": "2022-07-30T11:15:56.068Z"
      },
      {
        "duration": 146,
        "start_time": "2022-07-30T11:15:56.079Z"
      },
      {
        "duration": 133,
        "start_time": "2022-07-30T11:15:56.226Z"
      },
      {
        "duration": 129,
        "start_time": "2022-07-30T11:15:56.361Z"
      },
      {
        "duration": 19,
        "start_time": "2022-07-30T11:15:56.492Z"
      },
      {
        "duration": 26,
        "start_time": "2022-07-30T11:15:56.513Z"
      },
      {
        "duration": 243,
        "start_time": "2022-07-30T11:15:56.541Z"
      },
      {
        "duration": 226,
        "start_time": "2022-07-30T11:15:56.786Z"
      },
      {
        "duration": 25,
        "start_time": "2022-07-30T11:15:57.014Z"
      },
      {
        "duration": 8,
        "start_time": "2022-07-30T11:15:57.041Z"
      },
      {
        "duration": 2414,
        "start_time": "2022-07-30T11:15:57.050Z"
      },
      {
        "duration": 6,
        "start_time": "2022-07-30T11:15:59.466Z"
      },
      {
        "duration": 254,
        "start_time": "2022-07-30T11:15:59.473Z"
      },
      {
        "duration": 7,
        "start_time": "2022-07-30T11:15:59.729Z"
      },
      {
        "duration": 200,
        "start_time": "2022-07-30T11:15:59.738Z"
      },
      {
        "duration": 193,
        "start_time": "2022-07-30T11:15:59.940Z"
      },
      {
        "duration": 26,
        "start_time": "2022-07-30T11:16:00.134Z"
      },
      {
        "duration": 173,
        "start_time": "2022-07-30T11:16:00.161Z"
      },
      {
        "duration": 8,
        "start_time": "2022-07-30T11:16:00.336Z"
      },
      {
        "duration": 177,
        "start_time": "2022-07-30T11:16:00.345Z"
      },
      {
        "duration": 7,
        "start_time": "2022-07-30T11:16:00.524Z"
      },
      {
        "duration": 173,
        "start_time": "2022-07-30T11:16:00.533Z"
      },
      {
        "duration": 8,
        "start_time": "2022-07-30T11:16:00.710Z"
      },
      {
        "duration": 14,
        "start_time": "2022-07-30T11:16:00.720Z"
      },
      {
        "duration": 36,
        "start_time": "2022-07-30T11:16:00.736Z"
      },
      {
        "duration": 65,
        "start_time": "2022-07-30T11:16:00.774Z"
      },
      {
        "duration": 1205,
        "start_time": "2022-07-30T11:20:22.466Z"
      },
      {
        "duration": 53,
        "start_time": "2022-07-30T11:20:23.673Z"
      },
      {
        "duration": 18,
        "start_time": "2022-07-30T11:20:23.728Z"
      },
      {
        "duration": 6,
        "start_time": "2022-07-30T11:20:23.748Z"
      },
      {
        "duration": 19,
        "start_time": "2022-07-30T11:20:23.755Z"
      },
      {
        "duration": 36,
        "start_time": "2022-07-30T11:20:23.775Z"
      },
      {
        "duration": 8,
        "start_time": "2022-07-30T11:20:23.813Z"
      },
      {
        "duration": 16,
        "start_time": "2022-07-30T11:20:23.823Z"
      },
      {
        "duration": 16,
        "start_time": "2022-07-30T11:20:23.841Z"
      },
      {
        "duration": 21,
        "start_time": "2022-07-30T11:20:23.859Z"
      },
      {
        "duration": 12,
        "start_time": "2022-07-30T11:20:23.882Z"
      },
      {
        "duration": 18,
        "start_time": "2022-07-30T11:20:23.895Z"
      },
      {
        "duration": 5,
        "start_time": "2022-07-30T11:20:23.915Z"
      },
      {
        "duration": 9,
        "start_time": "2022-07-30T11:20:23.922Z"
      },
      {
        "duration": 12,
        "start_time": "2022-07-30T11:20:23.932Z"
      },
      {
        "duration": 8,
        "start_time": "2022-07-30T11:20:23.946Z"
      },
      {
        "duration": 16,
        "start_time": "2022-07-30T11:20:23.956Z"
      },
      {
        "duration": 42,
        "start_time": "2022-07-30T11:20:23.974Z"
      },
      {
        "duration": 8,
        "start_time": "2022-07-30T11:20:24.017Z"
      },
      {
        "duration": 38,
        "start_time": "2022-07-30T11:20:24.026Z"
      },
      {
        "duration": 28,
        "start_time": "2022-07-30T11:20:24.066Z"
      },
      {
        "duration": 6,
        "start_time": "2022-07-30T11:20:24.096Z"
      },
      {
        "duration": 29,
        "start_time": "2022-07-30T11:20:24.104Z"
      },
      {
        "duration": 16,
        "start_time": "2022-07-30T11:20:24.134Z"
      },
      {
        "duration": 346,
        "start_time": "2022-07-30T11:20:24.152Z"
      },
      {
        "duration": 16,
        "start_time": "2022-07-30T11:20:24.500Z"
      },
      {
        "duration": 174,
        "start_time": "2022-07-30T11:20:24.517Z"
      },
      {
        "duration": 165,
        "start_time": "2022-07-30T11:20:24.695Z"
      },
      {
        "duration": 171,
        "start_time": "2022-07-30T11:20:24.862Z"
      },
      {
        "duration": 182,
        "start_time": "2022-07-30T11:20:25.034Z"
      },
      {
        "duration": 236,
        "start_time": "2022-07-30T11:20:25.218Z"
      },
      {
        "duration": 202,
        "start_time": "2022-07-30T11:20:25.457Z"
      },
      {
        "duration": 167,
        "start_time": "2022-07-30T11:20:25.661Z"
      },
      {
        "duration": 342,
        "start_time": "2022-07-30T11:20:25.830Z"
      },
      {
        "duration": 172,
        "start_time": "2022-07-30T11:20:26.174Z"
      },
      {
        "duration": 174,
        "start_time": "2022-07-30T11:20:26.348Z"
      },
      {
        "duration": 26,
        "start_time": "2022-07-30T11:20:26.523Z"
      },
      {
        "duration": 5,
        "start_time": "2022-07-30T11:20:26.551Z"
      },
      {
        "duration": 11,
        "start_time": "2022-07-30T11:20:26.557Z"
      },
      {
        "duration": 164,
        "start_time": "2022-07-30T11:20:26.569Z"
      },
      {
        "duration": 123,
        "start_time": "2022-07-30T11:20:26.735Z"
      },
      {
        "duration": 125,
        "start_time": "2022-07-30T11:20:26.860Z"
      },
      {
        "duration": 6,
        "start_time": "2022-07-30T11:20:26.987Z"
      },
      {
        "duration": 24,
        "start_time": "2022-07-30T11:20:27.011Z"
      },
      {
        "duration": 240,
        "start_time": "2022-07-30T11:20:27.036Z"
      },
      {
        "duration": 411,
        "start_time": "2022-07-30T11:20:27.278Z"
      },
      {
        "duration": 37,
        "start_time": "2022-07-30T11:20:27.691Z"
      },
      {
        "duration": 28,
        "start_time": "2022-07-30T11:20:27.730Z"
      },
      {
        "duration": 2538,
        "start_time": "2022-07-30T11:20:27.760Z"
      },
      {
        "duration": 12,
        "start_time": "2022-07-30T11:20:30.300Z"
      },
      {
        "duration": 288,
        "start_time": "2022-07-30T11:20:30.314Z"
      },
      {
        "duration": 10,
        "start_time": "2022-07-30T11:20:30.605Z"
      },
      {
        "duration": 222,
        "start_time": "2022-07-30T11:20:30.617Z"
      },
      {
        "duration": 207,
        "start_time": "2022-07-30T11:20:30.840Z"
      },
      {
        "duration": 24,
        "start_time": "2022-07-30T11:20:31.049Z"
      },
      {
        "duration": 188,
        "start_time": "2022-07-30T11:20:31.074Z"
      },
      {
        "duration": 9,
        "start_time": "2022-07-30T11:20:31.263Z"
      },
      {
        "duration": 181,
        "start_time": "2022-07-30T11:20:31.273Z"
      },
      {
        "duration": 8,
        "start_time": "2022-07-30T11:20:31.456Z"
      },
      {
        "duration": 176,
        "start_time": "2022-07-30T11:20:31.466Z"
      },
      {
        "duration": 8,
        "start_time": "2022-07-30T11:20:31.644Z"
      },
      {
        "duration": 14,
        "start_time": "2022-07-30T11:20:31.654Z"
      },
      {
        "duration": 64,
        "start_time": "2022-07-30T11:20:31.670Z"
      },
      {
        "duration": 36,
        "start_time": "2022-07-30T11:20:31.735Z"
      },
      {
        "duration": 490,
        "start_time": "2022-07-30T11:21:17.814Z"
      },
      {
        "duration": 1250,
        "start_time": "2022-07-30T11:21:54.948Z"
      },
      {
        "duration": 55,
        "start_time": "2022-07-30T11:21:56.200Z"
      },
      {
        "duration": 20,
        "start_time": "2022-07-30T11:21:56.257Z"
      },
      {
        "duration": 6,
        "start_time": "2022-07-30T11:21:56.279Z"
      },
      {
        "duration": 18,
        "start_time": "2022-07-30T11:21:56.286Z"
      },
      {
        "duration": 16,
        "start_time": "2022-07-30T11:21:56.309Z"
      },
      {
        "duration": 9,
        "start_time": "2022-07-30T11:21:56.328Z"
      },
      {
        "duration": 17,
        "start_time": "2022-07-30T11:21:56.338Z"
      },
      {
        "duration": 5,
        "start_time": "2022-07-30T11:21:56.356Z"
      },
      {
        "duration": 47,
        "start_time": "2022-07-30T11:21:56.364Z"
      },
      {
        "duration": 8,
        "start_time": "2022-07-30T11:21:56.412Z"
      },
      {
        "duration": 25,
        "start_time": "2022-07-30T11:21:56.423Z"
      },
      {
        "duration": 6,
        "start_time": "2022-07-30T11:21:56.449Z"
      },
      {
        "duration": 9,
        "start_time": "2022-07-30T11:21:56.457Z"
      },
      {
        "duration": 15,
        "start_time": "2022-07-30T11:21:56.467Z"
      },
      {
        "duration": 8,
        "start_time": "2022-07-30T11:21:56.510Z"
      },
      {
        "duration": 16,
        "start_time": "2022-07-30T11:21:56.521Z"
      },
      {
        "duration": 21,
        "start_time": "2022-07-30T11:21:56.539Z"
      },
      {
        "duration": 11,
        "start_time": "2022-07-30T11:21:56.562Z"
      },
      {
        "duration": 43,
        "start_time": "2022-07-30T11:21:56.575Z"
      },
      {
        "duration": 32,
        "start_time": "2022-07-30T11:21:56.620Z"
      },
      {
        "duration": 7,
        "start_time": "2022-07-30T11:21:56.654Z"
      },
      {
        "duration": 49,
        "start_time": "2022-07-30T11:21:56.662Z"
      },
      {
        "duration": 10,
        "start_time": "2022-07-30T11:21:56.713Z"
      },
      {
        "duration": 374,
        "start_time": "2022-07-30T11:21:56.725Z"
      },
      {
        "duration": 16,
        "start_time": "2022-07-30T11:21:57.101Z"
      },
      {
        "duration": 194,
        "start_time": "2022-07-30T11:21:57.119Z"
      },
      {
        "duration": 184,
        "start_time": "2022-07-30T11:21:57.319Z"
      },
      {
        "duration": 162,
        "start_time": "2022-07-30T11:21:57.510Z"
      },
      {
        "duration": 183,
        "start_time": "2022-07-30T11:21:57.674Z"
      },
      {
        "duration": 239,
        "start_time": "2022-07-30T11:21:57.859Z"
      },
      {
        "duration": 200,
        "start_time": "2022-07-30T11:21:58.099Z"
      },
      {
        "duration": 170,
        "start_time": "2022-07-30T11:21:58.313Z"
      },
      {
        "duration": 346,
        "start_time": "2022-07-30T11:21:58.485Z"
      },
      {
        "duration": 171,
        "start_time": "2022-07-30T11:21:58.833Z"
      },
      {
        "duration": 155,
        "start_time": "2022-07-30T11:21:59.011Z"
      },
      {
        "duration": 26,
        "start_time": "2022-07-30T11:21:59.168Z"
      },
      {
        "duration": 14,
        "start_time": "2022-07-30T11:21:59.202Z"
      },
      {
        "duration": 8,
        "start_time": "2022-07-30T11:21:59.218Z"
      },
      {
        "duration": 143,
        "start_time": "2022-07-30T11:21:59.228Z"
      },
      {
        "duration": 127,
        "start_time": "2022-07-30T11:21:59.373Z"
      },
      {
        "duration": 141,
        "start_time": "2022-07-30T11:21:59.502Z"
      },
      {
        "duration": 7,
        "start_time": "2022-07-30T11:21:59.645Z"
      },
      {
        "duration": 24,
        "start_time": "2022-07-30T11:21:59.655Z"
      },
      {
        "duration": 258,
        "start_time": "2022-07-30T11:21:59.681Z"
      },
      {
        "duration": 336,
        "start_time": "2022-07-30T11:21:59.940Z"
      },
      {
        "duration": 33,
        "start_time": "2022-07-30T11:22:00.278Z"
      },
      {
        "duration": 8,
        "start_time": "2022-07-30T11:22:00.313Z"
      },
      {
        "duration": 2607,
        "start_time": "2022-07-30T11:22:00.323Z"
      },
      {
        "duration": 6,
        "start_time": "2022-07-30T11:22:02.932Z"
      },
      {
        "duration": 267,
        "start_time": "2022-07-30T11:22:02.940Z"
      },
      {
        "duration": 8,
        "start_time": "2022-07-30T11:22:03.210Z"
      },
      {
        "duration": 202,
        "start_time": "2022-07-30T11:22:03.219Z"
      },
      {
        "duration": 200,
        "start_time": "2022-07-30T11:22:03.423Z"
      },
      {
        "duration": 25,
        "start_time": "2022-07-30T11:22:03.625Z"
      },
      {
        "duration": 173,
        "start_time": "2022-07-30T11:22:03.652Z"
      },
      {
        "duration": 11,
        "start_time": "2022-07-30T11:22:03.827Z"
      },
      {
        "duration": 224,
        "start_time": "2022-07-30T11:22:03.840Z"
      },
      {
        "duration": 9,
        "start_time": "2022-07-30T11:22:04.066Z"
      },
      {
        "duration": 200,
        "start_time": "2022-07-30T11:22:04.077Z"
      },
      {
        "duration": 8,
        "start_time": "2022-07-30T11:22:04.279Z"
      },
      {
        "duration": 29,
        "start_time": "2022-07-30T11:22:04.289Z"
      },
      {
        "duration": 50,
        "start_time": "2022-07-30T11:22:04.319Z"
      },
      {
        "duration": 65,
        "start_time": "2022-07-30T11:22:04.370Z"
      },
      {
        "duration": 5,
        "start_time": "2022-07-30T11:23:13.782Z"
      },
      {
        "duration": 401,
        "start_time": "2022-07-30T11:23:40.274Z"
      },
      {
        "duration": 328,
        "start_time": "2022-07-30T11:24:09.659Z"
      },
      {
        "duration": 1332,
        "start_time": "2022-07-30T11:24:17.718Z"
      },
      {
        "duration": 55,
        "start_time": "2022-07-30T11:24:19.052Z"
      },
      {
        "duration": 21,
        "start_time": "2022-07-30T11:24:19.109Z"
      },
      {
        "duration": 5,
        "start_time": "2022-07-30T11:24:19.133Z"
      },
      {
        "duration": 17,
        "start_time": "2022-07-30T11:24:19.140Z"
      },
      {
        "duration": 17,
        "start_time": "2022-07-30T11:24:19.159Z"
      },
      {
        "duration": 37,
        "start_time": "2022-07-30T11:24:19.179Z"
      },
      {
        "duration": 16,
        "start_time": "2022-07-30T11:24:19.218Z"
      },
      {
        "duration": 6,
        "start_time": "2022-07-30T11:24:19.236Z"
      },
      {
        "duration": 7,
        "start_time": "2022-07-30T11:24:19.244Z"
      },
      {
        "duration": 9,
        "start_time": "2022-07-30T11:24:19.253Z"
      },
      {
        "duration": 50,
        "start_time": "2022-07-30T11:24:19.264Z"
      },
      {
        "duration": 5,
        "start_time": "2022-07-30T11:24:19.316Z"
      },
      {
        "duration": 9,
        "start_time": "2022-07-30T11:24:19.323Z"
      },
      {
        "duration": 13,
        "start_time": "2022-07-30T11:24:19.334Z"
      },
      {
        "duration": 5,
        "start_time": "2022-07-30T11:24:19.349Z"
      },
      {
        "duration": 16,
        "start_time": "2022-07-30T11:24:19.356Z"
      },
      {
        "duration": 44,
        "start_time": "2022-07-30T11:24:19.374Z"
      },
      {
        "duration": 8,
        "start_time": "2022-07-30T11:24:19.419Z"
      },
      {
        "duration": 11,
        "start_time": "2022-07-30T11:24:19.429Z"
      },
      {
        "duration": 29,
        "start_time": "2022-07-30T11:24:19.442Z"
      },
      {
        "duration": 39,
        "start_time": "2022-07-30T11:24:19.474Z"
      },
      {
        "duration": 27,
        "start_time": "2022-07-30T11:24:19.516Z"
      },
      {
        "duration": 30,
        "start_time": "2022-07-30T11:24:19.545Z"
      },
      {
        "duration": 348,
        "start_time": "2022-07-30T11:24:19.577Z"
      },
      {
        "duration": 10,
        "start_time": "2022-07-30T11:24:19.927Z"
      },
      {
        "duration": 202,
        "start_time": "2022-07-30T11:24:19.940Z"
      },
      {
        "duration": 182,
        "start_time": "2022-07-30T11:24:20.147Z"
      },
      {
        "duration": 186,
        "start_time": "2022-07-30T11:24:20.331Z"
      },
      {
        "duration": 187,
        "start_time": "2022-07-30T11:24:20.519Z"
      },
      {
        "duration": 195,
        "start_time": "2022-07-30T11:24:20.710Z"
      },
      {
        "duration": 215,
        "start_time": "2022-07-30T11:24:20.907Z"
      },
      {
        "duration": 157,
        "start_time": "2022-07-30T11:24:21.124Z"
      },
      {
        "duration": 352,
        "start_time": "2022-07-30T11:24:21.283Z"
      },
      {
        "duration": 176,
        "start_time": "2022-07-30T11:24:21.637Z"
      },
      {
        "duration": 199,
        "start_time": "2022-07-30T11:24:21.815Z"
      },
      {
        "duration": 37,
        "start_time": "2022-07-30T11:24:22.016Z"
      },
      {
        "duration": 14,
        "start_time": "2022-07-30T11:24:22.056Z"
      },
      {
        "duration": 63,
        "start_time": "2022-07-30T11:24:22.073Z"
      },
      {
        "duration": 165,
        "start_time": "2022-07-30T11:24:22.138Z"
      },
      {
        "duration": 171,
        "start_time": "2022-07-30T11:24:22.306Z"
      },
      {
        "duration": 166,
        "start_time": "2022-07-30T11:24:22.480Z"
      },
      {
        "duration": 8,
        "start_time": "2022-07-30T11:24:22.648Z"
      },
      {
        "duration": 13,
        "start_time": "2022-07-30T11:24:22.659Z"
      },
      {
        "duration": 449,
        "start_time": "2022-07-30T11:24:22.675Z"
      },
      {
        "duration": 0,
        "start_time": "2022-07-30T11:24:23.127Z"
      },
      {
        "duration": 0,
        "start_time": "2022-07-30T11:24:23.129Z"
      },
      {
        "duration": 0,
        "start_time": "2022-07-30T11:24:23.130Z"
      },
      {
        "duration": 0,
        "start_time": "2022-07-30T11:24:23.132Z"
      },
      {
        "duration": 0,
        "start_time": "2022-07-30T11:24:23.134Z"
      },
      {
        "duration": 0,
        "start_time": "2022-07-30T11:24:23.135Z"
      },
      {
        "duration": 0,
        "start_time": "2022-07-30T11:24:23.137Z"
      },
      {
        "duration": 0,
        "start_time": "2022-07-30T11:24:23.139Z"
      },
      {
        "duration": 0,
        "start_time": "2022-07-30T11:24:23.140Z"
      },
      {
        "duration": 0,
        "start_time": "2022-07-30T11:24:23.142Z"
      },
      {
        "duration": 0,
        "start_time": "2022-07-30T11:24:23.143Z"
      },
      {
        "duration": 0,
        "start_time": "2022-07-30T11:24:23.145Z"
      },
      {
        "duration": 0,
        "start_time": "2022-07-30T11:24:23.146Z"
      },
      {
        "duration": 0,
        "start_time": "2022-07-30T11:24:23.147Z"
      },
      {
        "duration": 0,
        "start_time": "2022-07-30T11:24:23.149Z"
      },
      {
        "duration": 0,
        "start_time": "2022-07-30T11:24:23.150Z"
      },
      {
        "duration": 0,
        "start_time": "2022-07-30T11:24:23.151Z"
      },
      {
        "duration": 0,
        "start_time": "2022-07-30T11:24:23.153Z"
      },
      {
        "duration": 0,
        "start_time": "2022-07-30T11:24:23.154Z"
      },
      {
        "duration": 4,
        "start_time": "2022-07-30T11:26:40.222Z"
      },
      {
        "duration": 216,
        "start_time": "2022-07-30T11:26:42.951Z"
      },
      {
        "duration": 5,
        "start_time": "2022-07-30T11:28:26.718Z"
      },
      {
        "duration": 11,
        "start_time": "2022-07-30T11:33:14.862Z"
      },
      {
        "duration": 5,
        "start_time": "2022-07-30T11:33:20.049Z"
      },
      {
        "duration": 7,
        "start_time": "2022-07-30T11:33:26.538Z"
      },
      {
        "duration": 6,
        "start_time": "2022-07-30T11:33:47.905Z"
      },
      {
        "duration": 24,
        "start_time": "2022-07-30T11:37:02.958Z"
      },
      {
        "duration": 238,
        "start_time": "2022-07-30T11:37:05.088Z"
      },
      {
        "duration": 380,
        "start_time": "2022-07-30T11:37:27.495Z"
      },
      {
        "duration": 14,
        "start_time": "2022-07-30T11:39:10.046Z"
      },
      {
        "duration": 216,
        "start_time": "2022-07-30T11:39:12.357Z"
      },
      {
        "duration": 278,
        "start_time": "2022-07-30T11:39:17.830Z"
      },
      {
        "duration": 12,
        "start_time": "2022-07-30T11:44:08.602Z"
      },
      {
        "duration": 1285,
        "start_time": "2022-07-30T11:44:26.381Z"
      },
      {
        "duration": 57,
        "start_time": "2022-07-30T11:44:27.668Z"
      },
      {
        "duration": 19,
        "start_time": "2022-07-30T11:44:27.726Z"
      },
      {
        "duration": 5,
        "start_time": "2022-07-30T11:44:27.747Z"
      },
      {
        "duration": 27,
        "start_time": "2022-07-30T11:44:27.754Z"
      },
      {
        "duration": 29,
        "start_time": "2022-07-30T11:44:27.782Z"
      },
      {
        "duration": 9,
        "start_time": "2022-07-30T11:44:27.812Z"
      },
      {
        "duration": 21,
        "start_time": "2022-07-30T11:44:27.822Z"
      },
      {
        "duration": 6,
        "start_time": "2022-07-30T11:44:27.845Z"
      },
      {
        "duration": 10,
        "start_time": "2022-07-30T11:44:27.854Z"
      },
      {
        "duration": 13,
        "start_time": "2022-07-30T11:44:27.866Z"
      },
      {
        "duration": 40,
        "start_time": "2022-07-30T11:44:27.880Z"
      },
      {
        "duration": 5,
        "start_time": "2022-07-30T11:44:27.922Z"
      },
      {
        "duration": 15,
        "start_time": "2022-07-30T11:44:27.928Z"
      },
      {
        "duration": 14,
        "start_time": "2022-07-30T11:44:27.945Z"
      },
      {
        "duration": 10,
        "start_time": "2022-07-30T11:44:27.960Z"
      },
      {
        "duration": 16,
        "start_time": "2022-07-30T11:44:27.972Z"
      },
      {
        "duration": 14,
        "start_time": "2022-07-30T11:44:28.011Z"
      },
      {
        "duration": 8,
        "start_time": "2022-07-30T11:44:28.027Z"
      },
      {
        "duration": 26,
        "start_time": "2022-07-30T11:44:28.037Z"
      },
      {
        "duration": 43,
        "start_time": "2022-07-30T11:44:28.065Z"
      },
      {
        "duration": 7,
        "start_time": "2022-07-30T11:44:28.110Z"
      },
      {
        "duration": 23,
        "start_time": "2022-07-30T11:44:28.119Z"
      },
      {
        "duration": 7,
        "start_time": "2022-07-30T11:44:28.144Z"
      },
      {
        "duration": 393,
        "start_time": "2022-07-30T11:44:28.153Z"
      },
      {
        "duration": 8,
        "start_time": "2022-07-30T11:44:28.548Z"
      },
      {
        "duration": 185,
        "start_time": "2022-07-30T11:44:28.558Z"
      },
      {
        "duration": 171,
        "start_time": "2022-07-30T11:44:28.747Z"
      },
      {
        "duration": 164,
        "start_time": "2022-07-30T11:44:28.919Z"
      },
      {
        "duration": 173,
        "start_time": "2022-07-30T11:44:29.085Z"
      },
      {
        "duration": 191,
        "start_time": "2022-07-30T11:44:29.259Z"
      },
      {
        "duration": 198,
        "start_time": "2022-07-30T11:44:29.452Z"
      },
      {
        "duration": 164,
        "start_time": "2022-07-30T11:44:29.652Z"
      },
      {
        "duration": 332,
        "start_time": "2022-07-30T11:44:29.818Z"
      },
      {
        "duration": 167,
        "start_time": "2022-07-30T11:44:30.152Z"
      },
      {
        "duration": 154,
        "start_time": "2022-07-30T11:44:30.321Z"
      },
      {
        "duration": 33,
        "start_time": "2022-07-30T11:44:30.477Z"
      },
      {
        "duration": 5,
        "start_time": "2022-07-30T11:44:30.512Z"
      },
      {
        "duration": 12,
        "start_time": "2022-07-30T11:44:30.518Z"
      },
      {
        "duration": 141,
        "start_time": "2022-07-30T11:44:30.532Z"
      },
      {
        "duration": 125,
        "start_time": "2022-07-30T11:44:30.675Z"
      },
      {
        "duration": 132,
        "start_time": "2022-07-30T11:44:30.802Z"
      },
      {
        "duration": 5,
        "start_time": "2022-07-30T11:44:30.936Z"
      },
      {
        "duration": 69,
        "start_time": "2022-07-30T11:44:30.942Z"
      },
      {
        "duration": 266,
        "start_time": "2022-07-30T11:44:31.013Z"
      },
      {
        "duration": 281,
        "start_time": "2022-07-30T11:44:31.281Z"
      },
      {
        "duration": 24,
        "start_time": "2022-07-30T11:44:31.564Z"
      },
      {
        "duration": 24,
        "start_time": "2022-07-30T11:44:31.590Z"
      },
      {
        "duration": 2723,
        "start_time": "2022-07-30T11:44:31.616Z"
      },
      {
        "duration": 6,
        "start_time": "2022-07-30T11:44:34.341Z"
      },
      {
        "duration": 276,
        "start_time": "2022-07-30T11:44:34.349Z"
      },
      {
        "duration": 8,
        "start_time": "2022-07-30T11:44:34.627Z"
      },
      {
        "duration": 199,
        "start_time": "2022-07-30T11:44:34.636Z"
      },
      {
        "duration": 189,
        "start_time": "2022-07-30T11:44:34.837Z"
      },
      {
        "duration": 24,
        "start_time": "2022-07-30T11:44:35.027Z"
      },
      {
        "duration": 173,
        "start_time": "2022-07-30T11:44:35.053Z"
      },
      {
        "duration": 8,
        "start_time": "2022-07-30T11:44:35.228Z"
      },
      {
        "duration": 184,
        "start_time": "2022-07-30T11:44:35.237Z"
      },
      {
        "duration": 8,
        "start_time": "2022-07-30T11:44:35.423Z"
      },
      {
        "duration": 179,
        "start_time": "2022-07-30T11:44:35.433Z"
      },
      {
        "duration": 7,
        "start_time": "2022-07-30T11:44:35.614Z"
      },
      {
        "duration": 14,
        "start_time": "2022-07-30T11:44:35.623Z"
      },
      {
        "duration": 35,
        "start_time": "2022-07-30T11:44:35.639Z"
      },
      {
        "duration": 65,
        "start_time": "2022-07-30T11:44:35.676Z"
      },
      {
        "duration": 7,
        "start_time": "2022-07-30T11:54:13.227Z"
      },
      {
        "duration": 7,
        "start_time": "2022-07-30T11:54:46.171Z"
      },
      {
        "duration": 6,
        "start_time": "2022-07-30T11:55:21.267Z"
      },
      {
        "duration": 253,
        "start_time": "2022-07-30T11:55:22.843Z"
      },
      {
        "duration": 1251,
        "start_time": "2022-07-30T12:32:20.094Z"
      },
      {
        "duration": 55,
        "start_time": "2022-07-30T12:32:21.348Z"
      },
      {
        "duration": 19,
        "start_time": "2022-07-30T12:32:21.405Z"
      },
      {
        "duration": 5,
        "start_time": "2022-07-30T12:32:21.426Z"
      },
      {
        "duration": 19,
        "start_time": "2022-07-30T12:32:21.433Z"
      },
      {
        "duration": 17,
        "start_time": "2022-07-30T12:32:21.453Z"
      },
      {
        "duration": 9,
        "start_time": "2022-07-30T12:32:21.472Z"
      },
      {
        "duration": 35,
        "start_time": "2022-07-30T12:32:21.483Z"
      },
      {
        "duration": 17,
        "start_time": "2022-07-30T12:32:21.520Z"
      },
      {
        "duration": 48,
        "start_time": "2022-07-30T12:32:21.540Z"
      },
      {
        "duration": 65,
        "start_time": "2022-07-30T12:32:21.590Z"
      },
      {
        "duration": 24,
        "start_time": "2022-07-30T12:32:21.657Z"
      },
      {
        "duration": 7,
        "start_time": "2022-07-30T12:32:21.683Z"
      },
      {
        "duration": 45,
        "start_time": "2022-07-30T12:32:21.692Z"
      },
      {
        "duration": 26,
        "start_time": "2022-07-30T12:32:21.739Z"
      },
      {
        "duration": 14,
        "start_time": "2022-07-30T12:32:21.767Z"
      },
      {
        "duration": 45,
        "start_time": "2022-07-30T12:32:21.783Z"
      },
      {
        "duration": 43,
        "start_time": "2022-07-30T12:32:21.830Z"
      },
      {
        "duration": 27,
        "start_time": "2022-07-30T12:32:21.875Z"
      },
      {
        "duration": 40,
        "start_time": "2022-07-30T12:32:21.904Z"
      },
      {
        "duration": 39,
        "start_time": "2022-07-30T12:32:21.946Z"
      },
      {
        "duration": 8,
        "start_time": "2022-07-30T12:32:21.987Z"
      },
      {
        "duration": 59,
        "start_time": "2022-07-30T12:32:21.997Z"
      },
      {
        "duration": 29,
        "start_time": "2022-07-30T12:32:22.060Z"
      },
      {
        "duration": 357,
        "start_time": "2022-07-30T12:32:22.092Z"
      },
      {
        "duration": 9,
        "start_time": "2022-07-30T12:32:22.451Z"
      },
      {
        "duration": 185,
        "start_time": "2022-07-30T12:32:22.462Z"
      },
      {
        "duration": 161,
        "start_time": "2022-07-30T12:32:22.652Z"
      },
      {
        "duration": 160,
        "start_time": "2022-07-30T12:32:22.815Z"
      },
      {
        "duration": 187,
        "start_time": "2022-07-30T12:32:22.977Z"
      },
      {
        "duration": 189,
        "start_time": "2022-07-30T12:32:23.166Z"
      },
      {
        "duration": 191,
        "start_time": "2022-07-30T12:32:23.357Z"
      },
      {
        "duration": 165,
        "start_time": "2022-07-30T12:32:23.549Z"
      },
      {
        "duration": 346,
        "start_time": "2022-07-30T12:32:23.715Z"
      },
      {
        "duration": 173,
        "start_time": "2022-07-30T12:32:24.063Z"
      },
      {
        "duration": 157,
        "start_time": "2022-07-30T12:32:24.238Z"
      },
      {
        "duration": 35,
        "start_time": "2022-07-30T12:32:24.397Z"
      },
      {
        "duration": 9,
        "start_time": "2022-07-30T12:32:24.435Z"
      },
      {
        "duration": 16,
        "start_time": "2022-07-30T12:32:24.446Z"
      },
      {
        "duration": 141,
        "start_time": "2022-07-30T12:32:24.464Z"
      },
      {
        "duration": 128,
        "start_time": "2022-07-30T12:32:24.610Z"
      },
      {
        "duration": 129,
        "start_time": "2022-07-30T12:32:24.740Z"
      },
      {
        "duration": 5,
        "start_time": "2022-07-30T12:32:24.871Z"
      },
      {
        "duration": 32,
        "start_time": "2022-07-30T12:32:24.878Z"
      },
      {
        "duration": 224,
        "start_time": "2022-07-30T12:32:24.912Z"
      },
      {
        "duration": 322,
        "start_time": "2022-07-30T12:32:25.138Z"
      },
      {
        "duration": 26,
        "start_time": "2022-07-30T12:32:25.462Z"
      },
      {
        "duration": 25,
        "start_time": "2022-07-30T12:32:25.489Z"
      },
      {
        "duration": 2479,
        "start_time": "2022-07-30T12:32:25.516Z"
      },
      {
        "duration": 15,
        "start_time": "2022-07-30T12:32:27.997Z"
      },
      {
        "duration": 259,
        "start_time": "2022-07-30T12:32:28.014Z"
      },
      {
        "duration": 8,
        "start_time": "2022-07-30T12:32:28.275Z"
      },
      {
        "duration": 209,
        "start_time": "2022-07-30T12:32:28.285Z"
      },
      {
        "duration": 29,
        "start_time": "2022-07-30T12:32:28.495Z"
      },
      {
        "duration": 11,
        "start_time": "2022-07-30T12:32:28.526Z"
      },
      {
        "duration": 13,
        "start_time": "2022-07-30T12:32:28.539Z"
      },
      {
        "duration": 156,
        "start_time": "2022-07-30T12:32:28.554Z"
      },
      {
        "duration": 8,
        "start_time": "2022-07-30T12:32:28.712Z"
      },
      {
        "duration": 173,
        "start_time": "2022-07-30T12:32:28.723Z"
      },
      {
        "duration": 13,
        "start_time": "2022-07-30T12:32:28.898Z"
      },
      {
        "duration": 166,
        "start_time": "2022-07-30T12:32:28.913Z"
      },
      {
        "duration": 8,
        "start_time": "2022-07-30T12:32:29.081Z"
      },
      {
        "duration": 51,
        "start_time": "2022-07-30T12:32:29.091Z"
      },
      {
        "duration": 52,
        "start_time": "2022-07-30T12:32:29.144Z"
      },
      {
        "duration": 36,
        "start_time": "2022-07-30T12:32:29.199Z"
      },
      {
        "duration": 17,
        "start_time": "2022-07-30T12:36:37.173Z"
      },
      {
        "duration": 17,
        "start_time": "2022-07-30T12:37:00.598Z"
      },
      {
        "duration": 233,
        "start_time": "2022-07-30T12:37:15.726Z"
      },
      {
        "duration": 153,
        "start_time": "2022-07-30T12:38:03.112Z"
      },
      {
        "duration": 139,
        "start_time": "2022-07-30T12:38:37.794Z"
      },
      {
        "duration": 233,
        "start_time": "2022-07-30T12:38:58.824Z"
      },
      {
        "duration": 142,
        "start_time": "2022-07-30T12:40:54.210Z"
      },
      {
        "duration": 1192,
        "start_time": "2022-07-30T12:46:34.887Z"
      },
      {
        "duration": 1206,
        "start_time": "2022-07-30T12:47:20.270Z"
      },
      {
        "duration": 54,
        "start_time": "2022-07-30T12:47:21.478Z"
      },
      {
        "duration": 20,
        "start_time": "2022-07-30T12:47:21.534Z"
      },
      {
        "duration": 5,
        "start_time": "2022-07-30T12:47:21.557Z"
      },
      {
        "duration": 21,
        "start_time": "2022-07-30T12:47:21.563Z"
      },
      {
        "duration": 34,
        "start_time": "2022-07-30T12:47:21.587Z"
      },
      {
        "duration": 10,
        "start_time": "2022-07-30T12:47:21.623Z"
      },
      {
        "duration": 16,
        "start_time": "2022-07-30T12:47:21.634Z"
      },
      {
        "duration": 5,
        "start_time": "2022-07-30T12:47:21.652Z"
      },
      {
        "duration": 5,
        "start_time": "2022-07-30T12:47:21.661Z"
      },
      {
        "duration": 46,
        "start_time": "2022-07-30T12:47:21.668Z"
      },
      {
        "duration": 14,
        "start_time": "2022-07-30T12:47:21.715Z"
      },
      {
        "duration": 6,
        "start_time": "2022-07-30T12:47:21.731Z"
      },
      {
        "duration": 11,
        "start_time": "2022-07-30T12:47:21.738Z"
      },
      {
        "duration": 15,
        "start_time": "2022-07-30T12:47:21.751Z"
      },
      {
        "duration": 15,
        "start_time": "2022-07-30T12:47:21.768Z"
      },
      {
        "duration": 33,
        "start_time": "2022-07-30T12:47:21.785Z"
      },
      {
        "duration": 16,
        "start_time": "2022-07-30T12:47:21.820Z"
      },
      {
        "duration": 13,
        "start_time": "2022-07-30T12:47:21.839Z"
      },
      {
        "duration": 69,
        "start_time": "2022-07-30T12:47:21.861Z"
      },
      {
        "duration": 34,
        "start_time": "2022-07-30T12:47:21.932Z"
      },
      {
        "duration": 15,
        "start_time": "2022-07-30T12:47:21.969Z"
      },
      {
        "duration": 41,
        "start_time": "2022-07-30T12:47:21.986Z"
      },
      {
        "duration": 16,
        "start_time": "2022-07-30T12:47:22.030Z"
      },
      {
        "duration": 368,
        "start_time": "2022-07-30T12:47:22.048Z"
      },
      {
        "duration": 9,
        "start_time": "2022-07-30T12:47:22.419Z"
      },
      {
        "duration": 170,
        "start_time": "2022-07-30T12:47:22.430Z"
      },
      {
        "duration": 167,
        "start_time": "2022-07-30T12:47:22.609Z"
      },
      {
        "duration": 164,
        "start_time": "2022-07-30T12:47:22.778Z"
      },
      {
        "duration": 171,
        "start_time": "2022-07-30T12:47:22.944Z"
      },
      {
        "duration": 184,
        "start_time": "2022-07-30T12:47:23.117Z"
      },
      {
        "duration": 178,
        "start_time": "2022-07-30T12:47:23.303Z"
      },
      {
        "duration": 160,
        "start_time": "2022-07-30T12:47:23.483Z"
      },
      {
        "duration": 336,
        "start_time": "2022-07-30T12:47:23.645Z"
      },
      {
        "duration": 165,
        "start_time": "2022-07-30T12:47:23.984Z"
      },
      {
        "duration": 142,
        "start_time": "2022-07-30T12:47:24.151Z"
      },
      {
        "duration": 30,
        "start_time": "2022-07-30T12:47:24.295Z"
      },
      {
        "duration": 6,
        "start_time": "2022-07-30T12:47:24.328Z"
      },
      {
        "duration": 7,
        "start_time": "2022-07-30T12:47:24.336Z"
      },
      {
        "duration": 146,
        "start_time": "2022-07-30T12:47:24.345Z"
      },
      {
        "duration": 134,
        "start_time": "2022-07-30T12:47:24.493Z"
      },
      {
        "duration": 129,
        "start_time": "2022-07-30T12:47:24.629Z"
      },
      {
        "duration": 6,
        "start_time": "2022-07-30T12:47:24.759Z"
      },
      {
        "duration": 21,
        "start_time": "2022-07-30T12:47:24.766Z"
      },
      {
        "duration": 253,
        "start_time": "2022-07-30T12:47:24.789Z"
      },
      {
        "duration": 303,
        "start_time": "2022-07-30T12:47:25.044Z"
      },
      {
        "duration": 24,
        "start_time": "2022-07-30T12:47:25.350Z"
      },
      {
        "duration": 10,
        "start_time": "2022-07-30T12:47:25.376Z"
      },
      {
        "duration": 2426,
        "start_time": "2022-07-30T12:47:25.388Z"
      },
      {
        "duration": 5,
        "start_time": "2022-07-30T12:47:27.816Z"
      },
      {
        "duration": 271,
        "start_time": "2022-07-30T12:47:27.823Z"
      },
      {
        "duration": 15,
        "start_time": "2022-07-30T12:47:28.096Z"
      },
      {
        "duration": 187,
        "start_time": "2022-07-30T12:47:28.113Z"
      },
      {
        "duration": 34,
        "start_time": "2022-07-30T12:47:28.302Z"
      },
      {
        "duration": 16,
        "start_time": "2022-07-30T12:47:28.338Z"
      },
      {
        "duration": 19,
        "start_time": "2022-07-30T12:47:28.356Z"
      },
      {
        "duration": 159,
        "start_time": "2022-07-30T12:47:28.377Z"
      },
      {
        "duration": 9,
        "start_time": "2022-07-30T12:47:28.537Z"
      },
      {
        "duration": 177,
        "start_time": "2022-07-30T12:47:28.547Z"
      },
      {
        "duration": 8,
        "start_time": "2022-07-30T12:47:28.726Z"
      },
      {
        "duration": 177,
        "start_time": "2022-07-30T12:47:28.735Z"
      },
      {
        "duration": 9,
        "start_time": "2022-07-30T12:47:28.915Z"
      },
      {
        "duration": 15,
        "start_time": "2022-07-30T12:47:28.926Z"
      },
      {
        "duration": 68,
        "start_time": "2022-07-30T12:47:28.942Z"
      },
      {
        "duration": 36,
        "start_time": "2022-07-30T12:47:29.012Z"
      },
      {
        "duration": 497,
        "start_time": "2022-07-30T13:48:33.414Z"
      },
      {
        "duration": 172,
        "start_time": "2022-07-30T14:02:33.047Z"
      },
      {
        "duration": 76,
        "start_time": "2022-07-30T14:09:33.485Z"
      },
      {
        "duration": 74,
        "start_time": "2022-07-30T14:09:49.939Z"
      },
      {
        "duration": 73,
        "start_time": "2022-07-30T14:10:08.274Z"
      },
      {
        "duration": 74,
        "start_time": "2022-07-30T14:11:28.577Z"
      },
      {
        "duration": 105,
        "start_time": "2022-07-30T14:11:33.834Z"
      },
      {
        "duration": 4,
        "start_time": "2022-07-30T14:11:37.697Z"
      },
      {
        "duration": 5,
        "start_time": "2022-07-30T14:12:26.288Z"
      },
      {
        "duration": 1240,
        "start_time": "2022-07-30T14:12:42.752Z"
      },
      {
        "duration": 58,
        "start_time": "2022-07-30T14:12:43.994Z"
      },
      {
        "duration": 22,
        "start_time": "2022-07-30T14:12:44.054Z"
      },
      {
        "duration": 6,
        "start_time": "2022-07-30T14:12:44.078Z"
      },
      {
        "duration": 31,
        "start_time": "2022-07-30T14:12:44.086Z"
      },
      {
        "duration": 27,
        "start_time": "2022-07-30T14:12:44.119Z"
      },
      {
        "duration": 14,
        "start_time": "2022-07-30T14:12:44.147Z"
      },
      {
        "duration": 27,
        "start_time": "2022-07-30T14:12:44.163Z"
      },
      {
        "duration": 6,
        "start_time": "2022-07-30T14:12:44.192Z"
      },
      {
        "duration": 6,
        "start_time": "2022-07-30T14:12:44.212Z"
      },
      {
        "duration": 17,
        "start_time": "2022-07-30T14:12:44.220Z"
      },
      {
        "duration": 18,
        "start_time": "2022-07-30T14:12:44.239Z"
      },
      {
        "duration": 5,
        "start_time": "2022-07-30T14:12:44.259Z"
      },
      {
        "duration": 13,
        "start_time": "2022-07-30T14:12:44.266Z"
      },
      {
        "duration": 38,
        "start_time": "2022-07-30T14:12:44.281Z"
      },
      {
        "duration": 6,
        "start_time": "2022-07-30T14:12:44.320Z"
      },
      {
        "duration": 23,
        "start_time": "2022-07-30T14:12:44.327Z"
      },
      {
        "duration": 15,
        "start_time": "2022-07-30T14:12:44.351Z"
      },
      {
        "duration": 14,
        "start_time": "2022-07-30T14:12:44.368Z"
      },
      {
        "duration": 38,
        "start_time": "2022-07-30T14:12:44.384Z"
      },
      {
        "duration": 36,
        "start_time": "2022-07-30T14:12:44.424Z"
      },
      {
        "duration": 6,
        "start_time": "2022-07-30T14:12:44.462Z"
      },
      {
        "duration": 25,
        "start_time": "2022-07-30T14:12:44.469Z"
      },
      {
        "duration": 20,
        "start_time": "2022-07-30T14:12:44.496Z"
      },
      {
        "duration": 410,
        "start_time": "2022-07-30T14:12:44.518Z"
      },
      {
        "duration": 9,
        "start_time": "2022-07-30T14:12:44.930Z"
      },
      {
        "duration": 174,
        "start_time": "2022-07-30T14:12:44.942Z"
      },
      {
        "duration": 192,
        "start_time": "2022-07-30T14:12:45.122Z"
      },
      {
        "duration": 174,
        "start_time": "2022-07-30T14:12:45.317Z"
      },
      {
        "duration": 179,
        "start_time": "2022-07-30T14:12:45.493Z"
      },
      {
        "duration": 178,
        "start_time": "2022-07-30T14:12:45.674Z"
      },
      {
        "duration": 175,
        "start_time": "2022-07-30T14:12:45.854Z"
      },
      {
        "duration": 153,
        "start_time": "2022-07-30T14:12:46.031Z"
      },
      {
        "duration": 339,
        "start_time": "2022-07-30T14:12:46.186Z"
      },
      {
        "duration": 169,
        "start_time": "2022-07-30T14:12:46.527Z"
      },
      {
        "duration": 152,
        "start_time": "2022-07-30T14:12:46.698Z"
      },
      {
        "duration": 28,
        "start_time": "2022-07-30T14:12:46.852Z"
      },
      {
        "duration": 5,
        "start_time": "2022-07-30T14:12:46.882Z"
      },
      {
        "duration": 8,
        "start_time": "2022-07-30T14:12:46.910Z"
      },
      {
        "duration": 147,
        "start_time": "2022-07-30T14:12:46.921Z"
      },
      {
        "duration": 122,
        "start_time": "2022-07-30T14:12:47.069Z"
      },
      {
        "duration": 135,
        "start_time": "2022-07-30T14:12:47.193Z"
      },
      {
        "duration": 4,
        "start_time": "2022-07-30T14:12:47.331Z"
      },
      {
        "duration": 23,
        "start_time": "2022-07-30T14:12:47.337Z"
      },
      {
        "duration": 222,
        "start_time": "2022-07-30T14:12:47.362Z"
      },
      {
        "duration": 301,
        "start_time": "2022-07-30T14:12:47.586Z"
      },
      {
        "duration": 32,
        "start_time": "2022-07-30T14:12:47.889Z"
      },
      {
        "duration": 8,
        "start_time": "2022-07-30T14:12:47.922Z"
      },
      {
        "duration": 2423,
        "start_time": "2022-07-30T14:12:47.931Z"
      },
      {
        "duration": 7,
        "start_time": "2022-07-30T14:12:50.356Z"
      },
      {
        "duration": 274,
        "start_time": "2022-07-30T14:12:50.365Z"
      },
      {
        "duration": 9,
        "start_time": "2022-07-30T14:12:50.641Z"
      },
      {
        "duration": 191,
        "start_time": "2022-07-30T14:12:50.651Z"
      },
      {
        "duration": 180,
        "start_time": "2022-07-30T14:12:50.844Z"
      },
      {
        "duration": 23,
        "start_time": "2022-07-30T14:12:51.026Z"
      },
      {
        "duration": 16,
        "start_time": "2022-07-30T14:12:51.051Z"
      },
      {
        "duration": 42,
        "start_time": "2022-07-30T14:12:51.069Z"
      },
      {
        "duration": 141,
        "start_time": "2022-07-30T14:12:51.114Z"
      },
      {
        "duration": 8,
        "start_time": "2022-07-30T14:12:51.257Z"
      },
      {
        "duration": 178,
        "start_time": "2022-07-30T14:12:51.268Z"
      },
      {
        "duration": 10,
        "start_time": "2022-07-30T14:12:51.448Z"
      },
      {
        "duration": 183,
        "start_time": "2022-07-30T14:12:51.460Z"
      },
      {
        "duration": 8,
        "start_time": "2022-07-30T14:12:51.646Z"
      },
      {
        "duration": 33,
        "start_time": "2022-07-30T14:12:51.656Z"
      },
      {
        "duration": 18,
        "start_time": "2022-07-30T14:12:51.690Z"
      },
      {
        "duration": 9,
        "start_time": "2022-07-30T14:12:51.710Z"
      },
      {
        "duration": 40,
        "start_time": "2022-07-30T14:12:51.721Z"
      },
      {
        "duration": 61,
        "start_time": "2022-07-30T14:12:51.763Z"
      },
      {
        "duration": 17,
        "start_time": "2022-07-30T14:13:33.790Z"
      },
      {
        "duration": 8,
        "start_time": "2022-07-30T14:22:47.257Z"
      },
      {
        "duration": 8,
        "start_time": "2022-07-30T14:23:15.641Z"
      },
      {
        "duration": 6,
        "start_time": "2022-07-30T14:23:49.297Z"
      },
      {
        "duration": 5,
        "start_time": "2022-07-30T14:23:54.457Z"
      },
      {
        "duration": 26,
        "start_time": "2022-07-30T14:26:16.193Z"
      },
      {
        "duration": 5,
        "start_time": "2022-07-30T14:26:57.375Z"
      },
      {
        "duration": 77,
        "start_time": "2022-07-30T14:27:12.551Z"
      },
      {
        "duration": 6,
        "start_time": "2022-07-30T14:27:15.591Z"
      },
      {
        "duration": 5,
        "start_time": "2022-07-30T14:27:17.231Z"
      },
      {
        "duration": 25,
        "start_time": "2022-07-30T14:27:35.598Z"
      },
      {
        "duration": 76,
        "start_time": "2022-07-30T14:29:58.975Z"
      },
      {
        "duration": 75,
        "start_time": "2022-07-30T14:30:06.789Z"
      },
      {
        "duration": 38,
        "start_time": "2022-07-30T14:30:35.357Z"
      },
      {
        "duration": 35,
        "start_time": "2022-07-30T14:30:48.733Z"
      },
      {
        "duration": 1252,
        "start_time": "2022-07-30T14:31:05.326Z"
      },
      {
        "duration": 54,
        "start_time": "2022-07-30T14:31:06.580Z"
      },
      {
        "duration": 19,
        "start_time": "2022-07-30T14:31:06.635Z"
      },
      {
        "duration": 23,
        "start_time": "2022-07-30T14:31:06.656Z"
      },
      {
        "duration": 20,
        "start_time": "2022-07-30T14:31:06.681Z"
      },
      {
        "duration": 26,
        "start_time": "2022-07-30T14:31:06.703Z"
      },
      {
        "duration": 7,
        "start_time": "2022-07-30T14:31:06.731Z"
      },
      {
        "duration": 20,
        "start_time": "2022-07-30T14:31:06.740Z"
      },
      {
        "duration": 8,
        "start_time": "2022-07-30T14:31:06.762Z"
      },
      {
        "duration": 7,
        "start_time": "2022-07-30T14:31:06.772Z"
      },
      {
        "duration": 11,
        "start_time": "2022-07-30T14:31:06.781Z"
      },
      {
        "duration": 27,
        "start_time": "2022-07-30T14:31:06.794Z"
      },
      {
        "duration": 5,
        "start_time": "2022-07-30T14:31:06.823Z"
      },
      {
        "duration": 10,
        "start_time": "2022-07-30T14:31:06.830Z"
      },
      {
        "duration": 14,
        "start_time": "2022-07-30T14:31:06.841Z"
      },
      {
        "duration": 6,
        "start_time": "2022-07-30T14:31:06.857Z"
      },
      {
        "duration": 46,
        "start_time": "2022-07-30T14:31:06.865Z"
      },
      {
        "duration": 15,
        "start_time": "2022-07-30T14:31:06.913Z"
      },
      {
        "duration": 8,
        "start_time": "2022-07-30T14:31:06.930Z"
      },
      {
        "duration": 10,
        "start_time": "2022-07-30T14:31:06.940Z"
      },
      {
        "duration": 29,
        "start_time": "2022-07-30T14:31:06.951Z"
      },
      {
        "duration": 6,
        "start_time": "2022-07-30T14:31:07.010Z"
      },
      {
        "duration": 24,
        "start_time": "2022-07-30T14:31:07.018Z"
      },
      {
        "duration": 10,
        "start_time": "2022-07-30T14:31:07.044Z"
      },
      {
        "duration": 418,
        "start_time": "2022-07-30T14:31:07.056Z"
      },
      {
        "duration": 9,
        "start_time": "2022-07-30T14:31:07.477Z"
      },
      {
        "duration": 185,
        "start_time": "2022-07-30T14:31:07.487Z"
      },
      {
        "duration": 177,
        "start_time": "2022-07-30T14:31:07.677Z"
      },
      {
        "duration": 160,
        "start_time": "2022-07-30T14:31:07.855Z"
      },
      {
        "duration": 171,
        "start_time": "2022-07-30T14:31:08.016Z"
      },
      {
        "duration": 184,
        "start_time": "2022-07-30T14:31:08.189Z"
      },
      {
        "duration": 187,
        "start_time": "2022-07-30T14:31:08.375Z"
      },
      {
        "duration": 173,
        "start_time": "2022-07-30T14:31:08.563Z"
      },
      {
        "duration": 355,
        "start_time": "2022-07-30T14:31:08.738Z"
      },
      {
        "duration": 158,
        "start_time": "2022-07-30T14:31:09.095Z"
      },
      {
        "duration": 142,
        "start_time": "2022-07-30T14:31:09.255Z"
      },
      {
        "duration": 32,
        "start_time": "2022-07-30T14:31:09.399Z"
      },
      {
        "duration": 7,
        "start_time": "2022-07-30T14:31:09.433Z"
      },
      {
        "duration": 15,
        "start_time": "2022-07-30T14:31:09.442Z"
      },
      {
        "duration": 137,
        "start_time": "2022-07-30T14:31:09.459Z"
      },
      {
        "duration": 133,
        "start_time": "2022-07-30T14:31:09.598Z"
      },
      {
        "duration": 134,
        "start_time": "2022-07-30T14:31:09.732Z"
      },
      {
        "duration": 4,
        "start_time": "2022-07-30T14:31:09.868Z"
      },
      {
        "duration": 14,
        "start_time": "2022-07-30T14:31:09.874Z"
      },
      {
        "duration": 234,
        "start_time": "2022-07-30T14:31:09.889Z"
      },
      {
        "duration": 302,
        "start_time": "2022-07-30T14:31:10.125Z"
      },
      {
        "duration": 25,
        "start_time": "2022-07-30T14:31:10.429Z"
      },
      {
        "duration": 24,
        "start_time": "2022-07-30T14:31:10.455Z"
      },
      {
        "duration": 2513,
        "start_time": "2022-07-30T14:31:10.481Z"
      },
      {
        "duration": 5,
        "start_time": "2022-07-30T14:31:12.996Z"
      },
      {
        "duration": 250,
        "start_time": "2022-07-30T14:31:13.010Z"
      },
      {
        "duration": 8,
        "start_time": "2022-07-30T14:31:13.261Z"
      },
      {
        "duration": 189,
        "start_time": "2022-07-30T14:31:13.270Z"
      },
      {
        "duration": 181,
        "start_time": "2022-07-30T14:31:13.461Z"
      },
      {
        "duration": 23,
        "start_time": "2022-07-30T14:31:13.644Z"
      },
      {
        "duration": 18,
        "start_time": "2022-07-30T14:31:13.669Z"
      },
      {
        "duration": 57,
        "start_time": "2022-07-30T14:31:13.689Z"
      },
      {
        "duration": 168,
        "start_time": "2022-07-30T14:31:13.747Z"
      },
      {
        "duration": 8,
        "start_time": "2022-07-30T14:31:13.917Z"
      },
      {
        "duration": 171,
        "start_time": "2022-07-30T14:31:13.926Z"
      },
      {
        "duration": 15,
        "start_time": "2022-07-30T14:31:14.098Z"
      },
      {
        "duration": 166,
        "start_time": "2022-07-30T14:31:14.115Z"
      },
      {
        "duration": 7,
        "start_time": "2022-07-30T14:31:14.283Z"
      },
      {
        "duration": 22,
        "start_time": "2022-07-30T14:31:14.292Z"
      },
      {
        "duration": 13,
        "start_time": "2022-07-30T14:31:14.315Z"
      },
      {
        "duration": 7,
        "start_time": "2022-07-30T14:31:14.330Z"
      },
      {
        "duration": 17,
        "start_time": "2022-07-30T14:31:14.339Z"
      },
      {
        "duration": 68,
        "start_time": "2022-07-30T14:31:14.358Z"
      },
      {
        "duration": 5,
        "start_time": "2022-07-30T14:31:14.428Z"
      },
      {
        "duration": 13,
        "start_time": "2022-07-30T14:31:14.435Z"
      },
      {
        "duration": 32,
        "start_time": "2022-07-30T14:31:14.450Z"
      },
      {
        "duration": 58,
        "start_time": "2022-07-30T14:31:14.484Z"
      },
      {
        "duration": 36,
        "start_time": "2022-07-30T14:31:14.545Z"
      },
      {
        "duration": 13,
        "start_time": "2022-07-30T14:32:37.163Z"
      },
      {
        "duration": 13,
        "start_time": "2022-07-30T14:33:00.547Z"
      },
      {
        "duration": 1309,
        "start_time": "2022-07-30T14:33:32.685Z"
      },
      {
        "duration": 54,
        "start_time": "2022-07-30T14:33:33.996Z"
      },
      {
        "duration": 19,
        "start_time": "2022-07-30T14:33:34.052Z"
      },
      {
        "duration": 23,
        "start_time": "2022-07-30T14:33:34.073Z"
      },
      {
        "duration": 39,
        "start_time": "2022-07-30T14:33:34.097Z"
      },
      {
        "duration": 41,
        "start_time": "2022-07-30T14:33:34.137Z"
      },
      {
        "duration": 11,
        "start_time": "2022-07-30T14:33:34.180Z"
      },
      {
        "duration": 34,
        "start_time": "2022-07-30T14:33:34.193Z"
      },
      {
        "duration": 9,
        "start_time": "2022-07-30T14:33:34.229Z"
      },
      {
        "duration": 28,
        "start_time": "2022-07-30T14:33:34.241Z"
      },
      {
        "duration": 19,
        "start_time": "2022-07-30T14:33:34.271Z"
      },
      {
        "duration": 20,
        "start_time": "2022-07-30T14:33:34.292Z"
      },
      {
        "duration": 6,
        "start_time": "2022-07-30T14:33:34.313Z"
      },
      {
        "duration": 7,
        "start_time": "2022-07-30T14:33:34.321Z"
      },
      {
        "duration": 13,
        "start_time": "2022-07-30T14:33:34.330Z"
      },
      {
        "duration": 7,
        "start_time": "2022-07-30T14:33:34.345Z"
      },
      {
        "duration": 16,
        "start_time": "2022-07-30T14:33:34.354Z"
      },
      {
        "duration": 48,
        "start_time": "2022-07-30T14:33:34.372Z"
      },
      {
        "duration": 10,
        "start_time": "2022-07-30T14:33:34.422Z"
      },
      {
        "duration": 18,
        "start_time": "2022-07-30T14:33:34.434Z"
      },
      {
        "duration": 32,
        "start_time": "2022-07-30T14:33:34.454Z"
      },
      {
        "duration": 24,
        "start_time": "2022-07-30T14:33:34.487Z"
      },
      {
        "duration": 26,
        "start_time": "2022-07-30T14:33:34.513Z"
      },
      {
        "duration": 7,
        "start_time": "2022-07-30T14:33:34.541Z"
      },
      {
        "duration": 462,
        "start_time": "2022-07-30T14:33:34.550Z"
      },
      {
        "duration": 8,
        "start_time": "2022-07-30T14:33:35.014Z"
      },
      {
        "duration": 184,
        "start_time": "2022-07-30T14:33:35.024Z"
      },
      {
        "duration": 183,
        "start_time": "2022-07-30T14:33:35.213Z"
      },
      {
        "duration": 181,
        "start_time": "2022-07-30T14:33:35.398Z"
      },
      {
        "duration": 192,
        "start_time": "2022-07-30T14:33:35.580Z"
      },
      {
        "duration": 180,
        "start_time": "2022-07-30T14:33:35.774Z"
      },
      {
        "duration": 183,
        "start_time": "2022-07-30T14:33:35.956Z"
      },
      {
        "duration": 162,
        "start_time": "2022-07-30T14:33:36.141Z"
      },
      {
        "duration": 343,
        "start_time": "2022-07-30T14:33:36.309Z"
      },
      {
        "duration": 162,
        "start_time": "2022-07-30T14:33:36.654Z"
      },
      {
        "duration": 141,
        "start_time": "2022-07-30T14:33:36.818Z"
      },
      {
        "duration": 25,
        "start_time": "2022-07-30T14:33:36.961Z"
      },
      {
        "duration": 24,
        "start_time": "2022-07-30T14:33:36.988Z"
      },
      {
        "duration": 7,
        "start_time": "2022-07-30T14:33:37.014Z"
      },
      {
        "duration": 133,
        "start_time": "2022-07-30T14:33:37.023Z"
      },
      {
        "duration": 127,
        "start_time": "2022-07-30T14:33:37.158Z"
      },
      {
        "duration": 133,
        "start_time": "2022-07-30T14:33:37.287Z"
      },
      {
        "duration": 4,
        "start_time": "2022-07-30T14:33:37.422Z"
      },
      {
        "duration": 15,
        "start_time": "2022-07-30T14:33:37.428Z"
      },
      {
        "duration": 231,
        "start_time": "2022-07-30T14:33:37.445Z"
      },
      {
        "duration": 300,
        "start_time": "2022-07-30T14:33:37.678Z"
      },
      {
        "duration": 31,
        "start_time": "2022-07-30T14:33:37.980Z"
      },
      {
        "duration": 10,
        "start_time": "2022-07-30T14:33:38.013Z"
      },
      {
        "duration": 2501,
        "start_time": "2022-07-30T14:33:38.026Z"
      },
      {
        "duration": 6,
        "start_time": "2022-07-30T14:33:40.529Z"
      },
      {
        "duration": 284,
        "start_time": "2022-07-30T14:33:40.536Z"
      },
      {
        "duration": 7,
        "start_time": "2022-07-30T14:33:40.822Z"
      },
      {
        "duration": 213,
        "start_time": "2022-07-30T14:33:40.831Z"
      },
      {
        "duration": 205,
        "start_time": "2022-07-30T14:33:41.046Z"
      },
      {
        "duration": 25,
        "start_time": "2022-07-30T14:33:41.253Z"
      },
      {
        "duration": 16,
        "start_time": "2022-07-30T14:33:41.279Z"
      },
      {
        "duration": 16,
        "start_time": "2022-07-30T14:33:41.311Z"
      },
      {
        "duration": 149,
        "start_time": "2022-07-30T14:33:41.329Z"
      },
      {
        "duration": 9,
        "start_time": "2022-07-30T14:33:41.480Z"
      },
      {
        "duration": 187,
        "start_time": "2022-07-30T14:33:41.491Z"
      },
      {
        "duration": 8,
        "start_time": "2022-07-30T14:33:41.679Z"
      },
      {
        "duration": 195,
        "start_time": "2022-07-30T14:33:41.689Z"
      },
      {
        "duration": 9,
        "start_time": "2022-07-30T14:33:41.886Z"
      },
      {
        "duration": 20,
        "start_time": "2022-07-30T14:33:41.909Z"
      },
      {
        "duration": 8,
        "start_time": "2022-07-30T14:33:41.931Z"
      },
      {
        "duration": 19,
        "start_time": "2022-07-30T14:33:41.941Z"
      },
      {
        "duration": 23,
        "start_time": "2022-07-30T14:33:41.962Z"
      },
      {
        "duration": 69,
        "start_time": "2022-07-30T14:33:41.987Z"
      },
      {
        "duration": 5,
        "start_time": "2022-07-30T14:33:42.058Z"
      },
      {
        "duration": 29,
        "start_time": "2022-07-30T14:33:42.066Z"
      },
      {
        "duration": 5,
        "start_time": "2022-07-30T14:33:42.111Z"
      },
      {
        "duration": 11,
        "start_time": "2022-07-30T14:33:42.118Z"
      },
      {
        "duration": 13,
        "start_time": "2022-07-30T14:33:42.131Z"
      },
      {
        "duration": 64,
        "start_time": "2022-07-30T14:33:42.146Z"
      },
      {
        "duration": 35,
        "start_time": "2022-07-30T14:33:42.212Z"
      },
      {
        "duration": 8,
        "start_time": "2022-07-30T14:54:52.838Z"
      },
      {
        "duration": 7,
        "start_time": "2022-07-30T14:57:07.628Z"
      },
      {
        "duration": 1316,
        "start_time": "2022-07-30T15:11:11.127Z"
      },
      {
        "duration": 54,
        "start_time": "2022-07-30T15:11:12.446Z"
      },
      {
        "duration": 20,
        "start_time": "2022-07-30T15:11:12.502Z"
      },
      {
        "duration": 16,
        "start_time": "2022-07-30T15:11:12.525Z"
      },
      {
        "duration": 22,
        "start_time": "2022-07-30T15:11:12.543Z"
      },
      {
        "duration": 28,
        "start_time": "2022-07-30T15:11:12.567Z"
      },
      {
        "duration": 8,
        "start_time": "2022-07-30T15:11:12.597Z"
      },
      {
        "duration": 33,
        "start_time": "2022-07-30T15:11:12.607Z"
      },
      {
        "duration": 6,
        "start_time": "2022-07-30T15:11:12.642Z"
      },
      {
        "duration": 8,
        "start_time": "2022-07-30T15:11:12.651Z"
      },
      {
        "duration": 16,
        "start_time": "2022-07-30T15:11:12.660Z"
      },
      {
        "duration": 15,
        "start_time": "2022-07-30T15:11:12.678Z"
      },
      {
        "duration": 5,
        "start_time": "2022-07-30T15:11:12.695Z"
      },
      {
        "duration": 11,
        "start_time": "2022-07-30T15:11:12.702Z"
      },
      {
        "duration": 14,
        "start_time": "2022-07-30T15:11:12.714Z"
      },
      {
        "duration": 9,
        "start_time": "2022-07-30T15:11:12.729Z"
      },
      {
        "duration": 17,
        "start_time": "2022-07-30T15:11:12.740Z"
      },
      {
        "duration": 15,
        "start_time": "2022-07-30T15:11:12.758Z"
      },
      {
        "duration": 38,
        "start_time": "2022-07-30T15:11:12.774Z"
      },
      {
        "duration": 11,
        "start_time": "2022-07-30T15:11:12.814Z"
      },
      {
        "duration": 30,
        "start_time": "2022-07-30T15:11:12.827Z"
      },
      {
        "duration": 7,
        "start_time": "2022-07-30T15:11:12.859Z"
      },
      {
        "duration": 57,
        "start_time": "2022-07-30T15:11:12.868Z"
      },
      {
        "duration": 9,
        "start_time": "2022-07-30T15:11:12.927Z"
      },
      {
        "duration": 421,
        "start_time": "2022-07-30T15:11:12.938Z"
      },
      {
        "duration": 9,
        "start_time": "2022-07-30T15:11:13.362Z"
      },
      {
        "duration": 185,
        "start_time": "2022-07-30T15:11:13.373Z"
      },
      {
        "duration": 174,
        "start_time": "2022-07-30T15:11:13.562Z"
      },
      {
        "duration": 184,
        "start_time": "2022-07-30T15:11:13.738Z"
      },
      {
        "duration": 170,
        "start_time": "2022-07-30T15:11:13.923Z"
      },
      {
        "duration": 196,
        "start_time": "2022-07-30T15:11:14.095Z"
      },
      {
        "duration": 184,
        "start_time": "2022-07-30T15:11:14.293Z"
      },
      {
        "duration": 163,
        "start_time": "2022-07-30T15:11:14.479Z"
      },
      {
        "duration": 342,
        "start_time": "2022-07-30T15:11:14.644Z"
      },
      {
        "duration": 163,
        "start_time": "2022-07-30T15:11:14.988Z"
      },
      {
        "duration": 150,
        "start_time": "2022-07-30T15:11:15.153Z"
      },
      {
        "duration": 28,
        "start_time": "2022-07-30T15:11:15.309Z"
      },
      {
        "duration": 18,
        "start_time": "2022-07-30T15:11:15.339Z"
      },
      {
        "duration": 17,
        "start_time": "2022-07-30T15:11:15.359Z"
      },
      {
        "duration": 135,
        "start_time": "2022-07-30T15:11:15.379Z"
      },
      {
        "duration": 134,
        "start_time": "2022-07-30T15:11:15.515Z"
      },
      {
        "duration": 132,
        "start_time": "2022-07-30T15:11:15.652Z"
      },
      {
        "duration": 5,
        "start_time": "2022-07-30T15:11:15.786Z"
      },
      {
        "duration": 27,
        "start_time": "2022-07-30T15:11:15.793Z"
      },
      {
        "duration": 226,
        "start_time": "2022-07-30T15:11:15.822Z"
      },
      {
        "duration": 284,
        "start_time": "2022-07-30T15:11:16.050Z"
      },
      {
        "duration": 24,
        "start_time": "2022-07-30T15:11:16.336Z"
      },
      {
        "duration": 34,
        "start_time": "2022-07-30T15:11:16.362Z"
      },
      {
        "duration": 2450,
        "start_time": "2022-07-30T15:11:16.398Z"
      },
      {
        "duration": 6,
        "start_time": "2022-07-30T15:11:18.850Z"
      },
      {
        "duration": 272,
        "start_time": "2022-07-30T15:11:18.857Z"
      },
      {
        "duration": 7,
        "start_time": "2022-07-30T15:11:19.131Z"
      },
      {
        "duration": 195,
        "start_time": "2022-07-30T15:11:19.140Z"
      },
      {
        "duration": 185,
        "start_time": "2022-07-30T15:11:19.337Z"
      },
      {
        "duration": 24,
        "start_time": "2022-07-30T15:11:19.524Z"
      },
      {
        "duration": 29,
        "start_time": "2022-07-30T15:11:19.550Z"
      },
      {
        "duration": 30,
        "start_time": "2022-07-30T15:11:19.581Z"
      },
      {
        "duration": 152,
        "start_time": "2022-07-30T15:11:19.613Z"
      },
      {
        "duration": 8,
        "start_time": "2022-07-30T15:11:19.767Z"
      },
      {
        "duration": 10,
        "start_time": "2022-07-30T15:11:19.777Z"
      },
      {
        "duration": 193,
        "start_time": "2022-07-30T15:11:19.789Z"
      },
      {
        "duration": 8,
        "start_time": "2022-07-30T15:11:19.984Z"
      },
      {
        "duration": 177,
        "start_time": "2022-07-30T15:11:19.994Z"
      },
      {
        "duration": 8,
        "start_time": "2022-07-30T15:11:20.172Z"
      },
      {
        "duration": 11,
        "start_time": "2022-07-30T15:11:20.182Z"
      },
      {
        "duration": 14,
        "start_time": "2022-07-30T15:11:20.211Z"
      },
      {
        "duration": 11,
        "start_time": "2022-07-30T15:11:20.227Z"
      },
      {
        "duration": 26,
        "start_time": "2022-07-30T15:11:20.239Z"
      },
      {
        "duration": 23,
        "start_time": "2022-07-30T15:11:20.267Z"
      },
      {
        "duration": 54,
        "start_time": "2022-07-30T15:11:20.292Z"
      },
      {
        "duration": 5,
        "start_time": "2022-07-30T15:11:20.348Z"
      },
      {
        "duration": 29,
        "start_time": "2022-07-30T15:11:20.355Z"
      },
      {
        "duration": 17,
        "start_time": "2022-07-30T15:11:20.386Z"
      },
      {
        "duration": 9,
        "start_time": "2022-07-30T15:11:20.405Z"
      },
      {
        "duration": 56,
        "start_time": "2022-07-30T15:11:20.416Z"
      },
      {
        "duration": 48,
        "start_time": "2022-07-30T15:11:20.473Z"
      },
      {
        "duration": 38,
        "start_time": "2022-07-30T15:11:20.523Z"
      },
      {
        "duration": 1420,
        "start_time": "2022-07-31T08:52:51.945Z"
      },
      {
        "duration": 111,
        "start_time": "2022-07-31T08:52:53.367Z"
      },
      {
        "duration": 31,
        "start_time": "2022-07-31T08:52:53.480Z"
      },
      {
        "duration": 14,
        "start_time": "2022-07-31T08:52:53.513Z"
      },
      {
        "duration": 20,
        "start_time": "2022-07-31T08:52:53.529Z"
      },
      {
        "duration": 22,
        "start_time": "2022-07-31T08:52:53.550Z"
      },
      {
        "duration": 9,
        "start_time": "2022-07-31T08:52:53.574Z"
      },
      {
        "duration": 22,
        "start_time": "2022-07-31T08:52:53.586Z"
      },
      {
        "duration": 21,
        "start_time": "2022-07-31T08:52:53.612Z"
      },
      {
        "duration": 5,
        "start_time": "2022-07-31T08:52:53.636Z"
      },
      {
        "duration": 8,
        "start_time": "2022-07-31T08:52:53.643Z"
      },
      {
        "duration": 21,
        "start_time": "2022-07-31T08:52:53.653Z"
      },
      {
        "duration": 5,
        "start_time": "2022-07-31T08:52:53.676Z"
      },
      {
        "duration": 8,
        "start_time": "2022-07-31T08:52:53.703Z"
      },
      {
        "duration": 22,
        "start_time": "2022-07-31T08:52:53.713Z"
      },
      {
        "duration": 9,
        "start_time": "2022-07-31T08:52:53.737Z"
      },
      {
        "duration": 21,
        "start_time": "2022-07-31T08:52:53.747Z"
      },
      {
        "duration": 16,
        "start_time": "2022-07-31T08:52:53.770Z"
      },
      {
        "duration": 20,
        "start_time": "2022-07-31T08:52:53.788Z"
      },
      {
        "duration": 26,
        "start_time": "2022-07-31T08:52:53.809Z"
      },
      {
        "duration": 34,
        "start_time": "2022-07-31T08:52:53.837Z"
      },
      {
        "duration": 44,
        "start_time": "2022-07-31T08:52:53.873Z"
      },
      {
        "duration": 27,
        "start_time": "2022-07-31T08:53:04.492Z"
      }
    ],
    "colab": {
      "collapsed_sections": [],
      "provenance": [],
      "toc_visible": true,
      "include_colab_link": true
    },
    "kernelspec": {
      "display_name": "Python 3 (ipykernel)",
      "language": "python",
      "name": "python3"
    },
    "language_info": {
      "codemirror_mode": {
        "name": "ipython",
        "version": 3
      },
      "file_extension": ".py",
      "mimetype": "text/x-python",
      "name": "python",
      "nbconvert_exporter": "python",
      "pygments_lexer": "ipython3",
      "version": "3.9.5"
    },
    "toc": {
      "base_numbering": 1,
      "nav_menu": {},
      "number_sections": true,
      "sideBar": true,
      "skip_h1_title": true,
      "title_cell": "Table of Contents",
      "title_sidebar": "Contents",
      "toc_cell": false,
      "toc_position": {
        "height": "calc(100% - 180px)",
        "left": "10px",
        "top": "150px",
        "width": "165px"
      },
      "toc_section_display": true,
      "toc_window_display": true
    }
  },
  "nbformat": 4,
  "nbformat_minor": 0
}